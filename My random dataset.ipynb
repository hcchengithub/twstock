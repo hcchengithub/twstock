{
 "cells": [
  {
   "cell_type": "markdown",
   "metadata": {},
   "source": [
    "# 用亂數來製造行情資料\n",
    "\n"
   ]
  },
  {
   "cell_type": "code",
   "execution_count": 1,
   "metadata": {},
   "outputs": [
    {
     "name": "stdout",
     "output_type": "stream",
     "text": [
      "Using matplotlib backend: TkAgg\n",
      "Populating the interactive namespace from numpy and matplotlib\n"
     ]
    }
   ],
   "source": [
    "import numpy as np\n",
    "import pandas as pd\n",
    "import peforth\n",
    "%pylab"
   ]
  },
  {
   "cell_type": "code",
   "execution_count": null,
   "metadata": {},
   "outputs": [],
   "source": [
    "%f __main__ :> random dir . cr"
   ]
  },
  {
   "cell_type": "code",
   "execution_count": null,
   "metadata": {},
   "outputs": [],
   "source": [
    "# 0~1 之間\n",
    "help(random.random)"
   ]
  },
  {
   "cell_type": "code",
   "execution_count": null,
   "metadata": {},
   "outputs": [],
   "source": [
    "# a~b 之間\n",
    "help(random.uniform)"
   ]
  },
  {
   "cell_type": "code",
   "execution_count": null,
   "metadata": {},
   "outputs": [],
   "source": [
    "curve = [min(max(-7,int(random.uniform(-7,7)*100+50)/100),7) for i in range(100)]\n",
    "    "
   ]
  },
  {
   "cell_type": "markdown",
   "metadata": {},
   "source": [
    "# Play demo of mpl_finance\n",
    "    \n",
    "Install mpl_finance, the replacement of matplotlib.finance:\n",
    "\n",
    "    pip install https://github.com/matplotlib/mpl_finance/archive/master.zip\n",
    "    See my Ynote: \"使用 matplotlib 輕松繪制股票 K線圖\"\n",
    "\n",
    "Demo program works fine !\n",
    "\n",
    "    c:\\Users\\hcche\\Documents\\GitHub\\mpl_finance\\examples\\plot_day_summary_oclh_demo.py "
   ]
  },
  {
   "cell_type": "code",
   "execution_count": 2,
   "metadata": {},
   "outputs": [],
   "source": [
    "\"\"\"\n",
    "Show how to use plot_day_summary_oclh function\n",
    "\"\"\"\n",
    "import matplotlib.pyplot as plt\n",
    "import pandas as pd\n",
    "from matplotlib.dates import (MONDAY, DateFormatter, MonthLocator,\n",
    "                              WeekdayLocator, date2num)\n",
    "\n",
    "from mpl_finance import plot_day_summary_oclh\n",
    "\n",
    "date1 = \"2003-11-1\"\n",
    "date2 = \"2003-12-1\"\n",
    "\n",
    "# every monday\n",
    "mondays = WeekdayLocator(MONDAY)\n",
    "daysFmt = DateFormatter(\"%d %b %y\")\n",
    "\n",
    "quotes = pd.read_csv(r'c:\\Users\\hcche\\Documents\\GitHub\\mpl_finance\\examples\\data\\yahoofinance-INTC-19950101-20040412.csv',\n",
    "                     index_col=0,\n",
    "                     parse_dates=True,  # 這個厲害，第一欄被認成日期時間無誤！\n",
    "                     infer_datetime_format=True)\n",
    "\n",
    "# select desired range of dates\n",
    "quotes = quotes[(quotes.index >= date1) & (quotes.index <= date2)]\n",
    "\n",
    "\n",
    "fig, ax = plt.subplots()\n",
    "plot_day_summary_oclh(ax, zip(date2num(quotes.index.to_pydatetime()),\n",
    "                              quotes['Open'], quotes['Close'],\n",
    "                              quotes['Low'], quotes['High']),\n",
    "                      ticksize=3)\n",
    "ax.xaxis.set_major_locator(mondays)\n",
    "ax.xaxis.set_major_formatter(daysFmt)\n",
    "ax.autoscale_view()\n",
    "ax.xaxis.grid(True, 'major')\n",
    "ax.grid(True)\n",
    "\n",
    "fig.autofmt_xdate()\n",
    "\n",
    "plt.show();"
   ]
  },
  {
   "cell_type": "code",
   "execution_count": 43,
   "metadata": {},
   "outputs": [
    {
     "data": {
      "text/html": [
       "<div>\n",
       "<style>\n",
       "    .dataframe thead tr:only-child th {\n",
       "        text-align: right;\n",
       "    }\n",
       "\n",
       "    .dataframe thead th {\n",
       "        text-align: left;\n",
       "    }\n",
       "\n",
       "    .dataframe tbody tr th {\n",
       "        vertical-align: top;\n",
       "    }\n",
       "</style>\n",
       "<table border=\"1\" class=\"dataframe\">\n",
       "  <thead>\n",
       "    <tr style=\"text-align: right;\">\n",
       "      <th></th>\n",
       "      <th>Open</th>\n",
       "      <th>High</th>\n",
       "      <th>Low</th>\n",
       "      <th>Close</th>\n",
       "      <th>Adj Close</th>\n",
       "      <th>Volume</th>\n",
       "    </tr>\n",
       "    <tr>\n",
       "      <th>Date</th>\n",
       "      <th></th>\n",
       "      <th></th>\n",
       "      <th></th>\n",
       "      <th></th>\n",
       "      <th></th>\n",
       "      <th></th>\n",
       "    </tr>\n",
       "  </thead>\n",
       "  <tbody>\n",
       "    <tr>\n",
       "      <th>2003-11-03</th>\n",
       "      <td>33.330002</td>\n",
       "      <td>34.110001</td>\n",
       "      <td>33.150002</td>\n",
       "      <td>34.040001</td>\n",
       "      <td>23.278347</td>\n",
       "      <td>53324900</td>\n",
       "    </tr>\n",
       "    <tr>\n",
       "      <th>2003-11-04</th>\n",
       "      <td>33.910000</td>\n",
       "      <td>34.000000</td>\n",
       "      <td>33.570000</td>\n",
       "      <td>33.680000</td>\n",
       "      <td>23.032162</td>\n",
       "      <td>42009400</td>\n",
       "    </tr>\n",
       "  </tbody>\n",
       "</table>\n",
       "</div>"
      ],
      "text/plain": [
       "                 Open       High        Low      Close  Adj Close    Volume\n",
       "Date                                                                       \n",
       "2003-11-03  33.330002  34.110001  33.150002  34.040001  23.278347  53324900\n",
       "2003-11-04  33.910000  34.000000  33.570000  33.680000  23.032162  42009400"
      ]
     },
     "execution_count": 43,
     "metadata": {},
     "output_type": "execute_result"
    }
   ],
   "source": [
    "# quotes.index < '2003-11-07' \n",
    "head = quotes.query('index <= \"2003-11-04\"')\n",
    "head"
   ]
  },
  {
   "cell_type": "markdown",
   "metadata": {},
   "source": [
    "前面 read_csv() 有指定要 pandas 判讀 parse_dates 它真的就正確地把第一欄讀成 <class 'pandas._libs.tslib.Timestamp'> 無誤。\n",
    "\n",
    "    __main__ :> quotes.index . cr \n",
    "    ==> DatetimeIndex(['2003-11-03', '2003-11-04'], dtype='datetime64[ns]', name='Date', freq=None)\n",
    "    OK __main__ :> quotes.index[0] . cr ==> 2003-11-03 00:00:00\n",
    "    OK __main__ :> quotes.index[0].to_pydatetime() . cr ==> 2003-11-03 00:00:00\n",
    "    OK __main__ :> quotes.index[0].to_pydatetime() type . cr ==> <class 'datetime.datetime'>\n",
    "    OK __main__ :> quotes.index[0] type . cr ==> <class 'pandas._libs.tslib.Timestamp'>\n"
   ]
  },
  {
   "cell_type": "markdown",
   "metadata": {},
   "source": [
    "# 使用matplotlib轻松绘制股票K线图\n",
    "\n",
    "    https://zhuanlan.zhihu.com/p/24282861"
   ]
  },
  {
   "cell_type": "code",
   "execution_count": 22,
   "metadata": {},
   "outputs": [
    {
     "name": "stdout",
     "output_type": "stream",
     "text": [
      "Automatic pdb calling has been turned OFF\n"
     ]
    }
   ],
   "source": [
    "%pdb off\n",
    "from mpl_finance import candlestick_ohlc\n",
    "import datetime\n",
    "import matplotlib.dates as mdates\n",
    "\n",
    "\n",
    "# 设置历史数据区间\n",
    "# date1 = (2003,11,3) # 起始日期，格式：(年，月，日)元组\n",
    "# date2 = (2003,11,10)  # 结束日期，格式：(年，月，日)元组\n",
    "# 从雅虎财经中获取股票代码601558的历史行情\n",
    "# (用上面的) quotes = mpf.quotes_historical_yahoo_ohlc('601558.ss', date1, date2)\n",
    "\n",
    "date1 = \"2003-11-1\"\n",
    "date2 = \"2004-11-1\"\n",
    "\n",
    "quotes = pd.read_csv(r'c:\\Users\\hcche\\Documents\\GitHub\\mpl_finance\\examples\\data\\yahoofinance-INTC-19950101-20040412.csv',\n",
    "                     index_col=0,\n",
    "                     # header=0,\n",
    "                     # names=['date','open','high','low','close','adj close','volume'],\n",
    "                     parse_dates=True,\n",
    "                     infer_datetime_format=True)\n",
    "# select desired range of dates\n",
    "quotes = quotes[(quotes.index >= date1) & (quotes.index <= date2)]\n"
   ]
  },
  {
   "cell_type": "code",
   "execution_count": 48,
   "metadata": {},
   "outputs": [],
   "source": [
    "# 创建一个子图 \n",
    "fig, ax = subplots(facecolor=(0.5, 0.5, 0.5))\n",
    "fig.subplots_adjust(bottom=0.2)\n",
    "# 设置X轴刻度为日期时间\n",
    "ax.xaxis_date()\n",
    "# X轴刻度文字倾斜45度\n",
    "xticks(rotation=45)\n",
    "title(\"股票代碼：601558兩年K線圖\")\n",
    "xlabel(\"時間\")\n",
    "ylabel(\"股價（元）\")\n",
    "# candlestick_ohlc(ax,quotes,width=1.2,colorup='r',colordown='green', alpha=1.0)\n",
    "candlestick_ohlc(ax,\n",
    "                 zip(date2num(quotes.index.to_pydatetime()),\n",
    "                              quotes['Open'], quotes['High'], \n",
    "                              quotes['Low'], quotes['Close']),\n",
    "                 width=0.2)\n",
    "grid(True);"
   ]
  },
  {
   "cell_type": "markdown",
   "metadata": {},
   "source": [
    "# A demo that works fine \n",
    "\n",
    "from https://stackoverflow.com/questions/49250925/issue-when-trying-to-create-candlestick-chart-using-candlestick-ohlc"
   ]
  },
  {
   "cell_type": "code",
   "execution_count": 32,
   "metadata": {},
   "outputs": [],
   "source": [
    "import datetime\n",
    "import matplotlib.pyplot as plt\n",
    "from mpl_finance import candlestick_ohlc\n",
    "import matplotlib.dates as mdates"
   ]
  },
  {
   "cell_type": "code",
   "execution_count": 36,
   "metadata": {},
   "outputs": [],
   "source": [
    "ohlc = [[1502928000000, 4261.48, 4485.39, 4200.74, 4285.08, 795.150377], \n",
    "        [1503014400000, 4285.08, 4371.52, 3938.77, 4108.37, 1199.888264], \n",
    "        [1503100800000, 4108.37, 4184.69, 3850.0, 4139.98, 381.309763], \n",
    "        [1503187200000, 4120.98, 4211.08, 4032.62, 4086.29, 467.083022], \n",
    "        [1503273600000, 4069.13, 4119.62, 3911.79, 4016.0, 691.74306], \n",
    "        [1503360000000, 4016.0, 4104.82, 3400.0, 4040.0, 966.684858], \n",
    "        [1503446400000, 4040.0, 4265.8, 4013.89, 4114.01, 1001.136565], \n",
    "        [1503532800000, 4147.0, 4371.68, 4085.01, 4316.01, 787.418753]]"
   ]
  },
  {
   "cell_type": "code",
   "execution_count": 37,
   "metadata": {
    "scrolled": true
   },
   "outputs": [],
   "source": [
    "for row in ohlc:\n",
    "    row[0] = mdates.date2num(datetime.datetime.fromtimestamp(row[0]/1000.))\n",
    "\n",
    "fig = plt.figure()\n",
    "ax1 = plt.subplot2grid((1,1), (0,0))\n",
    "candlestick_ohlc(ax1,ohlc,width=0.2)\n",
    "\n",
    "date_fmt = '%d-%m-%y %H:%M:%S'\n",
    "fig.subplots_adjust(bottom=0.2)\n",
    "\n",
    "ax1.xaxis.set_major_formatter(mdates.DateFormatter('%y-%m-%d'))\n",
    "\n",
    "for label in ax1.xaxis.get_ticklabels():\n",
    "    label.set_rotation(45)\n",
    "plt.xlabel('Date')\n",
    "plt.ylabel('Price')\n",
    "plt.show();"
   ]
  },
  {
   "cell_type": "markdown",
   "metadata": {},
   "source": [
    "    ------------------ Debug Log -------------------------------------------------"
   ]
  },
  {
   "cell_type": "markdown",
   "metadata": {},
   "source": [
    "### 套用上面來的 quotes 看看。。。 \n",
    "\n",
    "結果這才發現我先前的 ohlc 順序不對，所以畫出來的圖怪異"
   ]
  },
  {
   "cell_type": "code",
   "execution_count": 44,
   "metadata": {
    "scrolled": true
   },
   "outputs": [],
   "source": [
    "fig = plt.figure()\n",
    "ax1 = plt.subplot2grid((1,1), (0,0))\n",
    "candlestick_ohlc(ax1,zip(date2num(quotes.index.to_pydatetime()),\n",
    "                              quotes['Open'], quotes['High'], \n",
    "                              quotes['Low'], quotes['Close']),\n",
    "                 width=0.2)\n",
    "\n",
    "date_fmt = '%d-%m-%y %H:%M:%S'\n",
    "fig.subplots_adjust(bottom=0.2)\n",
    "\n",
    "ax1.xaxis.set_major_formatter(mdates.DateFormatter('%y-%m-%d'))\n",
    "\n",
    "for label in ax1.xaxis.get_ticklabels():\n",
    "    label.set_rotation(45)\n",
    "plt.xlabel('Date')\n",
    "plt.ylabel('Price')\n",
    "plt.show();"
   ]
  },
  {
   "cell_type": "markdown",
   "metadata": {},
   "source": [
    "This problem:\n",
    "\n",
    "    c:\\users\\hcche\\appdata\\local\\programs\\python\\python36\\lib\\site-packages\\mpl_finance.py in _candlestick(ax, quotes, width, colorup, colordown, alpha, ochl)\n",
    "        281             t, open, close, high, low = q[:5]\n",
    "        282         else:\n",
    "    --> 283             t, open, high, low, close = q[:5]\n",
    "        284 \n",
    "        285         if close >= open:\n",
    "    \n",
    "    ValueError: not enough values to unpack (expected 5, got 4)\n",
    "\n",
    "Has a working demo as the solution :\n",
    "\n",
    "    https://stackoverflow.com/questions/49250925/issue-when-trying-to-create-candlestick-chart-using-candlestick-ohlc\n",
    "\n",
    "But the root cause is :\n",
    "\n",
    "    # can't use quotes directly this way:\n",
    "    candlestick_ohlc(ax,quotes,width=1.2,colorup='r',colordown='green', alpha=1.0)\n",
    "    \n",
    "    # This is the correct way\n",
    "    candlestick_ohlc(ax,\n",
    "                 zip(date2num(quotes.index.to_pydatetime()),\n",
    "                              quotes['Open'], quotes['High'], \n",
    "                              quotes['Low'], quotes['Close']),\n",
    "                 width=0.6,colorup='r',colordown='g', alpha=1)\n",
    "\n"
   ]
  },
  {
   "cell_type": "code",
   "execution_count": null,
   "metadata": {},
   "outputs": [],
   "source": [
    "%f __main__ :> ohlc type . cr\n",
    "np.array(ohlc).shape    \n",
    "for row in ohlc:\n",
    "    # row[0] = mdates.date2num(datetime.datetime.fromtimestamp(row[0]/1000.))\n",
    "    peforth.push(row).ok()\n",
    "    break\n",
    "    \n",
    "    "
   ]
  },
  {
   "cell_type": "code",
   "execution_count": null,
   "metadata": {},
   "outputs": [],
   "source": [
    "row = [1502928000000, 4261.48, 4485.39, 4200.74, 4285.08, 795.150377]\n",
    "mdates.date2num(datetime.datetime.fromtimestamp(row[0]/1000.))"
   ]
  },
  {
   "cell_type": "code",
   "execution_count": null,
   "metadata": {},
   "outputs": [],
   "source": [
    "datetime.datetime.fromtimestamp(row[0]/1000)"
   ]
  },
  {
   "cell_type": "code",
   "execution_count": null,
   "metadata": {
    "scrolled": true
   },
   "outputs": [],
   "source": [
    "mdates.date2num(datetime.datetime.fromtimestamp(row[0]/1000))"
   ]
  },
  {
   "cell_type": "code",
   "execution_count": null,
   "metadata": {},
   "outputs": [],
   "source": [
    "quotes.index.to_pydatetime()"
   ]
  },
  {
   "cell_type": "code",
   "execution_count": null,
   "metadata": {},
   "outputs": [],
   "source": [
    "mdates.date2num(quotes.index.to_pydatetime())"
   ]
  },
  {
   "cell_type": "code",
   "execution_count": null,
   "metadata": {},
   "outputs": [],
   "source": [
    "quotes.date"
   ]
  },
  {
   "cell_type": "code",
   "execution_count": null,
   "metadata": {},
   "outputs": [],
   "source": [
    "# datetime.datetime.strftime('1999.1.1')\n",
    "# https://stackoverflow.com/questions/466345/converting-string-into-datetime\n",
    "datetime.datetime.strptime('2005-03-01    1:33PM', '%Y-%m-%d %I:%M%p')"
   ]
  },
  {
   "cell_type": "code",
   "execution_count": null,
   "metadata": {},
   "outputs": [],
   "source": [
    "datetime.datetime.strptime('2005-03-01', '%Y-%m-%d')"
   ]
  },
  {
   "cell_type": "code",
   "execution_count": null,
   "metadata": {},
   "outputs": [],
   "source": [
    "[mdates.date2num(datetime.datetime.strptime(d, '%Y-%m-%d')) for d in quotes.date]"
   ]
  },
  {
   "cell_type": "code",
   "execution_count": null,
   "metadata": {},
   "outputs": [],
   "source": [
    "quotes.date = [mdates.date2num(datetime.datetime.strptime(d, '%Y-%m-%d')) for d in quotes.date]"
   ]
  },
  {
   "cell_type": "code",
   "execution_count": null,
   "metadata": {},
   "outputs": [],
   "source": [
    "dict(quotes)"
   ]
  }
 ],
 "metadata": {
  "kernelspec": {
   "display_name": "Python 3",
   "language": "python",
   "name": "python3"
  },
  "language_info": {
   "codemirror_mode": {
    "name": "ipython",
    "version": 3
   },
   "file_extension": ".py",
   "mimetype": "text/x-python",
   "name": "python",
   "nbconvert_exporter": "python",
   "pygments_lexer": "ipython3",
   "version": "3.6.0"
  }
 },
 "nbformat": 4,
 "nbformat_minor": 2
}
