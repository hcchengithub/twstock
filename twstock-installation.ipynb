{
 "cells": [
  {
   "cell_type": "markdown",
   "metadata": {},
   "source": [
    "### 手動安裝 twstock (透過原始碼)\n",
    "取得原始碼後並且進入 twstock 之資料夾後，如果沒有安裝過 flit， 請先透過 pip 安裝:\n",
    "\n",
    "    $ pip install flit\n",
    "\n",
    "接著透過 flit 即可安裝 twstock:\n",
    "\n",
    "    $ flit install"
   ]
  },
  {
   "cell_type": "code",
   "execution_count": 2,
   "metadata": {},
   "outputs": [
    {
     "name": "stdout",
     "output_type": "stream",
     "text": [
      "Collecting flit\n",
      "  Downloading https://files.pythonhosted.org/packages/49/73/a88f6c7421fd9d34dd756f6ca767cbaea6660e57d7cdd8e1fd1f230caeb1/flit-1.0-py3-none-any.whl (156kB)\n",
      "Collecting requests (from flit)\n",
      "  Downloading https://files.pythonhosted.org/packages/49/df/50aa1999ab9bde74656c2919d9c0c085fd2b3775fd3eca826012bef76d8c/requests-2.18.4-py2.py3-none-any.whl (88kB)\n",
      "Collecting requests_download (from flit)\n",
      "  Downloading https://files.pythonhosted.org/packages/ad/a6/48f0af75cc62dc0b57013820d76c453962dc9ba1fffcfe4381b810b691bb/requests_download-0.1.2-py2.py3-none-any.whl\n",
      "Collecting docutils (from flit)\n",
      "  Downloading https://files.pythonhosted.org/packages/36/fa/08e9e6e0e3cbd1d362c3bbee8d01d0aedb2155c4ac112b19ef3cae8eed8d/docutils-0.14-py3-none-any.whl (543kB)\n",
      "Collecting pytoml (from flit)\n",
      "  Downloading https://files.pythonhosted.org/packages/6d/2a/c5a0eb781cff59df8613a531f07f9d82bb47ea595aa91c6f114f1621a94a/pytoml-0.1.14.tar.gz\n",
      "Collecting chardet<3.1.0,>=3.0.2 (from requests->flit)\n",
      "  Downloading https://files.pythonhosted.org/packages/bc/a9/01ffebfb562e4274b6487b4bb1ddec7ca55ec7510b22e4c51f14098443b8/chardet-3.0.4-py2.py3-none-any.whl (133kB)\n",
      "Collecting certifi>=2017.4.17 (from requests->flit)\n",
      "  Downloading https://files.pythonhosted.org/packages/7c/e6/92ad559b7192d846975fc916b65f667c7b8c3a32bea7372340bfe9a15fa5/certifi-2018.4.16-py2.py3-none-any.whl (150kB)\n",
      "Collecting idna<2.7,>=2.5 (from requests->flit)\n",
      "  Downloading https://files.pythonhosted.org/packages/27/cc/6dd9a3869f15c2edfab863b992838277279ce92663d334df9ecf5106f5c6/idna-2.6-py2.py3-none-any.whl (56kB)\n",
      "Collecting urllib3<1.23,>=1.21.1 (from requests->flit)\n",
      "  Downloading https://files.pythonhosted.org/packages/63/cb/6965947c13a94236f6d4b8223e21beb4d576dc72e8130bd7880f600839b8/urllib3-1.22-py2.py3-none-any.whl (132kB)\n",
      "Installing collected packages: chardet, certifi, idna, urllib3, requests, requests-download, docutils, pytoml, flit\n",
      "  Running setup.py install for pytoml: started\n",
      "    Running setup.py install for pytoml: finished with status 'done'\n",
      "Successfully installed certifi-2018.4.16 chardet-3.0.4 docutils-0.14 flit-1.0 idna-2.6 pytoml-0.1.14 requests-2.18.4 requests-download-0.1.2 urllib3-1.22\n"
     ]
    },
    {
     "name": "stderr",
     "output_type": "stream",
     "text": [
      "  The script chardetect.exe is installed in 'c:\\users\\hcche\\appdata\\local\\programs\\python\\python36\\Scripts' which is not on PATH.\n",
      "  Consider adding this directory to PATH or, if you prefer to suppress this warning, use --no-warn-script-location.\n",
      "  The script flit.exe is installed in 'c:\\users\\hcche\\appdata\\local\\programs\\python\\python36\\Scripts' which is not on PATH.\n",
      "  Consider adding this directory to PATH or, if you prefer to suppress this warning, use --no-warn-script-location.\n"
     ]
    }
   ],
   "source": [
    "!pip install flit"
   ]
  },
  {
   "cell_type": "code",
   "execution_count": 3,
   "metadata": {
    "scrolled": false
   },
   "outputs": [
    {
     "name": "stdout",
     "output_type": "stream",
     "text": [
      "PATH=C:\\WINDOWS\\system32;C:\\WINDOWS;C:\\WINDOWS\\System32\\Wbem;C:\\WINDOWS\\System32\\WindowsPowerShell\\v1.0\\;C:\\Users\\hcche\\AppData\\Local\\Programs\\Python\\Python36\\Scripts\\;C:\\Users\\hcche\\AppData\\Local\\Programs\\Python\\Python36\\;C:\\Users\\hcche\\AppData\\Local\\Microsoft\\WindowsApps;C:\\Users\\hcche\\AppData\\Local\\GitHubDesktop\\bin;c:\\Users\\hcche\\Documents\\GitHub\\jeforth\\jeforth.3hta;c:\\Users\\hcche\\Documents\\GitHub\\jeforth\\jeforth.3wa;\n"
     ]
    }
   ],
   "source": [
    "!path"
   ]
  },
  {
   "cell_type": "code",
   "execution_count": 4,
   "metadata": {},
   "outputs": [
    {
     "name": "stdout",
     "output_type": "stream",
     "text": [
      "Processing c:\\users\\hcche\\appdata\\local\\temp\\tmpqkt7qwmp\\twstock-1.1.0-py3-none-any.whl\n",
      "Requirement already satisfied: requests in c:\\users\\hcche\\appdata\\local\\programs\\python\\python36\\lib\\site-packages (from twstock==1.1.0) (2.18.4)\n",
      "Requirement already satisfied: chardet<3.1.0,>=3.0.2 in c:\\users\\hcche\\appdata\\local\\programs\\python\\python36\\lib\\site-packages (from requests->twstock==1.1.0) (3.0.4)\n",
      "Requirement already satisfied: certifi>=2017.4.17 in c:\\users\\hcche\\appdata\\local\\programs\\python\\python36\\lib\\site-packages (from requests->twstock==1.1.0) (2018.4.16)\n",
      "Requirement already satisfied: idna<2.7,>=2.5 in c:\\users\\hcche\\appdata\\local\\programs\\python\\python36\\lib\\site-packages (from requests->twstock==1.1.0) (2.6)\n",
      "Requirement already satisfied: urllib3<1.23,>=1.21.1 in c:\\users\\hcche\\appdata\\local\\programs\\python\\python36\\lib\\site-packages (from requests->twstock==1.1.0) (1.22)\n",
      "Installing collected packages: twstock\n",
      "Successfully installed twstock-1.1.0\n"
     ]
    },
    {
     "name": "stderr",
     "output_type": "stream",
     "text": [
      "Fetching list of valid trove classifiers               I-flit.validate\n",
      "Copying package file(s) from twstock                      I-flit.wheel\n",
      "Writing metadata files                                    I-flit.wheel\n",
      "Writing the record of files                               I-flit.wheel\n",
      "  The script twstock.exe is installed in 'c:\\users\\hcche\\appdata\\local\\programs\\python\\python36\\Scripts' which is not on PATH.\n",
      "  Consider adding this directory to PATH or, if you prefer to suppress this warning, use --no-warn-script-location.\n"
     ]
    }
   ],
   "source": [
    "!flit install"
   ]
  }
 ],
 "metadata": {
  "kernelspec": {
   "display_name": "Python 3",
   "language": "python",
   "name": "python3"
  },
  "language_info": {
   "codemirror_mode": {
    "name": "ipython",
    "version": 3
   },
   "file_extension": ".py",
   "mimetype": "text/x-python",
   "name": "python",
   "nbconvert_exporter": "python",
   "pygments_lexer": "ipython3",
   "version": "3.6.0"
  }
 },
 "nbformat": 4,
 "nbformat_minor": 2
}
