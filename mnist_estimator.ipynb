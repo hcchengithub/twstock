{
 "cells": [
  {
   "cell_type": "markdown",
   "metadata": {},
   "source": [
    "# [Use Tensorflow DNNClassifier estimator to classify MNIST dataset](https://codeburst.io/use-tensorflow-dnnclassifier-estimator-to-classify-mnist-dataset-a7222bf9f940)\n",
    "\n",
    "原文很老了，跑出很多 deprecated warning. 分析 150 天行情資料需要用到同樣的技術。\n",
    "\n",
    "不用再花時間上網重複抓 mnist dataset 只要 copy 那四個 .gz 檔案 \n",
    "\n",
    "    t10k-images-idx3-ubyte.gz \n",
    "    t10k-labels-idx1-ubyte.gz \n",
    "    train-images-idx3-ubyte.gz \n",
    "    train-labels-idx1-ubyte.gz\n",
    "\n",
    "到 working directory 之下的 MNIST_data/ 裡去即可 <-- 查出這個位置的方法是，隨便讓它跑一次就會在 working directory 下 created."
   ]
  },
  {
   "cell_type": "code",
   "execution_count": 1,
   "metadata": {},
   "outputs": [],
   "source": [
    "import tensorflow as tf\n",
    "import numpy as np\n",
    "from tensorflow.examples.tutorials.mnist import input_data\n",
    "import peforth"
   ]
  },
  {
   "cell_type": "code",
   "execution_count": 2,
   "metadata": {},
   "outputs": [
    {
     "name": "stdout",
     "output_type": "stream",
     "text": [
      "reDef unknown\n",
      "reDef \\\n"
     ]
    }
   ],
   "source": [
    "%%f  Now we redefine the 'unknown' command that was doing nothing\n",
    "     : unknown ( token -- thing Y|N) // Try to find the unknown token in __main__\n",
    "       py> getattr(sys.modules['__main__'],pop(),\"Ûnknôwn\") \n",
    "       py> str(tos())==\"Ûnknôwn\" if drop false else true then ;\n",
    "         \n",
    "     \\ here after, when FORTH come accross an unknown token, instead of an error \n",
    "     \\ message, it try to find the token in python __main__ module name space.\n",
    "\n",
    "     \\ Redefine \\ commant to print it \n",
    "     code \\ print(nexttoken('\\n')) end-code "
   ]
  },
  {
   "cell_type": "code",
   "execution_count": 3,
   "metadata": {},
   "outputs": [
    {
     "name": "stdout",
     "output_type": "stream",
     "text": [
      "WARNING:tensorflow:From <ipython-input-3-642fee199bab>:5: read_data_sets (from tensorflow.contrib.learn.python.learn.datasets.mnist) is deprecated and will be removed in a future version.\n",
      "Instructions for updating:\n",
      "Please use alternatives such as official/mnist/dataset.py from tensorflow/models.\n",
      "WARNING:tensorflow:From c:\\users\\hcche\\appdata\\local\\programs\\python\\python36\\lib\\site-packages\\tensorflow\\contrib\\learn\\python\\learn\\datasets\\mnist.py:260: maybe_download (from tensorflow.contrib.learn.python.learn.datasets.base) is deprecated and will be removed in a future version.\n",
      "Instructions for updating:\n",
      "Please write your own downloading logic.\n",
      "WARNING:tensorflow:From c:\\users\\hcche\\appdata\\local\\programs\\python\\python36\\lib\\site-packages\\tensorflow\\contrib\\learn\\python\\learn\\datasets\\mnist.py:262: extract_images (from tensorflow.contrib.learn.python.learn.datasets.mnist) is deprecated and will be removed in a future version.\n",
      "Instructions for updating:\n",
      "Please use tf.data to implement this functionality.\n",
      "Extracting MNIST_data\\train-images-idx3-ubyte.gz\n",
      "WARNING:tensorflow:From c:\\users\\hcche\\appdata\\local\\programs\\python\\python36\\lib\\site-packages\\tensorflow\\contrib\\learn\\python\\learn\\datasets\\mnist.py:267: extract_labels (from tensorflow.contrib.learn.python.learn.datasets.mnist) is deprecated and will be removed in a future version.\n",
      "Instructions for updating:\n",
      "Please use tf.data to implement this functionality.\n",
      "Extracting MNIST_data\\train-labels-idx1-ubyte.gz\n",
      "Extracting MNIST_data\\t10k-images-idx3-ubyte.gz\n",
      "Extracting MNIST_data\\t10k-labels-idx1-ubyte.gz\n",
      "WARNING:tensorflow:From c:\\users\\hcche\\appdata\\local\\programs\\python\\python36\\lib\\site-packages\\tensorflow\\contrib\\learn\\python\\learn\\datasets\\mnist.py:290: DataSet.__init__ (from tensorflow.contrib.learn.python.learn.datasets.mnist) is deprecated and will be removed in a future version.\n",
      "Instructions for updating:\n",
      "Please use alternatives such as official/mnist/dataset.py from tensorflow/models.\n"
     ]
    },
    {
     "data": {
      "text/plain": [
       "\"\\nmnist :> test.labels[0] type ==> <class 'numpy.uint8'> 要轉成 np.int32\\nmnist :> test.images.shape   ==> (10000, 784)\\nmnist :> test.images[0] type ==> <class 'numpy.ndarray'>\\nmnist :> test.images[0][0] type ==> <class 'numpy.float32'>\\n\""
      ]
     },
     "execution_count": 3,
     "metadata": {},
     "output_type": "execute_result"
    }
   ],
   "source": [
    "# 不用在花時間上網重複抓 mnist dataset 只要 copy 那四個 .gz 檔案 \n",
    "# t10k-images-idx3-ubyte.gz t10k-labels-idx1-ubyte.gz train-images-idx3-ubyte.gz train-labels-idx1-ubyte.gz\n",
    "# 到 working directory 之下的 MNIST_data/ 裡去即可。\n",
    "\n",
    "mnist = input_data.read_data_sets('MNIST_data')\n",
    "\n",
    "def input(dataset):\n",
    "    '''\n",
    "    傳回 mnist.test mnist.train mnist.validation 看哪個 dataset 當中的 (feature,label) \n",
    "    '''\n",
    "    return dataset.images, dataset.labels.astype(np.int32)\n",
    "    # where dataset is i.e. mnist.test or mnist.train or mnist.validation\n",
    "\n",
    "'''\n",
    "mnist :> test.labels[0] type ==> <class 'numpy.uint8'> 要轉成 np.int32\n",
    "mnist :> test.images.shape   ==> (10000, 784)\n",
    "mnist :> test.images[0] type ==> <class 'numpy.ndarray'>\n",
    "mnist :> test.images[0][0] type ==> <class 'numpy.float32'>\n",
    "'''"
   ]
  },
  {
   "cell_type": "markdown",
   "metadata": {},
   "source": [
    "可參考 GitHub\\workshops\\notebooks\\1-mnist-with-keras.ipynb 看新的怎麼做\n",
    "\n",
    "    WARNING:tensorflow:From <ipython-input-2-f61e226d87df>:1: read_data_sets (from tensorflow.contrib.learn.python.learn.datasets.mnist) is deprecated and will be removed in a future version.\n",
    "    Instructions for updating:\n",
    "    Please use alternatives such as official/mnist/dataset.py from tensorflow/models.\n",
    "    WARNING:tensorflow:From c:\\users\\hcche\\appdata\\local\\programs\\python\\python36\\lib\\site-packages\\tensorflow\\contrib\\learn\\python\\learn\\datasets\\mnist.py:260: maybe_download (from tensorflow.contrib.learn.python.learn.datasets.base) is deprecated and will be removed in a future version.\n",
    "    Instructions for updating:\n",
    "    Please write your own downloading logic.\n",
    "    WARNING:tensorflow:From c:\\users\\hcche\\appdata\\local\\programs\\python\\python36\\lib\\site-packages\\tensorflow\\contrib\\learn\\python\\learn\\datasets\\base.py:252: _internal_retry.<locals>.wrap.<locals>.wrapped_fn (from tensorflow.contrib.learn.python.learn.datasets.base) is deprecated and will be removed in a future version.\n",
    "    Instructions for updating:\n",
    "    Please use urllib or similar directly.\n",
    "    Successfully downloaded train-images-idx3-ubyte.gz 9912422 bytes.\n",
    "    WARNING:tensorflow:From c:\\users\\hcche\\appdata\\local\\programs\\python\\python36\\lib\\site-packages\\tensorflow\\contrib\\learn\\python\\learn\\datasets\\mnist.py:262: extract_images (from tensorflow.contrib.learn.python.learn.datasets.mnist) is deprecated and will be removed in a future version.\n",
    "    Instructions for updating:\n",
    "    Please use tf.data to implement this functionality.\n",
    "    Extracting MNIST_data\\train-images-idx3-ubyte.gz\n",
    "    Successfully downloaded train-labels-idx1-ubyte.gz 28881 bytes.\n",
    "    WARNING:tensorflow:From c:\\users\\hcche\\appdata\\local\\programs\\python\\python36\\lib\\site-packages\\tensorflow\\contrib\\learn\\python\\learn\\datasets\\mnist.py:267: extract_labels (from tensorflow.contrib.learn.python.learn.datasets.mnist) is deprecated and will be removed in a future version.\n",
    "    Instructions for updating:\n",
    "    Please use tf.data to implement this functionality.\n",
    "    Extracting MNIST_data\\train-labels-idx1-ubyte.gz\n",
    "    Successfully downloaded t10k-images-idx3-ubyte.gz 1648877 bytes.\n",
    "    Extracting MNIST_data\\t10k-images-idx3-ubyte.gz\n",
    "    Successfully downloaded t10k-labels-idx1-ubyte.gz 4542 bytes.\n",
    "    Extracting MNIST_data\\t10k-labels-idx1-ubyte.gz\n",
    "    WARNING:tensorflow:From c:\\users\\hcche\\appdata\\local\\programs\\python\\python36\\lib\\site-packages\\tensorflow\\contrib\\learn\\python\\learn\\datasets\\mnist.py:290: DataSet.__init__ (from tensorflow.contrib.learn.python.learn.datasets.mnist) is deprecated and will be removed in a future version.\n",
    "    Instructions for updating:\n",
    "    Please use alternatives such as official/mnist/dataset.py from tensorflow/models."
   ]
  },
  {
   "cell_type": "code",
   "execution_count": 4,
   "metadata": {},
   "outputs": [],
   "source": [
    "# Specify feature\n",
    "feature_columns = [tf.feature_column.numeric_column(\"x\", shape=[28, 28])]"
   ]
  },
  {
   "cell_type": "code",
   "execution_count": 5,
   "metadata": {},
   "outputs": [
    {
     "name": "stdout",
     "output_type": "stream",
     "text": [
      "[_NumericColumn(key='xx', shape=(8, 8), default_value=None, dtype=tf.float32, normalizer_fn=None)]\n",
      "\"xx\" 可以亂寫\n",
      "<class 'list'>\n",
      "<class 'list'>\n",
      "這玩意兒應該是 iterator 之類的東西 ==> 錯! 它是個 class\n",
      "<class 'tensorflow.python.feature_column.feature_column._NumericColumn'>\n",
      "[_NumericColumn(key='abc', shape=(8, 8), default_value=None, dtype=tf.float32, normalizer_fn=None)]\n",
      "把這個 class 放進 [...] 裡去，似乎有點 new 出來的味道，但 \"xx\" 是亂寫的故不然。\n",
      "總之，這已經解答了 150 天行情該怎麼表達的問題。答案是:\n",
      "[_NumericColumn(key='day150', shape=(150, 5), default_value=None, dtype=tf.float32, normalizer_fn=None)]\n",
      "比土土的 750 flattend 要有意義。 \n"
     ]
    }
   ],
   "source": [
    "%%f 查看上面這 feature_columns 啥玩意兒?\n",
    "tf py> [pop().feature_column.numeric_column(\"xx\",shape=[8,8])] dup . cr \\ \"xx\" 可以亂寫\n",
    "type . cr \n",
    "feature_columns type . cr\n",
    "\\ 這玩意兒應該是 iterator 之類的東西 ==> 錯! 它是個 class\n",
    "tf :> feature_column.numeric_column(\"abc\",shape=[8,8]) dup ( 留一份 ) type . cr\n",
    "py> [pop()] . cr \\ 把這個 class 放進 [...] 裡去，似乎有點 new 出來的味道，但 \"xx\" 是亂寫的故不然。\n",
    "\n",
    "\\ 總之，這已經解答了 150 天行情該怎麼表達的問題。答案是:\n",
    "tf py> [pop().feature_column.numeric_column(\"day150\",shape=[150,5])] dup . cr\n",
    "\\ 比土土的 750 flattend 要有意義。 "
   ]
  },
  {
   "cell_type": "code",
   "execution_count": 6,
   "metadata": {},
   "outputs": [
    {
     "name": "stdout",
     "output_type": "stream",
     "text": [
      "INFO:tensorflow:Using default config.\n",
      "INFO:tensorflow:Using config: {'_model_dir': 'model/mnist_model', '_tf_random_seed': None, '_save_summary_steps': 100, '_save_checkpoints_steps': None, '_save_checkpoints_secs': 600, '_session_config': None, '_keep_checkpoint_max': 5, '_keep_checkpoint_every_n_hours': 10000, '_log_step_count_steps': 100, '_train_distribute': None, '_service': None, '_cluster_spec': <tensorflow.python.training.server_lib.ClusterSpec object at 0x0000028B88E88828>, '_task_type': 'worker', '_task_id': 0, '_global_id_in_cluster': 0, '_master': '', '_evaluation_master': '', '_is_chief': True, '_num_ps_replicas': 0, '_num_worker_replicas': 1}\n"
     ]
    }
   ],
   "source": [
    "# Build 2 layer DNN classifier\n",
    "classifier = tf.estimator.DNNClassifier(\n",
    "    feature_columns=feature_columns,\n",
    "    hidden_units=[256, 32],\n",
    "    # optimizer=tf.train.AdamOptimizer(1e-4),\n",
    "    n_classes=10,\n",
    "    dropout=0.1,\n",
    "    model_dir=\"model/mnist_model\"\n",
    "    )"
   ]
  },
  {
   "cell_type": "code",
   "execution_count": 7,
   "metadata": {},
   "outputs": [
    {
     "name": "stdout",
     "output_type": "stream",
     "text": [
      "看清楚等下要用的 x y 啥東西\n",
      "x :> ['x'].shape tib. \\ ==> (55000, 784) (<class 'tuple'>)\n",
      "x :> ['x'][:4] tib. \\ ==> [[ 0.  0.  0. ...,  0.  0.  0.]\n",
      " [ 0.  0.  0. ...,  0.  0.  0.]\n",
      " [ 0.  0.  0. ...,  0.  0.  0.]\n",
      " [ 0.  0.  0. ...,  0.  0.  0.]] (<class 'numpy.ndarray'>)\n",
      "y :> shape tib. \\ ==> (55000,) (<class 'tuple'>)\n",
      "[7 3 4 6 1 8 1 0 9 8]\n"
     ]
    }
   ],
   "source": [
    "%f \\ 看清楚等下要用的 x y 啥東西\n",
    "x = {\"x\": input(mnist.train)[0]}\n",
    "y = input(mnist.train)[1]\n",
    "%f x :> ['x'].shape tib.\n",
    "%f x :> ['x'][:4] tib.\n",
    "%f y :> shape tib.\n",
    "%f y :> [:10] . cr\n",
    "    "
   ]
  },
  {
   "cell_type": "code",
   "execution_count": 8,
   "metadata": {},
   "outputs": [],
   "source": [
    "# Define the training inputs\n",
    "train_input_fn = tf.estimator.inputs.numpy_input_fn(\n",
    "    x={\"x\": input(mnist.train)[0]},\n",
    "    y=input(mnist.train)[1],\n",
    "    num_epochs=None,\n",
    "    batch_size=50,\n",
    "    shuffle=True\n",
    "    )"
   ]
  },
  {
   "cell_type": "code",
   "execution_count": 9,
   "metadata": {},
   "outputs": [
    {
     "name": "stdout",
     "output_type": "stream",
     "text": [
      "INFO:tensorflow:Calling model_fn.\n",
      "INFO:tensorflow:Done calling model_fn.\n",
      "INFO:tensorflow:Create CheckpointSaverHook.\n",
      "INFO:tensorflow:Graph was finalized.\n",
      "INFO:tensorflow:Running local_init_op.\n",
      "INFO:tensorflow:Done running local_init_op.\n",
      "INFO:tensorflow:Saving checkpoints for 1 into model/mnist_model\\model.ckpt.\n",
      "INFO:tensorflow:loss = 119.449, step = 1\n",
      "INFO:tensorflow:global_step/sec: 303.203\n",
      "INFO:tensorflow:loss = 20.8711, step = 101 (0.332 sec)\n",
      "INFO:tensorflow:global_step/sec: 343.839\n",
      "INFO:tensorflow:loss = 16.3542, step = 201 (0.291 sec)\n",
      "INFO:tensorflow:global_step/sec: 369.214\n",
      "INFO:tensorflow:loss = 10.3127, step = 301 (0.270 sec)\n",
      "INFO:tensorflow:global_step/sec: 333.525\n",
      "INFO:tensorflow:loss = 7.55452, step = 401 (0.307 sec)\n",
      "INFO:tensorflow:global_step/sec: 330.221\n",
      "INFO:tensorflow:loss = 13.3295, step = 501 (0.296 sec)\n",
      "INFO:tensorflow:global_step/sec: 398.635\n",
      "INFO:tensorflow:loss = 10.1101, step = 601 (0.252 sec)\n",
      "INFO:tensorflow:global_step/sec: 363.846\n",
      "INFO:tensorflow:loss = 11.4669, step = 701 (0.275 sec)\n",
      "INFO:tensorflow:global_step/sec: 405.089\n",
      "INFO:tensorflow:loss = 4.07739, step = 801 (0.247 sec)\n",
      "INFO:tensorflow:global_step/sec: 369.216\n",
      "INFO:tensorflow:loss = 12.6561, step = 901 (0.272 sec)\n",
      "INFO:tensorflow:Saving checkpoints for 1000 into model/mnist_model\\model.ckpt.\n",
      "INFO:tensorflow:Loss for final step: 11.3299.\n"
     ]
    },
    {
     "data": {
      "text/plain": [
       "<tensorflow.python.estimator.canned.dnn.DNNClassifier at 0x28b88e886d8>"
      ]
     },
     "execution_count": 9,
     "metadata": {},
     "output_type": "execute_result"
    }
   ],
   "source": [
    "classifier.train(input_fn=train_input_fn, steps=1000)"
   ]
  },
  {
   "cell_type": "code",
   "execution_count": 10,
   "metadata": {},
   "outputs": [
    {
     "name": "stdout",
     "output_type": "stream",
     "text": [
      "看清楚等下要用的 x y 啥東西\n",
      "x :> ['x'].shape tib. \\ ==> (10000, 784) (<class 'tuple'>)\n",
      "y :> shape tib. \\ ==> (10000,) (<class 'tuple'>)\n",
      "x :> ['x'][:4] tib. \\ ==> [[ 0.  0.  0. ...,  0.  0.  0.]\n",
      " [ 0.  0.  0. ...,  0.  0.  0.]\n",
      " [ 0.  0.  0. ...,  0.  0.  0.]\n",
      " [ 0.  0.  0. ...,  0.  0.  0.]] (<class 'numpy.ndarray'>)\n"
     ]
    }
   ],
   "source": [
    "%f \\ 看清楚等下要用的 x y 啥東西\n",
    "x = {\"x\": input(mnist.test)[0]}\n",
    "y = input(mnist.test)[1]\n",
    "%f x :> ['x'].shape tib.\n",
    "%f y :> shape tib.\n",
    "%f x :> ['x'][:4] tib."
   ]
  },
  {
   "cell_type": "code",
   "execution_count": 11,
   "metadata": {},
   "outputs": [],
   "source": [
    "# Define the test inputs\n",
    "test_input_fn = tf.estimator.inputs.numpy_input_fn(\n",
    "    x={\"x\": input(mnist.test)[0]},\n",
    "    y=input(mnist.test)[1],\n",
    "    num_epochs=1,\n",
    "    shuffle=False\n",
    "    )"
   ]
  },
  {
   "cell_type": "code",
   "execution_count": 12,
   "metadata": {
    "scrolled": true
   },
   "outputs": [
    {
     "name": "stdout",
     "output_type": "stream",
     "text": [
      "INFO:tensorflow:Calling model_fn.\n",
      "INFO:tensorflow:Done calling model_fn.\n",
      "INFO:tensorflow:Starting evaluation at 2018-06-07-08:56:14\n",
      "INFO:tensorflow:Graph was finalized.\n",
      "INFO:tensorflow:Restoring parameters from model/mnist_model\\model.ckpt-1000\n",
      "INFO:tensorflow:Running local_init_op.\n",
      "INFO:tensorflow:Done running local_init_op.\n",
      "INFO:tensorflow:Finished evaluation at 2018-06-07-08:56:14\n",
      "INFO:tensorflow:Saving dict for global step 1000: accuracy = 0.956, average_loss = 0.146576, global_step = 1000, loss = 18.5539\n",
      "\n",
      "Test Accuracy: 95.599997%\n",
      "\n"
     ]
    }
   ],
   "source": [
    "# Evaluate accuracy\n",
    "accuracy_score = classifier.evaluate(input_fn=test_input_fn)[\"accuracy\"]\n",
    "print(\"\\nTest Accuracy: {0:f}%\\n\".format(accuracy_score*100))\n",
    "\n",
    "# End of \"mnist_estimator.py\"\n"
   ]
  },
  {
   "cell_type": "markdown",
   "metadata": {},
   "source": [
    "# --- The End ---"
   ]
  },
  {
   "cell_type": "markdown",
   "metadata": {},
   "source": [
    "看看 label 是怎樣？ 不必弄成 one-hot ? --> 不必！ --> 那 prediction 的結果長怎樣呢？ --> 直接就是在 `prediction['probabilities']` array 裡面照 0-9 的順序給出每個 digit 的 probability. \n"
   ]
  },
  {
   "cell_type": "code",
   "execution_count": 13,
   "metadata": {
    "scrolled": true
   },
   "outputs": [
    {
     "name": "stdout",
     "output_type": "stream",
     "text": [
      "<class 'numpy.int32'>\n"
     ]
    }
   ],
   "source": [
    "%f y :> [0] type . cr"
   ]
  },
  {
   "cell_type": "code",
   "execution_count": 14,
   "metadata": {},
   "outputs": [],
   "source": [
    "# Make input function for prediction:\n",
    "#   shuffle=False -> do not randomize input data\n",
    "pred_input_fn = tf.estimator.inputs.numpy_input_fn(\n",
    "    x={\"x\": input(mnist.test)[0]},\n",
    "    y=input(mnist.test)[1],\n",
    "    num_epochs=1,\n",
    "    shuffle=False\n",
    "    )"
   ]
  },
  {
   "cell_type": "code",
   "execution_count": 15,
   "metadata": {},
   "outputs": [],
   "source": [
    "# 從 wh300/DNNClassifier_Predicting.ipynb 抄來的例子\n",
    "# Predict 整批 test input \n",
    "preds = classifier.predict(pred_input_fn)"
   ]
  },
  {
   "cell_type": "code",
   "execution_count": 16,
   "metadata": {},
   "outputs": [
    {
     "name": "stdout",
     "output_type": "stream",
     "text": [
      "INFO:tensorflow:Calling model_fn.\n",
      "INFO:tensorflow:Done calling model_fn.\n",
      "INFO:tensorflow:Graph was finalized.\n",
      "INFO:tensorflow:Restoring parameters from model/mnist_model\\model.ckpt-1000\n",
      "INFO:tensorflow:Running local_init_op.\n",
      "INFO:tensorflow:Done running local_init_op.\n"
     ]
    }
   ],
   "source": [
    "predict = [i for i in preds];"
   ]
  },
  {
   "cell_type": "code",
   "execution_count": 17,
   "metadata": {},
   "outputs": [
    {
     "name": "stdout",
     "output_type": "stream",
     "text": [
      "predict count tib. \\ ==> 10000 (<class 'int'>)\n"
     ]
    },
    {
     "data": {
      "text/plain": [
       "10000"
      ]
     },
     "execution_count": 17,
     "metadata": {},
     "output_type": "execute_result"
    }
   ],
   "source": [
    "%f predict count tib.\n",
    "len(predict)"
   ]
  },
  {
   "cell_type": "code",
   "execution_count": 18,
   "metadata": {},
   "outputs": [],
   "source": [
    "predictions = [np.argmax(predict[i]['probabilities'],axis=-1) for i in range(len(predict))]; "
   ]
  },
  {
   "cell_type": "code",
   "execution_count": 19,
   "metadata": {
    "scrolled": true
   },
   "outputs": [
    {
     "name": "stdout",
     "output_type": "stream",
     "text": [
      "predictions py> sum(pop()) tib. \\ ==> 44082 (<class 'numpy.int64'>)\n",
      "y py> sum(pop()) tib. \\ ==> 44434 (<class 'numpy.int32'>)\n"
     ]
    }
   ],
   "source": [
    "%f predictions py> sum(pop()) tib.\n",
    "%f y py> sum(pop()) tib.\n"
   ]
  },
  {
   "cell_type": "code",
   "execution_count": 20,
   "metadata": {},
   "outputs": [
    {
     "name": "stdout",
     "output_type": "stream",
     "text": [
      "predictions :> [:50] tib. \\ ==> [7, 2, 1, 0, 4, 1, 4, 9, 6, 9, 0, 6, 9, 0, 1, 5, 9, 7, 3, 4, 9, 6, 6, 5, 4, 0, 7, 4, 0, 1, 3, 1, 3, 6, 7, 2, 7, 1, 2, 1, 1, 7, 4, 2, 3, 5, 1, 2, 4, 4] (<class 'list'>)\n"
     ]
    }
   ],
   "source": [
    "%f predictions :> [:50] tib."
   ]
  },
  {
   "cell_type": "code",
   "execution_count": null,
   "metadata": {},
   "outputs": [],
   "source": []
  },
  {
   "cell_type": "code",
   "execution_count": null,
   "metadata": {},
   "outputs": [],
   "source": []
  }
 ],
 "metadata": {
  "kernelspec": {
   "display_name": "Python 3",
   "language": "python",
   "name": "python3"
  },
  "language_info": {
   "codemirror_mode": {
    "name": "ipython",
    "version": 3
   },
   "file_extension": ".py",
   "mimetype": "text/x-python",
   "name": "python",
   "nbconvert_exporter": "python",
   "pygments_lexer": "ipython3",
   "version": "3.6.0"
  }
 },
 "nbformat": 4,
 "nbformat_minor": 2
}
