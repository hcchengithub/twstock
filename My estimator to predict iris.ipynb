{
 "cells": [
  {
   "cell_type": "markdown",
   "metadata": {},
   "source": [
    "#  漲停後 one-shot 天內問【今天續漲嗎？】改用貝葉斯看看\n",
    "\n",
    "- 照老師的方法，把資料整理成 150天 一長條一筆，如果往前沒有 150 天就不用。\n",
    "- 掃出所有漲停的日子，以及後 one-shot 天，如果又有漲停就繼續 one-shot。這樣縮小 dataset 範圍。\n",
    "- 以此 dataset 問 AI 明天是否【續漲】且【不破前低】？平衡正反雙方，取得 n 值。\n",
    "\n",
    "問題很奇怪, DNN 的 prediction 全是 0 ! 想要改用別的方法做做看"
   ]
  },
  {
   "cell_type": "code",
   "execution_count": 1,
   "metadata": {},
   "outputs": [
    {
     "data": {
      "application/javascript": [
       "alert(\"要不要把 model/DNN directory 先殺掉？\")\n",
       "alert(\"注意 batch_size 合不合理？一千也照跑，結果都是 0.\")"
      ],
      "text/plain": [
       "<IPython.core.display.Javascript object>"
      ]
     },
     "metadata": {},
     "output_type": "display_data"
    }
   ],
   "source": [
    "%%js\n",
    "alert(\"要不要把 model/DNN directory 先殺掉？\")\n",
    "alert(\"注意 batch_size 合不合理？一千也照跑，結果都是 0.\")"
   ]
  },
  {
   "cell_type": "code",
   "execution_count": 2,
   "metadata": {},
   "outputs": [],
   "source": [
    "import tensorflow as tf\n",
    "import numpy as np\n",
    "import pandas as pd\n",
    "import peforth as f"
   ]
  },
  {
   "cell_type": "code",
   "execution_count": 3,
   "metadata": {},
   "outputs": [
    {
     "name": "stdout",
     "output_type": "stream",
     "text": [
      "reDef unknown\n",
      "reDef \\\n"
     ]
    }
   ],
   "source": [
    "%%f\n",
    "\\ Now we redefine the 'unknown' command that does nothing at default  \n",
    ": unknown ( token -- thing Y|N) // Try to find the unknown token in __main__\n",
    "  py> getattr(sys.modules['__main__'],pop(),\"Ûnknôwn\") \n",
    "  py> str(tos())==\"Ûnknôwn\" if drop false else true then ;\n",
    "  /// here after, when FORTH come accross an unknown token, instead of alerting \n",
    "  /// it try to find the token in python __main__ module name space.\n",
    ": path-to-find-modules ( <path> -- ) // Add path to sys.path so \"import module-name\" can find the module\n",
    "    CR word trim ( \"path\" ) py: sys.path.append(pop()) ;\n",
    "code \\ print(nexttoken('\\n')) end-code // Redefine \\ command to print the comment line \n"
   ]
  },
  {
   "cell_type": "code",
   "execution_count": 4,
   "metadata": {},
   "outputs": [],
   "source": [
    "data = pd.read_csv('000777.csv',encoding='gbk',parse_dates=[0],index_col=0)\n",
    "\n",
    "# data frame 中帶有 None 的 rows 都剔除掉。 本來有 4752 rows 現在只剩 4639 \n",
    "# 用法: df.dropna(axis=0, how='any', thresh=None, subset=None, inplace=False)\n",
    "data = data.replace(to_replace='None', value=np.nan).dropna()  \n",
    "\n",
    "# pdb.set_trace() # data 本來是新的在上面\n",
    "data.sort_index(0,ascending=True,inplace=True) # 排序 sort 過後變成最舊的在上面\n",
    "\n",
    "# 上市第一天的資料不要，因為【漲跌幅】無效。\n",
    "data = data.query('index > \"1997-07-10\"')"
   ]
  },
  {
   "cell_type": "code",
   "execution_count": 5,
   "metadata": {},
   "outputs": [],
   "source": [
    "# raw data has 20 years long, but here only analysis the last 150 days of a chosen day\n",
    "dayfeature = 150\n",
    "oneshot = 5  # 漲停後慣性天數，使正反平衡\n",
    "dayforesee = oneshot  # 問未來幾天如何如何，最後就要扣掉幾天，避免 out of bounds. 0 代表當天。\n",
    "featurenum = 5*dayfeature  # 取五個有關係的欄位，ochlq 等五個特徵值。\n",
    "cross_validation_rate = 0.2\n",
    "xlength = data.shape[0]-dayfeature-dayforesee"
   ]
  },
  {
   "cell_type": "code",
   "execution_count": 6,
   "metadata": {
    "scrolled": false
   },
   "outputs": [
    {
     "name": "stdout",
     "output_type": "stream",
     "text": [
      "( 總天數 ) data :> shape[0] tib. \\ ==> 4638 (<class 'int'>)\n",
      "( leading days that are not used ) dayfeature tib. \\ ==> 150 (<class 'int'>)\n",
      "( latest days that are not used ) dayforesee tib. \\ ==> 5 (<class 'int'>)\n",
      "( 有效天數 ) data :> shape[0] dayfeature - dayforesee - tib. \\ ==> 4483 (<class 'int'>)\n"
     ]
    }
   ],
   "source": [
    "%f ( 總天數 ) data :> shape[0] tib. ( 4638 )\n",
    "%f ( leading days that are not used ) dayfeature tib.   \n",
    "%f ( latest days that are not used ) dayforesee tib.\n",
    "%f ( 有效天數 ) data :> shape[0] dayfeature - dayforesee - tib."
   ]
  },
  {
   "cell_type": "code",
   "execution_count": 7,
   "metadata": {},
   "outputs": [],
   "source": [
    "x=np.zeros((xlength,featurenum+2))  # +2 是當天開盤跟當天日期\n",
    "y=np.zeros((xlength));"
   ]
  },
  {
   "cell_type": "code",
   "execution_count": 8,
   "metadata": {},
   "outputs": [],
   "source": [
    "# 重疊 shift dayfeature (150) 天的五個「行情特徵值」加上當天的開盤 共 751 個參數當作 feature X \n",
    "for i in range(0,xlength):\n",
    "    x[i,0:featurenum]=np.array(data[i:i+dayfeature] \\\n",
    "          [[u'收盘价',u'最高价',u'最低价',u'开盘价',u'成交量']]).reshape((1,featurenum))\n",
    "    x[i,featurenum]=data.iloc[i+dayfeature][u'开盘价']\n",
    "    x[i,featurenum+1]=data.index[i+dayfeature].value  # backward pd.to_datetime(value).date()\n",
    "    "
   ]
  },
  {
   "cell_type": "code",
   "execution_count": 9,
   "metadata": {},
   "outputs": [],
   "source": [
    "# 預測明天是否會「續漲」且「不破前低」? ochl \n",
    "for i in range(0,xlength):\n",
    "    y[i]=0              \n",
    "    i0h = float(data.iloc[i][u'最高价']) # i 這天的\n",
    "    i0l = float(data.iloc[i][u'最低价']) # i 這天的\n",
    "    i1h = float(data.iloc[i+1][u'最高价']) # i 明天的\n",
    "    i1l = float(data.iloc[i+1][u'最低价']) # i 明天的\n",
    "    if i1h > i0h and i1l > i0l :\n",
    "            y[i]=1\n",
    "y = np.int32(y)"
   ]
  },
  {
   "cell_type": "code",
   "execution_count": 10,
   "metadata": {},
   "outputs": [
    {
     "name": "stdout",
     "output_type": "stream",
     "text": [
      "(  ) x :> shape tib. \\ ==> (4483, 752) (<class 'tuple'>)\n",
      "(  ) x :> shape[0] tib. \\ ==> 4483 (<class 'int'>)\n",
      "(  ) y :> shape tib. \\ ==> (4483,) (<class 'tuple'>)\n",
      "(  ) y :> shape[0] tib. \\ ==> 4483 (<class 'int'>)\n",
      "(  ) y py> sum(pop()) tib. \\ ==> 1629 (<class 'numpy.int32'>)\n"
     ]
    }
   ],
   "source": [
    "%f (  ) x :> shape tib. ( ?, 751 )\n",
    "%f (  ) x :> shape[0] tib. ( ? )\n",
    "%f (  ) y :> shape tib. ( ?, )    \n",
    "%f (  ) y :> shape[0] tib. ( ? )    \n",
    "%f (  ) y py> sum(pop()) tib. ( 1629 )"
   ]
  },
  {
   "cell_type": "code",
   "execution_count": 11,
   "metadata": {},
   "outputs": [],
   "source": [
    "# 直接看【涨跌幅】> 9.8 就算漲停板，從【漲停板】的日子往後多取 oneshot 天。\n",
    "# 符合條件的日子組成 dataset 其中含有 oneshot 天慣性，使正反兩方平衡。\n",
    "# 這個簡單的 loop 是挑出要的日子且消除重複的方法，我考慮過用 set() 也是取 unique 的好方法。\n",
    "\n",
    "x_mask = np.zeros((xlength,)) # 全部放 0 以下只針對目標填 1 \n",
    "x_mask = np.int32(x_mask)\n",
    "for i in range(xlength):\n",
    "    if float(data.iloc[i+dayfeature-1][u'涨跌幅'])>=9.8:\n",
    "        for j in range(oneshot):\n",
    "            x_mask[i+j-1] = 1"
   ]
  },
  {
   "cell_type": "code",
   "execution_count": 12,
   "metadata": {},
   "outputs": [
    {
     "name": "stdout",
     "output_type": "stream",
     "text": [
      "x_mask tib. \\ ==> [0 0 0 ..., 0 0 0] (<class 'numpy.ndarray'>)\n",
      "x_mask :> shape tib. \\ ==> (4483,) (<class 'tuple'>)\n",
      "x_mask py> sum(pop()) tib. \\ ==> 350 (<class 'numpy.int32'>)\n"
     ]
    }
   ],
   "source": [
    "%f x_mask tib.\n",
    "%f x_mask :> shape tib.\n",
    "%f x_mask py> sum(pop()) tib."
   ]
  },
  {
   "cell_type": "code",
   "execution_count": 13,
   "metadata": {},
   "outputs": [],
   "source": [
    "x_original = []\n",
    "y_original = []\n",
    "for i in range(xlength):\n",
    "    if x_mask[i]:\n",
    "        x_original.append(x[i])\n",
    "        y_original.append(y[i])\n",
    "x,x_original = x_original,x\n",
    "y,y_original = y_original,y"
   ]
  },
  {
   "cell_type": "code",
   "execution_count": 14,
   "metadata": {},
   "outputs": [
    {
     "name": "stdout",
     "output_type": "stream",
     "text": [
      "x_original np :> array(pop()).shape tib. \\ ==> (4483, 752) (<class 'tuple'>)\n",
      "y_original np :> array(pop()).shape tib. \\ ==> (4483,) (<class 'tuple'>)\n",
      "x np :> array(pop()).shape tib. \\ ==> (350, 752) (<class 'tuple'>)\n",
      "y np :> array(pop()).shape tib. \\ ==> (350,) (<class 'tuple'>)\n",
      "( 差不多是 dataset 總數的一半嗎？ ) y py> sum(pop()) tib. \\ ==> 156 (<class 'numpy.int32'>)\n"
     ]
    }
   ],
   "source": [
    "%f x_original np :> array(pop()).shape tib.\n",
    "%f y_original np :> array(pop()).shape tib.\n",
    "%f x np :> array(pop()).shape tib.\n",
    "%f y np :> array(pop()).shape tib.\n",
    "%f ( 差不多是 dataset 總數的一半嗎？ ) y py> sum(pop()) tib."
   ]
  },
  {
   "cell_type": "code",
   "execution_count": 15,
   "metadata": {},
   "outputs": [
    {
     "name": "stderr",
     "output_type": "stream",
     "text": [
      "c:\\users\\hcche\\appdata\\local\\programs\\python\\python36\\lib\\site-packages\\sklearn\\cross_validation.py:41: DeprecationWarning: This module was deprecated in version 0.18 in favor of the model_selection module into which all the refactored classes and functions are moved. Also note that the interface of the new CV iterators are different from that of this module. This module will be removed in 0.20.\n",
      "  \"This module will be removed in 0.20.\", DeprecationWarning)\n"
     ]
    }
   ],
   "source": [
    "from sklearn import cross_validation\n",
    "x_train, x_test, y_train, y_test = cross_validation.train_test_split(x, y, test_size = 0.2)"
   ]
  },
  {
   "cell_type": "code",
   "execution_count": 16,
   "metadata": {},
   "outputs": [
    {
     "data": {
      "text/plain": [
       "'0.19.1'"
      ]
     },
     "execution_count": 16,
     "metadata": {},
     "output_type": "execute_result"
    }
   ],
   "source": [
    "import sklearn\n",
    "sklearn.__version__"
   ]
  },
  {
   "cell_type": "code",
   "execution_count": 17,
   "metadata": {},
   "outputs": [
    {
     "name": "stdout",
     "output_type": "stream",
     "text": [
      "x_train np :> array(pop()).shape tib. \\ ==> (280, 752) (<class 'tuple'>)\n",
      "y_train np :> array(pop()).shape tib. \\ ==> (280,) (<class 'tuple'>)\n",
      "x_test np :> array(pop()).shape tib. \\ ==> (70, 752) (<class 'tuple'>)\n",
      "y_test np :> array(pop()).shape tib. \\ ==> (70,) (<class 'tuple'>)\n",
      "( numpy 才能裁切 matrix ) x_train np :> array(pop())[:,:751].shape tib. \\ ==> (280, 751) (<class 'tuple'>)\n",
      "( numpy 才能裁切 matrix ) x_test np :> array(pop())[:,:751].shape tib. \\ ==> (70, 751) (<class 'tuple'>)\n"
     ]
    }
   ],
   "source": [
    "%f x_train np :> array(pop()).shape tib.\n",
    "%f y_train np :> array(pop()).shape tib.\n",
    "%f x_test np :> array(pop()).shape tib.\n",
    "%f y_test np :> array(pop()).shape tib.\n",
    "%f ( numpy 才能裁切 matrix ) x_train np :> array(pop())[:,:751].shape tib.\n",
    "%f ( numpy 才能裁切 matrix ) x_test np :> array(pop())[:,:751].shape tib.\n"
   ]
  },
  {
   "cell_type": "code",
   "execution_count": 18,
   "metadata": {},
   "outputs": [
    {
     "data": {
      "text/plain": [
       "[_NumericColumn(key='x', shape=(751,), default_value=None, dtype=tf.float32, normalizer_fn=None)]"
      ]
     },
     "execution_count": 18,
     "metadata": {},
     "output_type": "execute_result"
    }
   ],
   "source": [
    "# 應該只有一個 feature 是個 shape = (751,) 的 array. 這怎麼表達?\n",
    "my_feature_columns = [tf.feature_column.numeric_column(\"x\", shape=[751,])]  \n",
    "my_feature_columns"
   ]
  },
  {
   "cell_type": "code",
   "execution_count": 19,
   "metadata": {
    "scrolled": false
   },
   "outputs": [
    {
     "name": "stdout",
     "output_type": "stream",
     "text": [
      "INFO:tensorflow:Using default config.\n",
      "INFO:tensorflow:Using config: {'_model_dir': 'model/DNN', '_tf_random_seed': None, '_save_summary_steps': 100, '_save_checkpoints_steps': None, '_save_checkpoints_secs': 600, '_session_config': None, '_keep_checkpoint_max': 5, '_keep_checkpoint_every_n_hours': 10000, '_log_step_count_steps': 100, '_train_distribute': None, '_service': None, '_cluster_spec': <tensorflow.python.training.server_lib.ClusterSpec object at 0x0000022621116BE0>, '_task_type': 'worker', '_task_id': 0, '_global_id_in_cluster': 0, '_master': '', '_evaluation_master': '', '_is_chief': True, '_num_ps_replicas': 0, '_num_worker_replicas': 1}\n"
     ]
    }
   ],
   "source": [
    "# Build 2 hidden layer DNN with 10, 10 units respectively.\n",
    "classifier = tf.estimator.DNNClassifier(\n",
    "    feature_columns=my_feature_columns,\n",
    "    # Two hidden layers of 10 nodes each.\n",
    "    hidden_units=[64,32],\n",
    "    # The model must choose between 3 classes.\n",
    "    n_classes=2,\n",
    "    dropout=0.2,\n",
    "    model_dir=\"model/DNN\"\n",
    "    )"
   ]
  },
  {
   "cell_type": "code",
   "execution_count": 20,
   "metadata": {},
   "outputs": [],
   "source": [
    "# Define the training inputs 從 mnist 抄過來改的\n",
    "train_input_fn = tf.estimator.inputs.numpy_input_fn(\n",
    "    x={\"x\": np.array(x_train)[:,:751]},\n",
    "    y=np.array(y_train),\n",
    "    num_epochs=None,\n",
    "    batch_size=64,\n",
    "    shuffle=True\n",
    "    )"
   ]
  },
  {
   "cell_type": "code",
   "execution_count": 21,
   "metadata": {},
   "outputs": [
    {
     "name": "stdout",
     "output_type": "stream",
     "text": [
      "Automatic pdb calling has been turned OFF\n",
      "INFO:tensorflow:Calling model_fn.\n",
      "INFO:tensorflow:Done calling model_fn.\n",
      "INFO:tensorflow:Create CheckpointSaverHook.\n",
      "INFO:tensorflow:Graph was finalized.\n",
      "INFO:tensorflow:Running local_init_op.\n",
      "INFO:tensorflow:Done running local_init_op.\n",
      "INFO:tensorflow:Saving checkpoints for 1 into model/DNN\\model.ckpt.\n",
      "INFO:tensorflow:loss = 2.50763e+08, step = 1\n",
      "INFO:tensorflow:global_step/sec: 334.799\n",
      "INFO:tensorflow:loss = 141593.0, step = 101 (0.299 sec)\n",
      "INFO:tensorflow:global_step/sec: 418.432\n",
      "INFO:tensorflow:loss = 20543.8, step = 201 (0.243 sec)\n",
      "INFO:tensorflow:global_step/sec: 474.202\n",
      "INFO:tensorflow:loss = 2006.95, step = 301 (0.210 sec)\n",
      "INFO:tensorflow:global_step/sec: 474.208\n",
      "INFO:tensorflow:loss = 1642.81, step = 401 (0.216 sec)\n",
      "INFO:tensorflow:global_step/sec: 454.806\n",
      "INFO:tensorflow:loss = 2754.9, step = 501 (0.216 sec)\n",
      "INFO:tensorflow:global_step/sec: 448.688\n",
      "INFO:tensorflow:loss = 2314.37, step = 601 (0.222 sec)\n",
      "INFO:tensorflow:global_step/sec: 473.454\n",
      "INFO:tensorflow:loss = 2330.16, step = 701 (0.218 sec)\n",
      "INFO:tensorflow:global_step/sec: 460.524\n",
      "INFO:tensorflow:loss = 325.639, step = 801 (0.210 sec)\n",
      "INFO:tensorflow:global_step/sec: 465.383\n",
      "INFO:tensorflow:loss = 240.234, step = 901 (0.215 sec)\n",
      "INFO:tensorflow:global_step/sec: 463.228\n",
      "INFO:tensorflow:loss = 44.0807, step = 1001 (0.217 sec)\n",
      "INFO:tensorflow:global_step/sec: 435.032\n",
      "INFO:tensorflow:loss = 3194.79, step = 1101 (0.229 sec)\n",
      "INFO:tensorflow:global_step/sec: 485.713\n",
      "INFO:tensorflow:loss = 42.1868, step = 1201 (0.206 sec)\n",
      "INFO:tensorflow:global_step/sec: 452.748\n",
      "INFO:tensorflow:loss = 885652.0, step = 1301 (0.221 sec)\n",
      "INFO:tensorflow:global_step/sec: 471.506\n",
      "INFO:tensorflow:loss = 72.5568, step = 1401 (0.215 sec)\n",
      "INFO:tensorflow:global_step/sec: 474.067\n",
      "INFO:tensorflow:loss = 361.274, step = 1501 (0.209 sec)\n",
      "INFO:tensorflow:global_step/sec: 478.743\n",
      "INFO:tensorflow:loss = 519.785, step = 1601 (0.208 sec)\n",
      "INFO:tensorflow:global_step/sec: 483.368\n",
      "INFO:tensorflow:loss = 119.452, step = 1701 (0.208 sec)\n",
      "INFO:tensorflow:global_step/sec: 463.228\n",
      "INFO:tensorflow:loss = 95.096, step = 1801 (0.218 sec)\n",
      "INFO:tensorflow:global_step/sec: 435.03\n",
      "INFO:tensorflow:loss = 124.142, step = 1901 (0.227 sec)\n",
      "INFO:tensorflow:global_step/sec: 446.688\n",
      "INFO:tensorflow:loss = 42.9175, step = 2001 (0.225 sec)\n",
      "INFO:tensorflow:global_step/sec: 488.626\n",
      "INFO:tensorflow:loss = 45.4257, step = 2101 (0.212 sec)\n",
      "INFO:tensorflow:global_step/sec: 457.681\n",
      "INFO:tensorflow:loss = 43.9184, step = 2201 (0.210 sec)\n",
      "INFO:tensorflow:global_step/sec: 481.045\n",
      "INFO:tensorflow:loss = 42.778, step = 2301 (0.210 sec)\n",
      "INFO:tensorflow:global_step/sec: 458.978\n",
      "INFO:tensorflow:loss = 43.7933, step = 2401 (0.217 sec)\n",
      "INFO:tensorflow:global_step/sec: 458.973\n",
      "INFO:tensorflow:loss = 44.8983, step = 2501 (0.217 sec)\n",
      "INFO:tensorflow:global_step/sec: 478.748\n",
      "INFO:tensorflow:loss = 42.6931, step = 2601 (0.209 sec)\n",
      "INFO:tensorflow:global_step/sec: 483.368\n",
      "INFO:tensorflow:loss = 1088.86, step = 2701 (0.208 sec)\n",
      "INFO:tensorflow:global_step/sec: 463.227\n",
      "INFO:tensorflow:loss = 2.40953e+06, step = 2801 (0.215 sec)\n",
      "INFO:tensorflow:global_step/sec: 487.244\n",
      "INFO:tensorflow:loss = 44.991, step = 2901 (0.210 sec)\n",
      "INFO:tensorflow:global_step/sec: 418.494\n",
      "INFO:tensorflow:loss = 43.7466, step = 3001 (0.235 sec)\n",
      "INFO:tensorflow:global_step/sec: 471.967\n",
      "INFO:tensorflow:loss = 44.5212, step = 3101 (0.212 sec)\n",
      "INFO:tensorflow:global_step/sec: 481.046\n",
      "INFO:tensorflow:loss = 44.4304, step = 3201 (0.209 sec)\n",
      "INFO:tensorflow:global_step/sec: 465.382\n",
      "INFO:tensorflow:loss = 1404.59, step = 3301 (0.213 sec)\n",
      "INFO:tensorflow:global_step/sec: 476.464\n",
      "INFO:tensorflow:loss = 32182.8, step = 3401 (0.211 sec)\n",
      "INFO:tensorflow:global_step/sec: 475.833\n",
      "INFO:tensorflow:loss = 43.31, step = 3501 (0.210 sec)\n",
      "INFO:tensorflow:global_step/sec: 465.383\n",
      "INFO:tensorflow:loss = 14151.0, step = 3601 (0.216 sec)\n",
      "INFO:tensorflow:global_step/sec: 465.381\n",
      "INFO:tensorflow:loss = 10188.2, step = 3701 (0.213 sec)\n",
      "INFO:tensorflow:global_step/sec: 469.754\n",
      "INFO:tensorflow:loss = 42.2758, step = 3801 (0.215 sec)\n",
      "INFO:tensorflow:global_step/sec: 423.971\n",
      "INFO:tensorflow:loss = 42.6448, step = 3901 (0.235 sec)\n",
      "INFO:tensorflow:global_step/sec: 469.754\n",
      "INFO:tensorflow:loss = 309.643, step = 4001 (0.213 sec)\n",
      "INFO:tensorflow:global_step/sec: 481.041\n",
      "INFO:tensorflow:loss = 383.196, step = 4101 (0.209 sec)\n",
      "INFO:tensorflow:global_step/sec: 452.748\n",
      "INFO:tensorflow:loss = 43.7507, step = 4201 (0.219 sec)\n",
      "INFO:tensorflow:global_step/sec: 465.384\n",
      "INFO:tensorflow:loss = 44.5772, step = 4301 (0.215 sec)\n",
      "INFO:tensorflow:global_step/sec: 485.699\n",
      "INFO:tensorflow:loss = 42.7848, step = 4401 (0.207 sec)\n",
      "INFO:tensorflow:global_step/sec: 469.768\n",
      "INFO:tensorflow:loss = 43.5733, step = 4501 (0.212 sec)\n",
      "INFO:tensorflow:global_step/sec: 478.744\n",
      "INFO:tensorflow:loss = 144.317, step = 4601 (0.209 sec)\n",
      "INFO:tensorflow:global_step/sec: 448.684\n",
      "INFO:tensorflow:loss = 1102.47, step = 4701 (0.227 sec)\n",
      "INFO:tensorflow:global_step/sec: 423.973\n",
      "INFO:tensorflow:loss = 63.9478, step = 4801 (0.233 sec)\n",
      "INFO:tensorflow:global_step/sec: 478.744\n",
      "INFO:tensorflow:loss = 353.448, step = 4901 (0.210 sec)\n",
      "INFO:tensorflow:global_step/sec: 469.751\n",
      "INFO:tensorflow:loss = 44.7697, step = 5001 (0.212 sec)\n",
      "INFO:tensorflow:global_step/sec: 485.716\n",
      "INFO:tensorflow:loss = 43.3006, step = 5101 (0.205 sec)\n",
      "INFO:tensorflow:global_step/sec: 467.557\n",
      "INFO:tensorflow:loss = 44.0825, step = 5201 (0.215 sec)\n",
      "INFO:tensorflow:global_step/sec: 471.97\n",
      "INFO:tensorflow:loss = 43.9119, step = 5301 (0.211 sec)\n",
      "INFO:tensorflow:global_step/sec: 485.713\n",
      "INFO:tensorflow:loss = 43.5718, step = 5401 (0.207 sec)\n",
      "INFO:tensorflow:global_step/sec: 525.065\n",
      "INFO:tensorflow:loss = 43.414, step = 5501 (0.186 sec)\n",
      "INFO:tensorflow:global_step/sec: 456.197\n",
      "INFO:tensorflow:loss = 21484.4, step = 5601 (0.224 sec)\n",
      "INFO:tensorflow:global_step/sec: 547.713\n",
      "INFO:tensorflow:loss = 44.0298, step = 5701 (0.196 sec)\n",
      "INFO:tensorflow:global_step/sec: 415.755\n",
      "INFO:tensorflow:loss = 44.2503, step = 5801 (0.225 sec)\n",
      "INFO:tensorflow:global_step/sec: 483.366\n",
      "INFO:tensorflow:loss = 44.5792, step = 5901 (0.209 sec)\n",
      "INFO:tensorflow:global_step/sec: 478.423\n",
      "INFO:tensorflow:loss = 44.4212, step = 6001 (0.207 sec)\n",
      "INFO:tensorflow:global_step/sec: 509.985\n",
      "INFO:tensorflow:loss = 5116.4, step = 6101 (0.204 sec)\n",
      "INFO:tensorflow:global_step/sec: 459.011\n",
      "INFO:tensorflow:loss = 551.763, step = 6201 (0.211 sec)\n",
      "INFO:tensorflow:global_step/sec: 507.743\n",
      "INFO:tensorflow:loss = 44.4265, step = 6301 (0.193 sec)\n",
      "INFO:tensorflow:global_step/sec: 443.578\n",
      "INFO:tensorflow:loss = 44.255, step = 6401 (0.230 sec)\n",
      "INFO:tensorflow:global_step/sec: 446.686\n",
      "INFO:tensorflow:loss = 188.381, step = 6501 (0.220 sec)\n",
      "INFO:tensorflow:global_step/sec: 470.092\n",
      "INFO:tensorflow:loss = 1388.62, step = 6601 (0.216 sec)\n",
      "INFO:tensorflow:global_step/sec: 476.808\n",
      "INFO:tensorflow:loss = 44.9209, step = 6701 (0.206 sec)\n",
      "INFO:tensorflow:global_step/sec: 455.002\n",
      "INFO:tensorflow:loss = 43.7015, step = 6801 (0.223 sec)\n",
      "INFO:tensorflow:global_step/sec: 520.951\n",
      "INFO:tensorflow:loss = 43.2065, step = 6901 (0.189 sec)\n",
      "INFO:tensorflow:global_step/sec: 458.889\n",
      "INFO:tensorflow:loss = 42.8596, step = 7001 (0.223 sec)\n",
      "INFO:tensorflow:global_step/sec: 501.736\n",
      "INFO:tensorflow:loss = 44.5961, step = 7101 (0.211 sec)\n",
      "INFO:tensorflow:global_step/sec: 433.212\n",
      "INFO:tensorflow:loss = 137.359, step = 7201 (0.219 sec)\n",
      "INFO:tensorflow:global_step/sec: 386.323\n",
      "INFO:tensorflow:loss = 26692.8, step = 7301 (0.257 sec)\n",
      "INFO:tensorflow:global_step/sec: 433.149\n",
      "INFO:tensorflow:loss = 45.5432, step = 7401 (0.231 sec)\n",
      "INFO:tensorflow:global_step/sec: 429.428\n",
      "INFO:tensorflow:loss = 81.8462, step = 7501 (0.234 sec)\n",
      "INFO:tensorflow:global_step/sec: 416.904\n",
      "INFO:tensorflow:loss = 51.4617, step = 7601 (0.241 sec)\n",
      "INFO:tensorflow:global_step/sec: 436.933\n",
      "INFO:tensorflow:loss = 45.1394, step = 7701 (0.226 sec)\n",
      "INFO:tensorflow:global_step/sec: 465.382\n",
      "INFO:tensorflow:loss = 44.7845, step = 7801 (0.216 sec)\n",
      "INFO:tensorflow:global_step/sec: 429.432\n",
      "INFO:tensorflow:loss = 43.7314, step = 7901 (0.233 sec)\n",
      "INFO:tensorflow:global_step/sec: 458.977\n",
      "INFO:tensorflow:loss = 44.7701, step = 8001 (0.218 sec)\n",
      "INFO:tensorflow:global_step/sec: 433.149\n",
      "INFO:tensorflow:loss = 2973.15, step = 8101 (0.231 sec)\n"
     ]
    },
    {
     "name": "stdout",
     "output_type": "stream",
     "text": [
      "INFO:tensorflow:global_step/sec: 427.593\n",
      "INFO:tensorflow:loss = 99.6241, step = 8201 (0.235 sec)\n",
      "INFO:tensorflow:global_step/sec: 458.981\n",
      "INFO:tensorflow:loss = 43.2217, step = 8301 (0.217 sec)\n",
      "INFO:tensorflow:global_step/sec: 413.457\n",
      "INFO:tensorflow:loss = 43.9058, step = 8401 (0.244 sec)\n",
      "INFO:tensorflow:global_step/sec: 365.175\n",
      "INFO:tensorflow:loss = 56.7049, step = 8501 (0.274 sec)\n",
      "INFO:tensorflow:global_step/sec: 436.93\n",
      "INFO:tensorflow:loss = 43.6482, step = 8601 (0.228 sec)\n",
      "INFO:tensorflow:global_step/sec: 465.384\n",
      "INFO:tensorflow:loss = 44.0812, step = 8701 (0.216 sec)\n",
      "INFO:tensorflow:global_step/sec: 431.28\n",
      "INFO:tensorflow:loss = 43.9111, step = 8801 (0.229 sec)\n",
      "INFO:tensorflow:global_step/sec: 444.699\n",
      "INFO:tensorflow:loss = 42.6944, step = 8901 (0.226 sec)\n",
      "INFO:tensorflow:global_step/sec: 433.149\n",
      "INFO:tensorflow:loss = 43.5813, step = 9001 (0.232 sec)\n",
      "INFO:tensorflow:global_step/sec: 450.709\n",
      "INFO:tensorflow:loss = 131.365, step = 9101 (0.221 sec)\n",
      "INFO:tensorflow:global_step/sec: 401.836\n",
      "INFO:tensorflow:loss = 55.1343, step = 9201 (0.249 sec)\n",
      "INFO:tensorflow:global_step/sec: 423.971\n",
      "INFO:tensorflow:loss = 44.0827, step = 9301 (0.238 sec)\n",
      "INFO:tensorflow:global_step/sec: 384.836\n",
      "INFO:tensorflow:loss = 44.0816, step = 9401 (0.259 sec)\n",
      "INFO:tensorflow:global_step/sec: 369.214\n",
      "INFO:tensorflow:loss = 44.7685, step = 9501 (0.272 sec)\n",
      "INFO:tensorflow:global_step/sec: 299.573\n",
      "INFO:tensorflow:loss = 115.5, step = 9601 (0.334 sec)\n",
      "INFO:tensorflow:global_step/sec: 287.52\n",
      "INFO:tensorflow:loss = 44.2522, step = 9701 (0.349 sec)\n",
      "INFO:tensorflow:global_step/sec: 305.987\n",
      "INFO:tensorflow:loss = 221.413, step = 9801 (0.325 sec)\n",
      "INFO:tensorflow:global_step/sec: 367.656\n",
      "INFO:tensorflow:loss = 2955.47, step = 9901 (0.276 sec)\n",
      "INFO:tensorflow:global_step/sec: 387.711\n",
      "INFO:tensorflow:loss = 44.774, step = 10001 (0.250 sec)\n",
      "INFO:tensorflow:global_step/sec: 420.154\n",
      "INFO:tensorflow:loss = 819.158, step = 10101 (0.241 sec)\n",
      "INFO:tensorflow:global_step/sec: 438.848\n",
      "INFO:tensorflow:loss = 44.4295, step = 10201 (0.229 sec)\n",
      "INFO:tensorflow:global_step/sec: 431.279\n",
      "INFO:tensorflow:loss = 44.6075, step = 10301 (0.232 sec)\n",
      "INFO:tensorflow:global_step/sec: 442.73\n",
      "INFO:tensorflow:loss = 46.226, step = 10401 (0.226 sec)\n",
      "INFO:tensorflow:global_step/sec: 446.688\n",
      "INFO:tensorflow:loss = 11956.7, step = 10501 (0.224 sec)\n",
      "INFO:tensorflow:global_step/sec: 425.774\n",
      "INFO:tensorflow:loss = 1080.64, step = 10601 (0.238 sec)\n",
      "INFO:tensorflow:global_step/sec: 490.575\n",
      "INFO:tensorflow:loss = 44.7662, step = 10701 (0.207 sec)\n",
      "INFO:tensorflow:global_step/sec: 420.106\n",
      "INFO:tensorflow:loss = 590.941, step = 10801 (0.231 sec)\n",
      "INFO:tensorflow:global_step/sec: 411.759\n",
      "INFO:tensorflow:loss = 398.69, step = 10901 (0.243 sec)\n",
      "INFO:tensorflow:global_step/sec: 466.831\n",
      "INFO:tensorflow:loss = 43.9157, step = 11001 (0.211 sec)\n",
      "INFO:tensorflow:global_step/sec: 420.969\n",
      "INFO:tensorflow:loss = 283.795, step = 11101 (0.241 sec)\n",
      "INFO:tensorflow:global_step/sec: 511.58\n",
      "INFO:tensorflow:loss = 44.0848, step = 11201 (0.208 sec)\n",
      "INFO:tensorflow:global_step/sec: 408.053\n",
      "INFO:tensorflow:loss = 45.0729, step = 11301 (0.234 sec)\n",
      "INFO:tensorflow:global_step/sec: 473.377\n",
      "INFO:tensorflow:loss = 181.496, step = 11401 (0.210 sec)\n",
      "INFO:tensorflow:global_step/sec: 436.932\n",
      "INFO:tensorflow:loss = 263.817, step = 11501 (0.229 sec)\n",
      "INFO:tensorflow:global_step/sec: 436.93\n",
      "INFO:tensorflow:loss = 43.5871, step = 11601 (0.228 sec)\n",
      "INFO:tensorflow:global_step/sec: 429.431\n",
      "INFO:tensorflow:loss = 43.4703, step = 11701 (0.233 sec)\n",
      "INFO:tensorflow:global_step/sec: 438.725\n",
      "INFO:tensorflow:loss = 1969.02, step = 11801 (0.225 sec)\n",
      "INFO:tensorflow:global_step/sec: 425.939\n",
      "INFO:tensorflow:loss = 43.2448, step = 11901 (0.238 sec)\n",
      "INFO:tensorflow:global_step/sec: 450.708\n",
      "INFO:tensorflow:loss = 568.586, step = 12001 (0.223 sec)\n",
      "INFO:tensorflow:global_step/sec: 425.775\n",
      "INFO:tensorflow:loss = 42.9626, step = 12101 (0.235 sec)\n",
      "INFO:tensorflow:global_step/sec: 486.923\n",
      "INFO:tensorflow:loss = 43.9112, step = 12201 (0.214 sec)\n",
      "INFO:tensorflow:global_step/sec: 421.14\n",
      "INFO:tensorflow:loss = 15780.2, step = 12301 (0.228 sec)\n",
      "INFO:tensorflow:global_step/sec: 436.932\n",
      "INFO:tensorflow:loss = 42.1093, step = 12401 (0.230 sec)\n",
      "INFO:tensorflow:global_step/sec: 460.171\n",
      "INFO:tensorflow:loss = 43.744, step = 12501 (0.217 sec)\n",
      "INFO:tensorflow:global_step/sec: 431.282\n",
      "INFO:tensorflow:loss = 43.8108, step = 12601 (0.233 sec)\n",
      "INFO:tensorflow:global_step/sec: 417.499\n",
      "INFO:tensorflow:loss = 49.5166, step = 12701 (0.239 sec)\n",
      "INFO:tensorflow:global_step/sec: 436.931\n",
      "INFO:tensorflow:loss = 1165.27, step = 12801 (0.229 sec)\n",
      "INFO:tensorflow:global_step/sec: 496.988\n",
      "INFO:tensorflow:loss = 44.0821, step = 12901 (0.213 sec)\n",
      "INFO:tensorflow:global_step/sec: 414.374\n",
      "INFO:tensorflow:loss = 44.9403, step = 13001 (0.231 sec)\n",
      "INFO:tensorflow:global_step/sec: 493.231\n",
      "INFO:tensorflow:loss = 44.5987, step = 13101 (0.211 sec)\n",
      "INFO:tensorflow:global_step/sec: 421.715\n",
      "INFO:tensorflow:loss = 43.399, step = 13201 (0.228 sec)\n",
      "INFO:tensorflow:global_step/sec: 455.444\n",
      "INFO:tensorflow:loss = 43.4725, step = 13301 (0.216 sec)\n",
      "INFO:tensorflow:global_step/sec: 431.944\n",
      "INFO:tensorflow:loss = 106.751, step = 13401 (0.238 sec)\n",
      "INFO:tensorflow:global_step/sec: 472.428\n",
      "INFO:tensorflow:loss = 225.252, step = 13501 (0.221 sec)\n",
      "INFO:tensorflow:global_step/sec: 399.316\n",
      "INFO:tensorflow:loss = 44.5903, step = 13601 (0.239 sec)\n",
      "INFO:tensorflow:global_step/sec: 475.037\n",
      "INFO:tensorflow:loss = 43.7487, step = 13701 (0.211 sec)\n",
      "INFO:tensorflow:global_step/sec: 425.774\n",
      "INFO:tensorflow:loss = 42.9657, step = 13801 (0.235 sec)\n",
      "INFO:tensorflow:global_step/sec: 474.161\n",
      "INFO:tensorflow:loss = 1094.39, step = 13901 (0.223 sec)\n",
      "INFO:tensorflow:global_step/sec: 421.671\n",
      "INFO:tensorflow:loss = 44.5929, step = 14001 (0.226 sec)\n",
      "INFO:tensorflow:global_step/sec: 510.41\n",
      "INFO:tensorflow:loss = 3965.15, step = 14101 (0.213 sec)\n",
      "INFO:tensorflow:global_step/sec: 410.672\n",
      "INFO:tensorflow:loss = 75.2107, step = 14201 (0.226 sec)\n",
      "INFO:tensorflow:global_step/sec: 445.875\n",
      "INFO:tensorflow:loss = 44.0825, step = 14301 (0.221 sec)\n",
      "INFO:tensorflow:global_step/sec: 391.453\n",
      "INFO:tensorflow:loss = 45.6141, step = 14401 (0.259 sec)\n",
      "INFO:tensorflow:global_step/sec: 438.732\n",
      "INFO:tensorflow:loss = 43.9141, step = 14501 (0.224 sec)\n",
      "INFO:tensorflow:global_step/sec: 449.569\n",
      "INFO:tensorflow:loss = 43.4236, step = 14601 (0.226 sec)\n",
      "INFO:tensorflow:global_step/sec: 446.684\n",
      "INFO:tensorflow:loss = 861.352, step = 14701 (0.224 sec)\n",
      "INFO:tensorflow:global_step/sec: 435.031\n",
      "INFO:tensorflow:loss = 43.4116, step = 14801 (0.230 sec)\n",
      "INFO:tensorflow:global_step/sec: 458.444\n",
      "INFO:tensorflow:loss = 44.4217, step = 14901 (0.228 sec)\n",
      "INFO:tensorflow:global_step/sec: 427.478\n",
      "INFO:tensorflow:loss = 44.2507, step = 15001 (0.224 sec)\n",
      "INFO:tensorflow:global_step/sec: 450.708\n",
      "INFO:tensorflow:loss = 117.937, step = 15101 (0.218 sec)\n",
      "INFO:tensorflow:global_step/sec: 416.256\n",
      "INFO:tensorflow:loss = 44.7794, step = 15201 (0.243 sec)\n",
      "INFO:tensorflow:global_step/sec: 418.653\n",
      "INFO:tensorflow:loss = 1057.56, step = 15301 (0.240 sec)\n",
      "INFO:tensorflow:global_step/sec: 444.611\n",
      "INFO:tensorflow:loss = 43.3849, step = 15401 (0.226 sec)\n",
      "INFO:tensorflow:global_step/sec: 470.85\n",
      "INFO:tensorflow:loss = 44.0816, step = 15501 (0.224 sec)\n",
      "INFO:tensorflow:global_step/sec: 402.834\n",
      "INFO:tensorflow:loss = 44.5984, step = 15601 (0.237 sec)\n",
      "INFO:tensorflow:global_step/sec: 458.512\n",
      "INFO:tensorflow:loss = 43.298, step = 15701 (0.213 sec)\n",
      "INFO:tensorflow:global_step/sec: 439.633\n",
      "INFO:tensorflow:loss = 45.6344, step = 15801 (0.230 sec)\n",
      "INFO:tensorflow:global_step/sec: 448.2\n",
      "INFO:tensorflow:loss = 55.8401, step = 15901 (0.220 sec)\n",
      "INFO:tensorflow:global_step/sec: 473.745\n",
      "INFO:tensorflow:loss = 43.7402, step = 16001 (0.224 sec)\n",
      "INFO:tensorflow:global_step/sec: 414.615\n",
      "INFO:tensorflow:loss = 44.0816, step = 16101 (0.231 sec)\n",
      "INFO:tensorflow:global_step/sec: 413.46\n",
      "INFO:tensorflow:loss = 42.4344, step = 16201 (0.243 sec)\n",
      "INFO:tensorflow:global_step/sec: 446.685\n",
      "INFO:tensorflow:loss = 44.1593, step = 16301 (0.224 sec)\n",
      "INFO:tensorflow:global_step/sec: 448.686\n",
      "INFO:tensorflow:loss = 43.6452, step = 16401 (0.222 sec)\n",
      "INFO:tensorflow:global_step/sec: 478.611\n",
      "INFO:tensorflow:loss = 44.2548, step = 16501 (0.225 sec)\n"
     ]
    },
    {
     "name": "stdout",
     "output_type": "stream",
     "text": [
      "INFO:tensorflow:global_step/sec: 406.65\n",
      "INFO:tensorflow:loss = 13588.2, step = 16601 (0.232 sec)\n",
      "INFO:tensorflow:global_step/sec: 491.23\n",
      "INFO:tensorflow:loss = 43.2174, step = 16701 (0.210 sec)\n",
      "INFO:tensorflow:global_step/sec: 434.042\n",
      "INFO:tensorflow:loss = 6599.68, step = 16801 (0.222 sec)\n",
      "INFO:tensorflow:global_step/sec: 491.785\n",
      "INFO:tensorflow:loss = 294.223, step = 16901 (0.220 sec)\n",
      "INFO:tensorflow:global_step/sec: 431.183\n",
      "INFO:tensorflow:loss = 43.7396, step = 17001 (0.212 sec)\n",
      "INFO:tensorflow:global_step/sec: 378.262\n",
      "INFO:tensorflow:loss = 43.4706, step = 17101 (0.268 sec)\n",
      "INFO:tensorflow:global_step/sec: 450.711\n",
      "INFO:tensorflow:loss = 43.9169, step = 17201 (0.221 sec)\n",
      "INFO:tensorflow:global_step/sec: 452.749\n",
      "INFO:tensorflow:loss = 43.0679, step = 17301 (0.221 sec)\n",
      "INFO:tensorflow:global_step/sec: 408.891\n",
      "INFO:tensorflow:loss = 43.0593, step = 17401 (0.245 sec)\n",
      "INFO:tensorflow:global_step/sec: 460.499\n",
      "INFO:tensorflow:loss = 43.9119, step = 17501 (0.213 sec)\n",
      "INFO:tensorflow:global_step/sec: 460.721\n",
      "INFO:tensorflow:loss = 42.9036, step = 17601 (0.217 sec)\n",
      "INFO:tensorflow:global_step/sec: 416.529\n",
      "INFO:tensorflow:loss = 45.4336, step = 17701 (0.243 sec)\n",
      "INFO:tensorflow:global_step/sec: 436.932\n",
      "INFO:tensorflow:loss = 43.6428, step = 17801 (0.230 sec)\n",
      "INFO:tensorflow:global_step/sec: 436.239\n",
      "INFO:tensorflow:loss = 43.9118, step = 17901 (0.237 sec)\n",
      "INFO:tensorflow:global_step/sec: 394.696\n",
      "INFO:tensorflow:loss = 44.5987, step = 18001 (0.245 sec)\n",
      "INFO:tensorflow:global_step/sec: 514.213\n",
      "INFO:tensorflow:loss = 43.9106, step = 18101 (0.201 sec)\n",
      "INFO:tensorflow:global_step/sec: 423.072\n",
      "INFO:tensorflow:loss = 44.2524, step = 18201 (0.226 sec)\n",
      "INFO:tensorflow:global_step/sec: 429.532\n",
      "INFO:tensorflow:loss = 44.0819, step = 18301 (0.233 sec)\n",
      "INFO:tensorflow:global_step/sec: 444.88\n",
      "INFO:tensorflow:loss = 855.82, step = 18401 (0.228 sec)\n",
      "INFO:tensorflow:global_step/sec: 441.312\n",
      "INFO:tensorflow:loss = 91.0514, step = 18501 (0.228 sec)\n",
      "INFO:tensorflow:global_step/sec: 462.033\n",
      "INFO:tensorflow:loss = 43.3834, step = 18601 (0.212 sec)\n",
      "INFO:tensorflow:global_step/sec: 408.143\n",
      "INFO:tensorflow:loss = 43.5615, step = 18701 (0.249 sec)\n",
      "INFO:tensorflow:global_step/sec: 446.282\n",
      "INFO:tensorflow:loss = 43.3921, step = 18801 (0.220 sec)\n",
      "INFO:tensorflow:global_step/sec: 425.771\n",
      "INFO:tensorflow:loss = 44.9553, step = 18901 (0.238 sec)\n",
      "INFO:tensorflow:global_step/sec: 450.709\n",
      "INFO:tensorflow:loss = 43.3845, step = 19001 (0.222 sec)\n",
      "INFO:tensorflow:global_step/sec: 440.781\n",
      "INFO:tensorflow:loss = 44.0813, step = 19101 (0.230 sec)\n",
      "INFO:tensorflow:global_step/sec: 478.877\n",
      "INFO:tensorflow:loss = 43.5676, step = 19201 (0.203 sec)\n",
      "INFO:tensorflow:global_step/sec: 428.362\n",
      "INFO:tensorflow:loss = 43.5684, step = 19301 (0.238 sec)\n",
      "INFO:tensorflow:global_step/sec: 442.93\n",
      "INFO:tensorflow:loss = 43.7415, step = 19401 (0.227 sec)\n",
      "INFO:tensorflow:global_step/sec: 513.613\n",
      "INFO:tensorflow:loss = 43.9241, step = 19501 (0.205 sec)\n",
      "INFO:tensorflow:global_step/sec: 410.394\n",
      "INFO:tensorflow:loss = 43.5677, step = 19601 (0.233 sec)\n",
      "INFO:tensorflow:global_step/sec: 403.458\n",
      "INFO:tensorflow:loss = 44.0821, step = 19701 (0.248 sec)\n",
      "INFO:tensorflow:global_step/sec: 477.347\n",
      "INFO:tensorflow:loss = 43.3955, step = 19801 (0.220 sec)\n",
      "INFO:tensorflow:global_step/sec: 415.495\n",
      "INFO:tensorflow:loss = 43.0568, step = 19901 (0.228 sec)\n",
      "INFO:tensorflow:global_step/sec: 429.429\n",
      "INFO:tensorflow:loss = 44.2541, step = 20001 (0.234 sec)\n",
      "INFO:tensorflow:global_step/sec: 475.388\n",
      "INFO:tensorflow:loss = 43.91, step = 20101 (0.206 sec)\n",
      "INFO:tensorflow:global_step/sec: 434.99\n",
      "INFO:tensorflow:loss = 42.8737, step = 20201 (0.236 sec)\n",
      "INFO:tensorflow:global_step/sec: 425.774\n",
      "INFO:tensorflow:loss = 1492.5, step = 20301 (0.233 sec)\n",
      "INFO:tensorflow:global_step/sec: 436.932\n",
      "INFO:tensorflow:loss = 43.2294, step = 20401 (0.230 sec)\n",
      "INFO:tensorflow:global_step/sec: 425.777\n",
      "INFO:tensorflow:loss = 44.9432, step = 20501 (0.235 sec)\n",
      "INFO:tensorflow:global_step/sec: 400.228\n",
      "INFO:tensorflow:loss = 43.74, step = 20601 (0.249 sec)\n",
      "INFO:tensorflow:global_step/sec: 486.062\n",
      "INFO:tensorflow:loss = 19233.6, step = 20701 (0.202 sec)\n",
      "INFO:tensorflow:global_step/sec: 435.208\n",
      "INFO:tensorflow:loss = 43.5685, step = 20801 (0.234 sec)\n",
      "INFO:tensorflow:global_step/sec: 464.837\n",
      "INFO:tensorflow:loss = 44.5879, step = 20901 (0.211 sec)\n",
      "INFO:tensorflow:global_step/sec: 419.976\n",
      "INFO:tensorflow:loss = 43.7365, step = 21001 (0.241 sec)\n",
      "INFO:tensorflow:global_step/sec: 494.771\n",
      "INFO:tensorflow:loss = 43.565, step = 21101 (0.208 sec)\n",
      "INFO:tensorflow:global_step/sec: 428.819\n",
      "INFO:tensorflow:loss = 43.8141, step = 21201 (0.227 sec)\n",
      "INFO:tensorflow:global_step/sec: 504.397\n",
      "INFO:tensorflow:loss = 44.2543, step = 21301 (0.195 sec)\n",
      "INFO:tensorflow:global_step/sec: 409.909\n",
      "INFO:tensorflow:loss = 16295.5, step = 21401 (0.249 sec)\n",
      "INFO:tensorflow:global_step/sec: 420.313\n",
      "INFO:tensorflow:loss = 45.6211, step = 21501 (0.233 sec)\n",
      "INFO:tensorflow:global_step/sec: 430.37\n",
      "INFO:tensorflow:loss = 120.42, step = 21601 (0.237 sec)\n",
      "INFO:tensorflow:global_step/sec: 497.181\n",
      "INFO:tensorflow:loss = 44.2523, step = 21701 (0.213 sec)\n",
      "INFO:tensorflow:global_step/sec: 417.873\n",
      "INFO:tensorflow:loss = 43.5718, step = 21801 (0.226 sec)\n",
      "INFO:tensorflow:global_step/sec: 441.76\n",
      "INFO:tensorflow:loss = 44.4271, step = 21901 (0.223 sec)\n",
      "INFO:tensorflow:global_step/sec: 429.324\n",
      "INFO:tensorflow:loss = 45.4584, step = 22001 (0.237 sec)\n",
      "INFO:tensorflow:global_step/sec: 460.623\n",
      "INFO:tensorflow:loss = 1130.46, step = 22101 (0.213 sec)\n",
      "INFO:tensorflow:global_step/sec: 441.05\n",
      "INFO:tensorflow:loss = 43.9115, step = 22201 (0.230 sec)\n",
      "INFO:tensorflow:global_step/sec: 480.891\n",
      "INFO:tensorflow:loss = 55.0863, step = 22301 (0.222 sec)\n",
      "INFO:tensorflow:global_step/sec: 384.061\n",
      "INFO:tensorflow:loss = 44.082, step = 22401 (0.247 sec)\n",
      "INFO:tensorflow:global_step/sec: 488.241\n",
      "INFO:tensorflow:loss = 43.0558, step = 22501 (0.216 sec)\n",
      "INFO:tensorflow:global_step/sec: 414.47\n",
      "INFO:tensorflow:loss = 44.6609, step = 22601 (0.231 sec)\n",
      "INFO:tensorflow:global_step/sec: 438.667\n",
      "INFO:tensorflow:loss = 43.91, step = 22701 (0.223 sec)\n",
      "INFO:tensorflow:global_step/sec: 436.012\n",
      "INFO:tensorflow:loss = 748.365, step = 22801 (0.232 sec)\n",
      "INFO:tensorflow:global_step/sec: 497.772\n",
      "INFO:tensorflow:loss = 44.0819, step = 22901 (0.214 sec)\n",
      "INFO:tensorflow:global_step/sec: 418.276\n",
      "INFO:tensorflow:loss = 44.9434, step = 23001 (0.228 sec)\n",
      "INFO:tensorflow:global_step/sec: 444.699\n",
      "INFO:tensorflow:loss = 42.8878, step = 23101 (0.225 sec)\n",
      "INFO:tensorflow:global_step/sec: 414.819\n",
      "INFO:tensorflow:loss = 45.2787, step = 23201 (0.240 sec)\n",
      "INFO:tensorflow:global_step/sec: 435.832\n",
      "INFO:tensorflow:loss = 43.4707, step = 23301 (0.234 sec)\n",
      "INFO:tensorflow:global_step/sec: 437.379\n",
      "INFO:tensorflow:loss = 42.5364, step = 23401 (0.223 sec)\n",
      "INFO:tensorflow:global_step/sec: 463.008\n",
      "INFO:tensorflow:loss = 43.5658, step = 23501 (0.219 sec)\n",
      "INFO:tensorflow:global_step/sec: 420.404\n",
      "INFO:tensorflow:loss = 43.3916, step = 23601 (0.237 sec)\n",
      "INFO:tensorflow:global_step/sec: 462.185\n",
      "INFO:tensorflow:loss = 44.2545, step = 23701 (0.211 sec)\n",
      "INFO:tensorflow:global_step/sec: 428.406\n",
      "INFO:tensorflow:loss = 44.6024, step = 23801 (0.236 sec)\n",
      "INFO:tensorflow:global_step/sec: 457.594\n",
      "INFO:tensorflow:loss = 849.993, step = 23901 (0.216 sec)\n",
      "INFO:tensorflow:global_step/sec: 436.854\n",
      "INFO:tensorflow:loss = 43.556, step = 24001 (0.233 sec)\n",
      "INFO:tensorflow:global_step/sec: 411.758\n",
      "INFO:tensorflow:loss = 43.5556, step = 24101 (0.244 sec)\n",
      "INFO:tensorflow:global_step/sec: 469.159\n",
      "INFO:tensorflow:loss = 44.4281, step = 24201 (0.208 sec)\n",
      "INFO:tensorflow:global_step/sec: 421.272\n",
      "INFO:tensorflow:loss = 43.563, step = 24301 (0.240 sec)\n",
      "INFO:tensorflow:global_step/sec: 488.448\n",
      "INFO:tensorflow:loss = 44.427, step = 24401 (0.217 sec)\n",
      "INFO:tensorflow:global_step/sec: 414.82\n",
      "INFO:tensorflow:loss = 43.1263, step = 24501 (0.229 sec)\n",
      "INFO:tensorflow:global_step/sec: 460.919\n",
      "INFO:tensorflow:loss = 43.052, step = 24601 (0.217 sec)\n",
      "INFO:tensorflow:global_step/sec: 415.913\n",
      "INFO:tensorflow:loss = 45.2702, step = 24701 (0.245 sec)\n",
      "INFO:tensorflow:global_step/sec: 431.281\n",
      "INFO:tensorflow:loss = 43.8114, step = 24801 (0.227 sec)\n",
      "INFO:tensorflow:global_step/sec: 435.031\n",
      "INFO:tensorflow:loss = 198.834, step = 24901 (0.231 sec)\n"
     ]
    },
    {
     "name": "stdout",
     "output_type": "stream",
     "text": [
      "INFO:tensorflow:global_step/sec: 401.838\n",
      "INFO:tensorflow:loss = 44.0829, step = 25001 (0.248 sec)\n",
      "INFO:tensorflow:global_step/sec: 469.604\n",
      "INFO:tensorflow:loss = 43.0611, step = 25101 (0.210 sec)\n",
      "INFO:tensorflow:global_step/sec: 424.114\n",
      "INFO:tensorflow:loss = 43.5748, step = 25201 (0.236 sec)\n",
      "INFO:tensorflow:global_step/sec: 403.07\n",
      "INFO:tensorflow:loss = 44.4865, step = 25301 (0.257 sec)\n",
      "INFO:tensorflow:global_step/sec: 462.217\n",
      "INFO:tensorflow:loss = 44.5886, step = 25401 (0.207 sec)\n",
      "INFO:tensorflow:global_step/sec: 423.463\n",
      "INFO:tensorflow:loss = 72.6502, step = 25501 (0.252 sec)\n",
      "INFO:tensorflow:global_step/sec: 432.073\n",
      "INFO:tensorflow:loss = 43.912, step = 25601 (0.216 sec)\n",
      "INFO:tensorflow:global_step/sec: 411.762\n",
      "INFO:tensorflow:loss = 44.0823, step = 25701 (0.248 sec)\n",
      "INFO:tensorflow:global_step/sec: 442.496\n",
      "INFO:tensorflow:loss = 43.5707, step = 25801 (0.221 sec)\n",
      "INFO:tensorflow:global_step/sec: 411.192\n",
      "INFO:tensorflow:loss = 264.303, step = 25901 (0.246 sec)\n",
      "INFO:tensorflow:global_step/sec: 490.5\n",
      "INFO:tensorflow:loss = 43.2167, step = 26001 (0.209 sec)\n",
      "INFO:tensorflow:global_step/sec: 462.524\n",
      "INFO:tensorflow:loss = 43.2217, step = 26101 (0.208 sec)\n",
      "INFO:tensorflow:global_step/sec: 420.021\n",
      "INFO:tensorflow:loss = 44.2529, step = 26201 (0.242 sec)\n",
      "INFO:tensorflow:global_step/sec: 439.338\n",
      "INFO:tensorflow:loss = 42.9623, step = 26301 (0.228 sec)\n",
      "INFO:tensorflow:global_step/sec: 457.821\n",
      "INFO:tensorflow:loss = 43.742, step = 26401 (0.214 sec)\n",
      "INFO:tensorflow:global_step/sec: 431.95\n",
      "INFO:tensorflow:loss = 44.0819, step = 26501 (0.232 sec)\n",
      "INFO:tensorflow:global_step/sec: 411.016\n",
      "INFO:tensorflow:loss = 44.4214, step = 26601 (0.246 sec)\n",
      "INFO:tensorflow:global_step/sec: 418.002\n",
      "INFO:tensorflow:loss = 44.0825, step = 26701 (0.236 sec)\n",
      "INFO:tensorflow:global_step/sec: 424.725\n",
      "INFO:tensorflow:loss = 43.9801, step = 26801 (0.235 sec)\n",
      "INFO:tensorflow:global_step/sec: 461.007\n",
      "INFO:tensorflow:loss = 43.0652, step = 26901 (0.233 sec)\n",
      "INFO:tensorflow:global_step/sec: 414.204\n",
      "INFO:tensorflow:loss = 44.4203, step = 27001 (0.229 sec)\n",
      "INFO:tensorflow:global_step/sec: 450.708\n",
      "INFO:tensorflow:loss = 236.854, step = 27101 (0.221 sec)\n",
      "INFO:tensorflow:global_step/sec: 446.683\n",
      "INFO:tensorflow:loss = 209.031, step = 27201 (0.224 sec)\n",
      "INFO:tensorflow:global_step/sec: 495.571\n",
      "INFO:tensorflow:loss = 43.8108, step = 27301 (0.207 sec)\n",
      "INFO:tensorflow:global_step/sec: 420.665\n",
      "INFO:tensorflow:loss = 125.059, step = 27401 (0.233 sec)\n",
      "INFO:tensorflow:global_step/sec: 425.774\n",
      "INFO:tensorflow:loss = 43.975, step = 27501 (0.235 sec)\n",
      "INFO:tensorflow:global_step/sec: 401.838\n",
      "INFO:tensorflow:loss = 43.2387, step = 27601 (0.252 sec)\n",
      "INFO:tensorflow:global_step/sec: 442.731\n",
      "INFO:tensorflow:loss = 43.9121, step = 27701 (0.224 sec)\n",
      "INFO:tensorflow:global_step/sec: 512.238\n",
      "INFO:tensorflow:loss = 42.6227, step = 27801 (0.207 sec)\n",
      "INFO:tensorflow:global_step/sec: 397.079\n",
      "INFO:tensorflow:loss = 43.5678, step = 27901 (0.241 sec)\n",
      "INFO:tensorflow:global_step/sec: 485.368\n",
      "INFO:tensorflow:loss = 44.082, step = 28001 (0.201 sec)\n",
      "INFO:tensorflow:global_step/sec: 422.45\n",
      "INFO:tensorflow:loss = 44.5972, step = 28101 (0.240 sec)\n",
      "INFO:tensorflow:global_step/sec: 438.845\n",
      "INFO:tensorflow:loss = 43.9076, step = 28201 (0.230 sec)\n",
      "INFO:tensorflow:global_step/sec: 514.81\n",
      "INFO:tensorflow:loss = 44.7663, step = 28301 (0.205 sec)\n",
      "INFO:tensorflow:global_step/sec: 406.87\n",
      "INFO:tensorflow:loss = 45.1125, step = 28401 (0.234 sec)\n",
      "INFO:tensorflow:global_step/sec: 398.635\n",
      "INFO:tensorflow:loss = 2249.25, step = 28501 (0.251 sec)\n",
      "INFO:tensorflow:global_step/sec: 455.13\n",
      "INFO:tensorflow:loss = 42.8903, step = 28601 (0.216 sec)\n",
      "INFO:tensorflow:global_step/sec: 440.308\n",
      "INFO:tensorflow:loss = 43.5726, step = 28701 (0.232 sec)\n",
      "INFO:tensorflow:global_step/sec: 433.148\n",
      "INFO:tensorflow:loss = 43.9771, step = 28801 (0.232 sec)\n",
      "INFO:tensorflow:global_step/sec: 503.823\n",
      "INFO:tensorflow:loss = 44.0826, step = 28901 (0.192 sec)\n",
      "INFO:tensorflow:global_step/sec: 407.76\n",
      "INFO:tensorflow:loss = 68.9423, step = 29001 (0.249 sec)\n",
      "INFO:tensorflow:global_step/sec: 504.495\n",
      "INFO:tensorflow:loss = 43.0601, step = 29101 (0.211 sec)\n",
      "INFO:tensorflow:global_step/sec: 413.241\n",
      "INFO:tensorflow:loss = 44.4238, step = 29201 (0.230 sec)\n",
      "INFO:tensorflow:global_step/sec: 438.847\n",
      "INFO:tensorflow:loss = 695.753, step = 29301 (0.226 sec)\n",
      "INFO:tensorflow:global_step/sec: 429.286\n",
      "INFO:tensorflow:loss = 44.9391, step = 29401 (0.230 sec)\n",
      "INFO:tensorflow:global_step/sec: 422.34\n",
      "INFO:tensorflow:loss = 44.4287, step = 29501 (0.241 sec)\n",
      "INFO:tensorflow:global_step/sec: 496.028\n",
      "INFO:tensorflow:loss = 44.941, step = 29601 (0.215 sec)\n",
      "INFO:tensorflow:global_step/sec: 405.651\n",
      "INFO:tensorflow:loss = 43.5674, step = 29701 (0.232 sec)\n",
      "INFO:tensorflow:global_step/sec: 510.718\n",
      "INFO:tensorflow:loss = 44.4232, step = 29801 (0.208 sec)\n",
      "INFO:tensorflow:global_step/sec: 414.157\n",
      "INFO:tensorflow:loss = 43.5678, step = 29901 (0.229 sec)\n",
      "INFO:tensorflow:Saving checkpoints for 30000 into model/DNN\\model.ckpt.\n",
      "INFO:tensorflow:Loss for final step: 44.4239.\n"
     ]
    }
   ],
   "source": [
    "%pdb off\n",
    "classifier.train(input_fn=train_input_fn, steps=30000);"
   ]
  },
  {
   "cell_type": "code",
   "execution_count": 22,
   "metadata": {},
   "outputs": [],
   "source": [
    "# Define the test inputs  從 mnist 抄過來改的\n",
    "test_input_fn = tf.estimator.inputs.numpy_input_fn(\n",
    "    x={\"x\": np.array(x_test)[:,:751]},\n",
    "    y=np.array(y_test),\n",
    "    num_epochs=1,\n",
    "    shuffle=False\n",
    "    )"
   ]
  },
  {
   "cell_type": "code",
   "execution_count": 23,
   "metadata": {
    "scrolled": true
   },
   "outputs": [
    {
     "name": "stdout",
     "output_type": "stream",
     "text": [
      "INFO:tensorflow:Calling model_fn.\n",
      "WARNING:tensorflow:Trapezoidal rule is known to produce incorrect PR-AUCs; please switch to \"careful_interpolation\" instead.\n",
      "WARNING:tensorflow:Trapezoidal rule is known to produce incorrect PR-AUCs; please switch to \"careful_interpolation\" instead.\n",
      "INFO:tensorflow:Done calling model_fn.\n",
      "INFO:tensorflow:Starting evaluation at 2018-06-06-09:52:13\n",
      "INFO:tensorflow:Graph was finalized.\n",
      "INFO:tensorflow:Restoring parameters from model/DNN\\model.ckpt-30000\n",
      "INFO:tensorflow:Running local_init_op.\n",
      "INFO:tensorflow:Done running local_init_op.\n",
      "INFO:tensorflow:Finished evaluation at 2018-06-06-09:52:14\n",
      "INFO:tensorflow:Saving dict for global step 30000: accuracy = 0.6, accuracy_baseline = 0.6, auc = 0.5, auc_precision_recall = 0.7, average_loss = 0.67971, global_step = 30000, label/mean = 0.4, loss = 47.5797, precision = 0.0, prediction/mean = 0.457405, recall = 0.0\n",
      "\n",
      "Test Accuracy: 60.000002%\n",
      "\n"
     ]
    }
   ],
   "source": [
    "# Evaluate accuracy\n",
    "evaluate = classifier.evaluate(input_fn=test_input_fn)\n",
    "accuracy_score = evaluate[\"accuracy\"]\n",
    "print(\"\\nTest Accuracy: {0:f}%\\n\".format(accuracy_score*100))"
   ]
  },
  {
   "cell_type": "code",
   "execution_count": 24,
   "metadata": {},
   "outputs": [
    {
     "data": {
      "text/plain": [
       "{'accuracy': 0.60000002,\n",
       " 'accuracy_baseline': 0.60000002,\n",
       " 'auc': 0.5,\n",
       " 'auc_precision_recall': 0.69999999,\n",
       " 'average_loss': 0.67970961,\n",
       " 'global_step': 30000,\n",
       " 'label/mean': 0.40000001,\n",
       " 'loss': 47.579674,\n",
       " 'precision': 0.0,\n",
       " 'prediction/mean': 0.45740461,\n",
       " 'recall': 0.0}"
      ]
     },
     "execution_count": 24,
     "metadata": {},
     "output_type": "execute_result"
    }
   ],
   "source": [
    "evaluate"
   ]
  },
  {
   "cell_type": "markdown",
   "metadata": {},
   "source": [
    "## How about a 'recall' ?"
   ]
  },
  {
   "cell_type": "code",
   "execution_count": 25,
   "metadata": {},
   "outputs": [],
   "source": [
    "# Define the test inputs  從 mnist 抄過來改的\n",
    "test_input_fn = tf.estimator.inputs.numpy_input_fn(\n",
    "    x={\"x\": np.array(x_train)[:,:751]},\n",
    "    y=np.array(y_train),\n",
    "    num_epochs=1,\n",
    "    shuffle=False\n",
    "    )"
   ]
  },
  {
   "cell_type": "code",
   "execution_count": 26,
   "metadata": {},
   "outputs": [
    {
     "name": "stdout",
     "output_type": "stream",
     "text": [
      "INFO:tensorflow:Calling model_fn.\n",
      "WARNING:tensorflow:Trapezoidal rule is known to produce incorrect PR-AUCs; please switch to \"careful_interpolation\" instead.\n",
      "WARNING:tensorflow:Trapezoidal rule is known to produce incorrect PR-AUCs; please switch to \"careful_interpolation\" instead.\n",
      "INFO:tensorflow:Done calling model_fn.\n",
      "INFO:tensorflow:Starting evaluation at 2018-06-06-09:52:17\n",
      "INFO:tensorflow:Graph was finalized.\n",
      "INFO:tensorflow:Restoring parameters from model/DNN\\model.ckpt-30000\n",
      "INFO:tensorflow:Running local_init_op.\n",
      "INFO:tensorflow:Done running local_init_op.\n",
      "INFO:tensorflow:Finished evaluation at 2018-06-06-09:52:18\n",
      "INFO:tensorflow:Saving dict for global step 30000: accuracy = 0.542857, accuracy_baseline = 0.542857, auc = 0.5, auc_precision_recall = 0.728571, average_loss = 0.689469, global_step = 30000, label/mean = 0.457143, loss = 64.3505, precision = 0.0, prediction/mean = 0.457405, recall = 0.0\n",
      "\n",
      "Test Accuracy: 54.285717%\n",
      "\n"
     ]
    }
   ],
   "source": [
    "# Evaluate accuracy\n",
    "accuracy_score = classifier.evaluate(input_fn=test_input_fn)[\"accuracy\"]\n",
    "print(\"\\nTest Accuracy: {0:f}%\\n\".format(accuracy_score*100))"
   ]
  },
  {
   "cell_type": "code",
   "execution_count": null,
   "metadata": {},
   "outputs": [],
   "source": []
  },
  {
   "cell_type": "markdown",
   "metadata": {},
   "source": [
    "### 用全部資料來比對"
   ]
  },
  {
   "cell_type": "code",
   "execution_count": 27,
   "metadata": {},
   "outputs": [],
   "source": [
    "# Make input function for prediction:\n",
    "#   shuffle=False -> do not randomize input data\n",
    "pred_input_fn = tf.estimator.inputs.numpy_input_fn(\n",
    "    x={\"x\": np.array(x)[:,:751]},\n",
    "    y=np.array(y),\n",
    "    num_epochs=1,  # Just one epoch\n",
    "    shuffle=False, # Don't shuffle so we can compare to true labels later\n",
    "    )  # 參考 GitHub/tensorflow-workshop/examples/07_structured_data.ipynb\n"
   ]
  },
  {
   "cell_type": "code",
   "execution_count": 28,
   "metadata": {},
   "outputs": [],
   "source": [
    "# 從 wh300/DNNClassifier_Predicting.ipynb 抄來的例子\n",
    "# Predict 整批 test input \n",
    "preds = classifier.predict(pred_input_fn)"
   ]
  },
  {
   "cell_type": "code",
   "execution_count": 29,
   "metadata": {},
   "outputs": [
    {
     "name": "stdout",
     "output_type": "stream",
     "text": [
      "INFO:tensorflow:Calling model_fn.\n",
      "INFO:tensorflow:Done calling model_fn.\n",
      "INFO:tensorflow:Graph was finalized.\n",
      "INFO:tensorflow:Restoring parameters from model/DNN\\model.ckpt-30000\n",
      "INFO:tensorflow:Running local_init_op.\n",
      "INFO:tensorflow:Done running local_init_op.\n"
     ]
    }
   ],
   "source": [
    "# preds 好像是 interator 要反覆研究必須這樣取出來\n",
    "predict = [i for i in preds];"
   ]
  },
  {
   "cell_type": "code",
   "execution_count": 30,
   "metadata": {},
   "outputs": [
    {
     "name": "stdout",
     "output_type": "stream",
     "text": [
      "( DNN 猜測的結果 ) predictions tib. \\ ==> [0, 0, 0, 0, 0, 0, 0, 0, 0, 0, 0, 0, 0, 0, 0, 0, 0, 0, 0, 0, 0, 0, 0, 0, 0, 0, 0, 0, 0, 0, 0, 0, 0, 0, 0, 0, 0, 0, 0, 0, 0, 0, 0, 0, 0, 0, 0, 0, 0, 0, 0, 0, 0, 0, 0, 0, 0, 0, 0, 0, 0, 0, 0, 0, 0, 0, 0, 0, 0, 0, 0, 0, 0, 0, 0, 0, 0, 0, 0, 0, 0, 0, 0, 0, 0, 0, 0, 0, 0, 0, 0, 0, 0, 0, 0, 0, 0, 0, 0, 0, 0, 0, 0, 0, 0, 0, 0, 0, 0, 0, 0, 0, 0, 0, 0, 0, 0, 0, 0, 0, 0, 0, 0, 0, 0, 0, 0, 0, 0, 0, 0, 0, 0, 0, 0, 0, 0, 0, 0, 0, 0, 0, 0, 0, 0, 0, 0, 0, 0, 0, 0, 0, 0, 0, 0, 0, 0, 0, 0, 0, 0, 0, 0, 0, 0, 0, 0, 0, 0, 0, 0, 0, 0, 0, 0, 0, 0, 0, 0, 0, 0, 0, 0, 0, 0, 0, 0, 0, 0, 0, 0, 0, 0, 0, 0, 0, 0, 0, 0, 0, 0, 0, 0, 0, 0, 0, 0, 0, 0, 0, 0, 0, 0, 0, 0, 0, 0, 0, 0, 0, 0, 0, 0, 0, 0, 0, 0, 0, 0, 0, 0, 0, 0, 0, 0, 0, 0, 0, 0, 0, 0, 0, 0, 0, 0, 0, 0, 0, 0, 0, 0, 0, 0, 0, 0, 0, 0, 0, 0, 0, 0, 0, 0, 0, 0, 0, 0, 0, 0, 0, 0, 0, 0, 0, 0, 0, 0, 0, 0, 0, 0, 0, 0, 0, 0, 0, 0, 0, 0, 0, 0, 0, 0, 0, 0, 0, 0, 0, 0, 0, 0, 0, 0, 0, 0, 0, 0, 0, 0, 0, 0, 0, 0, 0, 0, 0, 0, 0, 0, 0, 0, 0, 0, 0, 0, 0, 0, 0, 0, 0, 0, 0, 0, 0, 0, 0, 0, 0, 0, 0, 0, 0, 0, 0, 0, 0, 0, 0, 0, 0] (<class 'list'>)\n",
      "( 跟實際的比較 ) y tib. \\ ==> [1, 0, 0, 0, 0, 0, 1, 0, 1, 1, 1, 0, 1, 1, 1, 1, 0, 0, 0, 0, 0, 0, 0, 1, 1, 1, 0, 1, 0, 0, 0, 0, 0, 1, 1, 0, 1, 0, 1, 1, 0, 1, 1, 0, 0, 1, 1, 0, 0, 0, 0, 1, 1, 1, 0, 0, 0, 1, 0, 0, 0, 1, 0, 1, 0, 1, 0, 0, 0, 0, 0, 1, 0, 0, 0, 1, 0, 1, 0, 1, 0, 0, 1, 1, 1, 1, 1, 1, 1, 0, 0, 1, 0, 0, 1, 1, 1, 1, 0, 1, 1, 0, 0, 1, 1, 0, 0, 0, 0, 1, 1, 1, 0, 1, 1, 0, 0, 0, 1, 0, 0, 1, 0, 1, 0, 0, 0, 0, 1, 0, 1, 0, 0, 1, 0, 0, 1, 0, 1, 0, 0, 1, 0, 0, 0, 0, 0, 1, 0, 1, 1, 1, 1, 0, 0, 1, 1, 1, 1, 1, 0, 0, 0, 1, 1, 1, 1, 1, 0, 0, 0, 0, 0, 0, 0, 1, 1, 1, 0, 0, 0, 0, 0, 0, 0, 0, 1, 1, 0, 0, 0, 0, 1, 0, 1, 1, 0, 0, 1, 0, 1, 1, 1, 0, 0, 0, 0, 0, 0, 1, 1, 0, 0, 1, 0, 0, 0, 0, 1, 1, 0, 1, 0, 0, 0, 0, 0, 1, 0, 1, 0, 0, 0, 1, 1, 0, 0, 0, 1, 1, 1, 1, 1, 1, 1, 1, 1, 1, 1, 0, 0, 0, 1, 1, 0, 0, 0, 0, 0, 1, 1, 0, 1, 1, 0, 1, 0, 0, 1, 1, 0, 1, 0, 0, 0, 1, 0, 1, 0, 0, 1, 0, 0, 0, 1, 1, 0, 0, 1, 0, 0, 0, 1, 0, 0, 0, 0, 0, 1, 1, 1, 0, 1, 0, 0, 1, 1, 1, 0, 0, 1, 1, 1, 1, 0, 0, 0, 0, 1, 1, 1, 1, 1, 1, 1, 0, 1, 0, 0, 1, 0, 0, 0, 0, 1, 1, 1, 0, 0, 1, 0, 0, 0, 0, 1, 0, 1, 1, 1, 0] (<class 'list'>)\n",
      "predictions py> sum(pop()) tib. \\ ==> 0 (<class 'numpy.int64'>)\n",
      "y py> sum(pop()) tib. \\ ==> 156 (<class 'numpy.int32'>)\n",
      "predictions np :> array(pop()).shape tib. \\ ==> (350,) (<class 'tuple'>)\n",
      "y np :> array(pop()).shape tib. \\ ==> (350,) (<class 'tuple'>)\n"
     ]
    }
   ],
   "source": [
    "# np.argmax() 就是用來從 probabilities array 讀出結論的方法\n",
    "# https://docs.scipy.org/doc/numpy/reference/generated/numpy.argmax.html\n",
    "\n",
    "predictions = [np.argmax(predict[i]['probabilities'],axis=-1) for i in range(len(x))]; \n",
    "%f ( DNN 猜測的結果 ) predictions tib.\n",
    "%f ( 跟實際的比較 ) y tib.\n",
    "%f predictions py> sum(pop()) tib.\n",
    "%f y py> sum(pop()) tib.\n",
    "%f predictions np :> array(pop()).shape tib.\n",
    "%f y np :> array(pop()).shape tib.\n"
   ]
  },
  {
   "cell_type": "code",
   "execution_count": 31,
   "metadata": {},
   "outputs": [
    {
     "name": "stdout",
     "output_type": "stream",
     "text": [
      "categories ( 沒事的，漏掉的，多的，一致的 ) tib. \\ ==> [194, 156, 0, 0] (<class 'list'>)\n"
     ]
    }
   ],
   "source": [
    "# 查看 AI 預測的結果，與人工 tag 比較。\n",
    "categories = [0,0,0,0]\n",
    "for i in range(len(y)): \n",
    "    if int(predictions[i])==int(y[i]) and int(y[i])==0: categories[0]+=1; continue\n",
    "    if int(predictions[i])!=int(y[i]) and int(y[i])==1: categories[1]+=1; continue\n",
    "    if int(predictions[i])!=int(y[i]) and int(y[i])==0: categories[2]+=1; continue\n",
    "    if int(predictions[i])==int(y[i]) and int(y[i])==1: categories[3]+=1; continue\n",
    "%f categories ( 沒事的，漏掉的，多的，一致的 ) tib."
   ]
  },
  {
   "cell_type": "code",
   "execution_count": null,
   "metadata": {},
   "outputs": [],
   "source": []
  },
  {
   "cell_type": "markdown",
   "metadata": {},
   "source": [
    "### 用 test 資料來比對"
   ]
  },
  {
   "cell_type": "code",
   "execution_count": 32,
   "metadata": {},
   "outputs": [],
   "source": [
    "# Make input function for prediction:\n",
    "#   shuffle=False -> do not randomize input data\n",
    "pred_input_fn = tf.estimator.inputs.numpy_input_fn(\n",
    "    x={\"x\": np.array(x_test)[:,:751]},\n",
    "    y=np.array(y_test),\n",
    "    num_epochs=1,  # Just one epoch\n",
    "    shuffle=False, # Don't shuffle so we can compare to true labels later\n",
    "    )  # 參考 GitHub/tensorflow-workshop/examples/07_structured_data.ipynb\n"
   ]
  },
  {
   "cell_type": "code",
   "execution_count": 33,
   "metadata": {},
   "outputs": [],
   "source": [
    "# 從 wh300/DNNClassifier_Predicting.ipynb 抄來的例子\n",
    "# Predict 整批 test input \n",
    "preds = classifier.predict(pred_input_fn)"
   ]
  },
  {
   "cell_type": "code",
   "execution_count": 34,
   "metadata": {},
   "outputs": [
    {
     "name": "stdout",
     "output_type": "stream",
     "text": [
      "INFO:tensorflow:Calling model_fn.\n",
      "INFO:tensorflow:Done calling model_fn.\n",
      "INFO:tensorflow:Graph was finalized.\n",
      "INFO:tensorflow:Restoring parameters from model/DNN\\model.ckpt-30000\n",
      "INFO:tensorflow:Running local_init_op.\n",
      "INFO:tensorflow:Done running local_init_op.\n"
     ]
    }
   ],
   "source": [
    "# preds 好像是 interator 要反覆研究必須這樣取出來\n",
    "predict = [i for i in preds];"
   ]
  },
  {
   "cell_type": "code",
   "execution_count": 35,
   "metadata": {},
   "outputs": [
    {
     "name": "stdout",
     "output_type": "stream",
     "text": [
      "( DNN 猜測的結果 ) predictions tib. \\ ==> [0, 0, 0, 0, 0, 0, 0, 0, 0, 0, 0, 0, 0, 0, 0, 0, 0, 0, 0, 0, 0, 0, 0, 0, 0, 0, 0, 0, 0, 0, 0, 0, 0, 0, 0, 0, 0, 0, 0, 0, 0, 0, 0, 0, 0, 0, 0, 0, 0, 0, 0, 0, 0, 0, 0, 0, 0, 0, 0, 0, 0, 0, 0, 0, 0, 0, 0, 0, 0, 0] (<class 'list'>)\n",
      "( 跟實際的比較 ) y_test tib. \\ ==> [1, 0, 1, 1, 1, 1, 1, 0, 0, 1, 1, 0, 0, 1, 0, 0, 0, 1, 0, 1, 1, 0, 0, 1, 0, 0, 1, 0, 0, 1, 0, 0, 1, 1, 0, 0, 1, 0, 0, 0, 0, 0, 0, 0, 0, 0, 0, 1, 0, 0, 0, 0, 0, 1, 1, 1, 0, 0, 0, 0, 1, 0, 0, 1, 1, 1, 0, 1, 0, 1] (<class 'list'>)\n",
      "predictions py> sum(pop()) tib. \\ ==> 0 (<class 'numpy.int64'>)\n",
      "y_test py> sum(pop()) tib. \\ ==> 28 (<class 'numpy.int32'>)\n",
      "predictions np :> array(pop()).shape tib. \\ ==> (70,) (<class 'tuple'>)\n",
      "y_test np :> array(pop()).shape tib. \\ ==> (70,) (<class 'tuple'>)\n"
     ]
    }
   ],
   "source": [
    "# np.argmax() 就是用來從 probabilities array 讀出結論的方法\n",
    "# https://docs.scipy.org/doc/numpy/reference/generated/numpy.argmax.html\n",
    "\n",
    "predictions = [np.argmax(predict[i]['probabilities'],axis=-1) for i in range(len(x_test))]; \n",
    "%f ( DNN 猜測的結果 ) predictions tib.\n",
    "%f ( 跟實際的比較 ) y_test tib.\n",
    "%f predictions py> sum(pop()) tib.\n",
    "%f y_test py> sum(pop()) tib.\n",
    "%f predictions np :> array(pop()).shape tib.\n",
    "%f y_test np :> array(pop()).shape tib.\n"
   ]
  },
  {
   "cell_type": "code",
   "execution_count": 36,
   "metadata": {},
   "outputs": [
    {
     "name": "stdout",
     "output_type": "stream",
     "text": [
      "categories ( 沒事的，漏掉的，多的，一致的 ) tib. \\ ==> [42, 28, 0, 0] (<class 'list'>)\n"
     ]
    }
   ],
   "source": [
    "# 查看 AI 預測的結果，與人工 tag 比較。\n",
    "categories = [0,0,0,0]\n",
    "for i in range(len(y_test)): \n",
    "    if int(predictions[i])==int(y_test[i]) and int(y_test[i])==0: categories[0]+=1; continue\n",
    "    if int(predictions[i])!=int(y_test[i]) and int(y_test[i])==1: categories[1]+=1; continue\n",
    "    if int(predictions[i])!=int(y_test[i]) and int(y_test[i])==0: categories[2]+=1; continue\n",
    "    if int(predictions[i])==int(y_test[i]) and int(y_test[i])==1: categories[3]+=1; continue\n",
    "%f categories ( 沒事的，漏掉的，多的，一致的 ) tib."
   ]
  },
  {
   "cell_type": "code",
   "execution_count": null,
   "metadata": {},
   "outputs": [],
   "source": []
  },
  {
   "cell_type": "markdown",
   "metadata": {},
   "source": [
    "### 用全部資料來比對"
   ]
  },
  {
   "cell_type": "code",
   "execution_count": null,
   "metadata": {},
   "outputs": [],
   "source": [
    "# Make input function for prediction:\n",
    "#   shuffle=False -> do not randomize input data\n",
    "pred_input_fn = tf.estimator.inputs.numpy_input_fn(\n",
    "    x={\"x\": np.array(x)[:,:751]},\n",
    "    y=np.array(y),\n",
    "    num_epochs=1,  # Just one epoch\n",
    "    shuffle=False, # Don't shuffle so we can compare to true labels later\n",
    "    )  # 參考 GitHub/tensorflow-workshop/examples/07_structured_data.ipynb\n"
   ]
  },
  {
   "cell_type": "code",
   "execution_count": null,
   "metadata": {},
   "outputs": [],
   "source": [
    "# 從 wh300/DNNClassifier_Predicting.ipynb 抄來的例子\n",
    "# Predict 整批 test input \n",
    "preds = classifier.predict(pred_input_fn)"
   ]
  },
  {
   "cell_type": "code",
   "execution_count": null,
   "metadata": {},
   "outputs": [],
   "source": [
    "# preds 好像是 interator 要反覆研究必須這樣取出來\n",
    "predict = [i for i in preds];"
   ]
  },
  {
   "cell_type": "code",
   "execution_count": null,
   "metadata": {},
   "outputs": [],
   "source": [
    "# np.argmax() 就是用來從 probabilities array 讀出結論的方法\n",
    "# https://docs.scipy.org/doc/numpy/reference/generated/numpy.argmax.html\n",
    "\n",
    "predictions = [np.argmax(predict[i]['probabilities'],axis=-1) for i in range(len(x))]; \n",
    "%f ( DNN 猜測的結果 ) predictions tib.\n",
    "%f ( 跟實際的比較 ) y tib.\n",
    "%f predictions py> sum(pop()) tib.\n",
    "%f y py> sum(pop()) tib.\n",
    "%f predictions np :> array(pop()).shape tib.\n",
    "%f y np :> array(pop()).shape tib.\n"
   ]
  },
  {
   "cell_type": "code",
   "execution_count": null,
   "metadata": {},
   "outputs": [],
   "source": [
    "# 查看 AI 預測的結果，與人工 tag 比較。\n",
    "categories = [0,0,0,0]\n",
    "for i in range(len(y)): \n",
    "    if int(predictions[i])==int(y[i]) and int(y[i])==0: categories[0]+=1; continue\n",
    "    if int(predictions[i])!=int(y[i]) and int(y[i])==1: categories[1]+=1; continue\n",
    "    if int(predictions[i])!=int(y[i]) and int(y[i])==0: categories[2]+=1; continue\n",
    "    if int(predictions[i])==int(y[i]) and int(y[i])==1: categories[3]+=1; continue\n",
    "%f categories ( 沒事的，漏掉的，多的，一致的 ) tib."
   ]
  },
  {
   "cell_type": "code",
   "execution_count": null,
   "metadata": {},
   "outputs": [],
   "source": []
  },
  {
   "cell_type": "code",
   "execution_count": null,
   "metadata": {},
   "outputs": [],
   "source": []
  },
  {
   "cell_type": "code",
   "execution_count": null,
   "metadata": {},
   "outputs": [],
   "source": []
  },
  {
   "cell_type": "code",
   "execution_count": null,
   "metadata": {},
   "outputs": [],
   "source": []
  },
  {
   "cell_type": "code",
   "execution_count": null,
   "metadata": {},
   "outputs": [],
   "source": []
  },
  {
   "cell_type": "code",
   "execution_count": null,
   "metadata": {},
   "outputs": [],
   "source": [
    "!start tensorboard --logdir=\"model/DNN\""
   ]
  },
  {
   "cell_type": "markdown",
   "metadata": {},
   "source": [
    "# 用 iris 來檢驗一下我的程式\n",
    "###  漲停後 one-shot 天內問【今天續漲嗎？】\n",
    "\n",
    "iris 就沒問題，效果非常好，那可以說是 data 的問題囉？"
   ]
  },
  {
   "cell_type": "code",
   "execution_count": null,
   "metadata": {},
   "outputs": [],
   "source": [
    "%%js\n",
    "alert(\"要不要把 model/DNN directory 先殺掉？\")\n"
   ]
  },
  {
   "cell_type": "code",
   "execution_count": null,
   "metadata": {},
   "outputs": [],
   "source": [
    "import tensorflow as tf\n",
    "import numpy as np\n",
    "import pandas as pd\n",
    "import peforth as f\n",
    "from sklearn import datasets"
   ]
  },
  {
   "cell_type": "code",
   "execution_count": null,
   "metadata": {},
   "outputs": [],
   "source": [
    "%%f\n",
    "\\ Now we redefine the 'unknown' command that does nothing at default  \n",
    ": unknown ( token -- thing Y|N) // Try to find the unknown token in __main__\n",
    "  py> getattr(sys.modules['__main__'],pop(),\"Ûnknôwn\") \n",
    "  py> str(tos())==\"Ûnknôwn\" if drop false else true then ;\n",
    "  /// here after, when FORTH come accross an unknown token, instead of alerting \n",
    "  /// it try to find the token in python __main__ module name space.\n",
    ": path-to-find-modules ( <path> -- ) // Add path to sys.path so \"import module-name\" can find the module\n",
    "    CR word trim ( \"path\" ) py: sys.path.append(pop()) ;\n",
    "code \\ print(nexttoken('\\n')) end-code // Redefine \\ command to print the comment line \n"
   ]
  },
  {
   "cell_type": "code",
   "execution_count": null,
   "metadata": {},
   "outputs": [],
   "source": [
    "iris = datasets.load_iris()"
   ]
  },
  {
   "cell_type": "code",
   "execution_count": null,
   "metadata": {},
   "outputs": [],
   "source": [
    "x=iris.data \n",
    "y=iris.target\n",
    "%f x :> shape tib.\n",
    "%f y :> shape tib.    "
   ]
  },
  {
   "cell_type": "code",
   "execution_count": null,
   "metadata": {},
   "outputs": [],
   "source": [
    "%f (  ) x :> shape tib. ( ?, 751 )\n",
    "%f (  ) x :> shape[0] tib. ( ? )\n",
    "%f (  ) y :> shape tib. ( ?, )    \n",
    "%f (  ) y :> shape[0] tib. ( ? )    \n",
    "%f (  ) y py> sum(pop()) tib. ( 1629 )"
   ]
  },
  {
   "cell_type": "code",
   "execution_count": null,
   "metadata": {},
   "outputs": [],
   "source": [
    "from sklearn import cross_validation\n",
    "x_train, x_test, y_train, y_test = cross_validation.train_test_split(x, y, test_size = 0.2)"
   ]
  },
  {
   "cell_type": "code",
   "execution_count": null,
   "metadata": {},
   "outputs": [],
   "source": [
    "import sklearn\n",
    "sklearn.__version__"
   ]
  },
  {
   "cell_type": "code",
   "execution_count": null,
   "metadata": {},
   "outputs": [],
   "source": [
    "%f x_train np :> array(pop()).shape tib.\n",
    "%f y_train np :> array(pop()).shape tib.\n",
    "%f x_test np :> array(pop()).shape tib.\n",
    "%f y_test np :> array(pop()).shape tib."
   ]
  },
  {
   "cell_type": "code",
   "execution_count": null,
   "metadata": {},
   "outputs": [],
   "source": [
    "# 應該只有一個 feature 是個 shape = (751,) 的 array. 這怎麼表達?\n",
    "my_feature_columns = [tf.feature_column.numeric_column(\"x\", shape=[4,])]  \n",
    "my_feature_columns"
   ]
  },
  {
   "cell_type": "code",
   "execution_count": null,
   "metadata": {
    "scrolled": false
   },
   "outputs": [],
   "source": [
    "# Build 2 hidden layer DNN\n",
    "classifier = tf.estimator.DNNClassifier(\n",
    "    feature_columns=my_feature_columns,\n",
    "    hidden_units=[64,32],\n",
    "    n_classes=3,\n",
    "    dropout=0.2,\n",
    "    model_dir=\"model/DNN\"\n",
    "    )"
   ]
  },
  {
   "cell_type": "code",
   "execution_count": null,
   "metadata": {},
   "outputs": [],
   "source": [
    "# Define the training inputs 從 mnist 抄過來改的\n",
    "train_input_fn = tf.estimator.inputs.numpy_input_fn(\n",
    "    x={\"x\": x_train},\n",
    "    y=y_train,\n",
    "    num_epochs=None,\n",
    "    batch_size=64,\n",
    "    shuffle=True\n",
    "    )"
   ]
  },
  {
   "cell_type": "code",
   "execution_count": null,
   "metadata": {},
   "outputs": [],
   "source": [
    "%pdb off\n",
    "classifier.train(input_fn=train_input_fn, steps=3000);"
   ]
  },
  {
   "cell_type": "code",
   "execution_count": null,
   "metadata": {},
   "outputs": [],
   "source": [
    "# Define the test inputs  從 mnist 抄過來改的\n",
    "test_input_fn = tf.estimator.inputs.numpy_input_fn(\n",
    "    x={\"x\": x_test},\n",
    "    y=y_test,\n",
    "    num_epochs=1,\n",
    "    shuffle=False\n",
    "    )"
   ]
  },
  {
   "cell_type": "code",
   "execution_count": null,
   "metadata": {},
   "outputs": [],
   "source": [
    "# Evaluate accuracy\n",
    "accuracy_score = classifier.evaluate(input_fn=test_input_fn)[\"accuracy\"]\n",
    "print(\"\\nTest Accuracy: {0:f}%\\n\".format(accuracy_score*100))"
   ]
  },
  {
   "cell_type": "code",
   "execution_count": null,
   "metadata": {},
   "outputs": [],
   "source": []
  },
  {
   "cell_type": "markdown",
   "metadata": {},
   "source": [
    "## How about a 'recall' ?"
   ]
  },
  {
   "cell_type": "code",
   "execution_count": null,
   "metadata": {},
   "outputs": [],
   "source": [
    "# Define the test inputs  從 mnist 抄過來改的\n",
    "test_input_fn = tf.estimator.inputs.numpy_input_fn(\n",
    "    x={\"x\": x_train},\n",
    "    y=y_train,\n",
    "    num_epochs=1,\n",
    "    shuffle=False\n",
    "    )"
   ]
  },
  {
   "cell_type": "code",
   "execution_count": null,
   "metadata": {},
   "outputs": [],
   "source": [
    "# Evaluate accuracy\n",
    "accuracy_score = classifier.evaluate(input_fn=test_input_fn)[\"accuracy\"]\n",
    "print(\"\\nTest Accuracy: {0:f}%\\n\".format(accuracy_score*100))"
   ]
  },
  {
   "cell_type": "code",
   "execution_count": null,
   "metadata": {},
   "outputs": [],
   "source": []
  },
  {
   "cell_type": "code",
   "execution_count": null,
   "metadata": {},
   "outputs": [],
   "source": []
  },
  {
   "cell_type": "code",
   "execution_count": null,
   "metadata": {},
   "outputs": [],
   "source": []
  },
  {
   "cell_type": "code",
   "execution_count": null,
   "metadata": {},
   "outputs": [],
   "source": []
  },
  {
   "cell_type": "markdown",
   "metadata": {},
   "source": [
    "#  漲停後 one-shot 天內問【今天續漲嗎？】\n",
    "\n",
    "- 照老師的方法，把資料整理成 150天 一長條一筆，如果往前沒有 150 天就不用。\n",
    "- 掃出所有漲停的日子，以及後 one-shot 天，如果又有漲停就繼續 one-shot。這樣縮小 dataset 範圍。\n",
    "- 以此 dataset 問 AI 明天是否【續漲】且【不破前低】？平衡正反雙方，取得 n 值。"
   ]
  },
  {
   "cell_type": "code",
   "execution_count": 1,
   "metadata": {},
   "outputs": [
    {
     "data": {
      "application/javascript": [
       "alert(\"要不要把 model/DNN directory 先殺掉？\")\n",
       "alert(\"注意 batch_size 合不合理？一千也照跑，結果都是 0.\")"
      ],
      "text/plain": [
       "<IPython.core.display.Javascript object>"
      ]
     },
     "metadata": {},
     "output_type": "display_data"
    }
   ],
   "source": [
    "%%js\n",
    "alert(\"要不要把 model/DNN directory 先殺掉？\")\n",
    "alert(\"注意 batch_size 合不合理？一千也照跑，結果都是 0.\")"
   ]
  },
  {
   "cell_type": "code",
   "execution_count": 2,
   "metadata": {},
   "outputs": [],
   "source": [
    "import tensorflow as tf\n",
    "import numpy as np\n",
    "import pandas as pd\n",
    "import peforth as f"
   ]
  },
  {
   "cell_type": "code",
   "execution_count": 3,
   "metadata": {},
   "outputs": [
    {
     "name": "stdout",
     "output_type": "stream",
     "text": [
      "reDef unknown\n",
      "reDef \\\n"
     ]
    }
   ],
   "source": [
    "%%f\n",
    "\\ Now we redefine the 'unknown' command that does nothing at default  \n",
    ": unknown ( token -- thing Y|N) // Try to find the unknown token in __main__\n",
    "  py> getattr(sys.modules['__main__'],pop(),\"Ûnknôwn\") \n",
    "  py> str(tos())==\"Ûnknôwn\" if drop false else true then ;\n",
    "  /// here after, when FORTH come accross an unknown token, instead of alerting \n",
    "  /// it try to find the token in python __main__ module name space.\n",
    ": path-to-find-modules ( <path> -- ) // Add path to sys.path so \"import module-name\" can find the module\n",
    "    CR word trim ( \"path\" ) py: sys.path.append(pop()) ;\n",
    "code \\ print(nexttoken('\\n')) end-code // Redefine \\ command to print the comment line \n"
   ]
  },
  {
   "cell_type": "code",
   "execution_count": 4,
   "metadata": {},
   "outputs": [],
   "source": [
    "data = pd.read_csv('000777.csv',encoding='gbk',parse_dates=[0],index_col=0)\n",
    "\n",
    "# data frame 中帶有 None 的 rows 都剔除掉。 本來有 4752 rows 現在只剩 4639 \n",
    "# 用法: df.dropna(axis=0, how='any', thresh=None, subset=None, inplace=False)\n",
    "data = data.replace(to_replace='None', value=np.nan).dropna()  \n",
    "\n",
    "# pdb.set_trace() # data 本來是新的在上面\n",
    "data.sort_index(0,ascending=True,inplace=True) # 排序 sort 過後變成最舊的在上面\n",
    "\n",
    "# 上市第一天的資料不要，因為【漲跌幅】無效。\n",
    "data = data.query('index > \"1997-07-10\"')"
   ]
  },
  {
   "cell_type": "code",
   "execution_count": 5,
   "metadata": {},
   "outputs": [],
   "source": [
    "# raw data has 20 years long, but here only analysis the last 150 days of a chosen day\n",
    "dayfeature = 150\n",
    "oneshot = 5  # 漲停後慣性天數，使正反平衡\n",
    "dayforesee = oneshot  # 問未來幾天如何如何，最後就要扣掉幾天，避免 out of bounds. 0 代表當天。\n",
    "featurenum = 5*dayfeature  # 取五個有關係的欄位，ochlq 等五個特徵值。\n",
    "cross_validation_rate = 0.2\n",
    "xlength = data.shape[0]-dayfeature-dayforesee"
   ]
  },
  {
   "cell_type": "code",
   "execution_count": 6,
   "metadata": {
    "scrolled": false
   },
   "outputs": [
    {
     "name": "stdout",
     "output_type": "stream",
     "text": [
      "( 總天數 ) data :> shape[0] tib. \\ ==> 4638 (<class 'int'>)\n",
      "( leading days that are not used ) dayfeature tib. \\ ==> 150 (<class 'int'>)\n",
      "( latest days that are not used ) dayforesee tib. \\ ==> 5 (<class 'int'>)\n",
      "( 有效天數 ) data :> shape[0] dayfeature - dayforesee - tib. \\ ==> 4483 (<class 'int'>)\n"
     ]
    }
   ],
   "source": [
    "%f ( 總天數 ) data :> shape[0] tib. ( 4638 )\n",
    "%f ( leading days that are not used ) dayfeature tib.   \n",
    "%f ( latest days that are not used ) dayforesee tib.\n",
    "%f ( 有效天數 ) data :> shape[0] dayfeature - dayforesee - tib."
   ]
  },
  {
   "cell_type": "code",
   "execution_count": 7,
   "metadata": {},
   "outputs": [],
   "source": [
    "x=np.zeros((xlength,featurenum+2))  # +2 是當天開盤跟當天日期\n",
    "y=np.zeros((xlength));"
   ]
  },
  {
   "cell_type": "code",
   "execution_count": 8,
   "metadata": {},
   "outputs": [],
   "source": [
    "# 重疊 shift dayfeature (150) 天的五個「行情特徵值」加上當天的開盤 共 751 個參數當作 feature X \n",
    "for i in range(0,xlength):\n",
    "    x[i,0:featurenum]=np.array(data[i:i+dayfeature] \\\n",
    "          [[u'收盘价',u'最高价',u'最低价',u'开盘价',u'成交量']]).reshape((1,featurenum))\n",
    "    x[i,featurenum]=data.iloc[i+dayfeature][u'开盘价']\n",
    "    x[i,featurenum+1]=data.index[i+dayfeature].value  # backward pd.to_datetime(value).date()\n",
    "    "
   ]
  },
  {
   "cell_type": "code",
   "execution_count": 9,
   "metadata": {},
   "outputs": [],
   "source": [
    "# 預測明天是否會「續漲」且「不破前低」? ochl \n",
    "for i in range(0,xlength):\n",
    "    y[i]=0              \n",
    "    i0h = float(data.iloc[i][u'最高价']) # i 這天的\n",
    "    i0l = float(data.iloc[i][u'最低价']) # i 這天的\n",
    "    i1h = float(data.iloc[i+1][u'最高价']) # i 明天的\n",
    "    i1l = float(data.iloc[i+1][u'最低价']) # i 明天的\n",
    "    if i1h > i0h and i1l > i0l :\n",
    "            y[i]=1\n",
    "y = np.int32(y)"
   ]
  },
  {
   "cell_type": "code",
   "execution_count": 10,
   "metadata": {},
   "outputs": [
    {
     "name": "stdout",
     "output_type": "stream",
     "text": [
      "(  ) x :> shape tib. \\ ==> (4483, 752) (<class 'tuple'>)\n",
      "(  ) x :> shape[0] tib. \\ ==> 4483 (<class 'int'>)\n",
      "(  ) y :> shape tib. \\ ==> (4483,) (<class 'tuple'>)\n",
      "(  ) y :> shape[0] tib. \\ ==> 4483 (<class 'int'>)\n",
      "(  ) y py> sum(pop()) tib. \\ ==> 1629 (<class 'numpy.int32'>)\n"
     ]
    }
   ],
   "source": [
    "%f (  ) x :> shape tib. ( ?, 751 )\n",
    "%f (  ) x :> shape[0] tib. ( ? )\n",
    "%f (  ) y :> shape tib. ( ?, )    \n",
    "%f (  ) y :> shape[0] tib. ( ? )    \n",
    "%f (  ) y py> sum(pop()) tib. ( 1629 )"
   ]
  },
  {
   "cell_type": "code",
   "execution_count": 11,
   "metadata": {},
   "outputs": [],
   "source": [
    "# 直接看【涨跌幅】> 9.8 就算漲停板，從【漲停板】的日子往後多取 oneshot 天。\n",
    "# 符合條件的日子組成 dataset 其中含有 oneshot 天慣性，使正反兩方平衡。\n",
    "# 這個簡單的 loop 是挑出要的日子且消除重複的方法，我考慮過用 set() 也是取 unique 的好方法。\n",
    "\n",
    "x_mask = np.zeros((xlength,)) # 全部放 0 以下只針對目標填 1 \n",
    "x_mask = np.int32(x_mask)\n",
    "for i in range(xlength):\n",
    "    if float(data.iloc[i+dayfeature-1][u'涨跌幅'])>=9.8:\n",
    "        for j in range(oneshot):\n",
    "            x_mask[i+j-1] = 1"
   ]
  },
  {
   "cell_type": "code",
   "execution_count": 12,
   "metadata": {},
   "outputs": [
    {
     "name": "stdout",
     "output_type": "stream",
     "text": [
      "x_mask tib. \\ ==> [0 0 0 ..., 0 0 0] (<class 'numpy.ndarray'>)\n",
      "x_mask :> shape tib. \\ ==> (4483,) (<class 'tuple'>)\n",
      "x_mask py> sum(pop()) tib. \\ ==> 350 (<class 'numpy.int32'>)\n"
     ]
    }
   ],
   "source": [
    "%f x_mask tib.\n",
    "%f x_mask :> shape tib.\n",
    "%f x_mask py> sum(pop()) tib."
   ]
  },
  {
   "cell_type": "code",
   "execution_count": 13,
   "metadata": {},
   "outputs": [],
   "source": [
    "x_original = []\n",
    "y_original = []\n",
    "for i in range(xlength):\n",
    "    if x_mask[i]:\n",
    "        x_original.append(x[i])\n",
    "        y_original.append(y[i])\n",
    "x,x_original = x_original,x\n",
    "y,y_original = y_original,y"
   ]
  },
  {
   "cell_type": "code",
   "execution_count": 14,
   "metadata": {},
   "outputs": [
    {
     "name": "stdout",
     "output_type": "stream",
     "text": [
      "x_original np :> array(pop()).shape tib. \\ ==> (4483, 752) (<class 'tuple'>)\n",
      "y_original np :> array(pop()).shape tib. \\ ==> (4483,) (<class 'tuple'>)\n",
      "x np :> array(pop()).shape tib. \\ ==> (350, 752) (<class 'tuple'>)\n",
      "y np :> array(pop()).shape tib. \\ ==> (350,) (<class 'tuple'>)\n",
      "( 差不多是 dataset 總數的一半嗎？ ) y py> sum(pop()) tib. \\ ==> 156 (<class 'numpy.int32'>)\n"
     ]
    }
   ],
   "source": [
    "%f x_original np :> array(pop()).shape tib.\n",
    "%f y_original np :> array(pop()).shape tib.\n",
    "%f x np :> array(pop()).shape tib.\n",
    "%f y np :> array(pop()).shape tib.\n",
    "%f ( 差不多是 dataset 總數的一半嗎？ ) y py> sum(pop()) tib."
   ]
  },
  {
   "cell_type": "code",
   "execution_count": 15,
   "metadata": {},
   "outputs": [
    {
     "name": "stderr",
     "output_type": "stream",
     "text": [
      "c:\\users\\hcche\\appdata\\local\\programs\\python\\python36\\lib\\site-packages\\sklearn\\cross_validation.py:41: DeprecationWarning: This module was deprecated in version 0.18 in favor of the model_selection module into which all the refactored classes and functions are moved. Also note that the interface of the new CV iterators are different from that of this module. This module will be removed in 0.20.\n",
      "  \"This module will be removed in 0.20.\", DeprecationWarning)\n"
     ]
    }
   ],
   "source": [
    "from sklearn import cross_validation\n",
    "x_train, x_test, y_train, y_test = cross_validation.train_test_split(x, y, test_size = 0.2)"
   ]
  },
  {
   "cell_type": "code",
   "execution_count": 16,
   "metadata": {},
   "outputs": [
    {
     "data": {
      "text/plain": [
       "'0.19.1'"
      ]
     },
     "execution_count": 16,
     "metadata": {},
     "output_type": "execute_result"
    }
   ],
   "source": [
    "import sklearn\n",
    "sklearn.__version__"
   ]
  },
  {
   "cell_type": "code",
   "execution_count": 17,
   "metadata": {},
   "outputs": [
    {
     "name": "stdout",
     "output_type": "stream",
     "text": [
      "x_train np :> array(pop()).shape tib. \\ ==> (280, 752) (<class 'tuple'>)\n",
      "y_train np :> array(pop()).shape tib. \\ ==> (280,) (<class 'tuple'>)\n",
      "x_test np :> array(pop()).shape tib. \\ ==> (70, 752) (<class 'tuple'>)\n",
      "y_test np :> array(pop()).shape tib. \\ ==> (70,) (<class 'tuple'>)\n",
      "( numpy 才能裁切 matrix ) x_train np :> array(pop())[:,:751].shape tib. \\ ==> (280, 751) (<class 'tuple'>)\n",
      "( numpy 才能裁切 matrix ) x_test np :> array(pop())[:,:751].shape tib. \\ ==> (70, 751) (<class 'tuple'>)\n"
     ]
    }
   ],
   "source": [
    "%f x_train np :> array(pop()).shape tib.\n",
    "%f y_train np :> array(pop()).shape tib.\n",
    "%f x_test np :> array(pop()).shape tib.\n",
    "%f y_test np :> array(pop()).shape tib.\n",
    "%f ( numpy 才能裁切 matrix ) x_train np :> array(pop())[:,:751].shape tib.\n",
    "%f ( numpy 才能裁切 matrix ) x_test np :> array(pop())[:,:751].shape tib.\n"
   ]
  },
  {
   "cell_type": "code",
   "execution_count": 18,
   "metadata": {},
   "outputs": [
    {
     "data": {
      "text/plain": [
       "[_NumericColumn(key='x', shape=(751,), default_value=None, dtype=tf.float32, normalizer_fn=None)]"
      ]
     },
     "execution_count": 18,
     "metadata": {},
     "output_type": "execute_result"
    }
   ],
   "source": [
    "# 應該只有一個 feature 是個 shape = (751,) 的 array. 這怎麼表達?\n",
    "my_feature_columns = [tf.feature_column.numeric_column(\"x\", shape=[751,])]  \n",
    "my_feature_columns"
   ]
  },
  {
   "cell_type": "code",
   "execution_count": 19,
   "metadata": {
    "scrolled": false
   },
   "outputs": [
    {
     "name": "stdout",
     "output_type": "stream",
     "text": [
      "INFO:tensorflow:Using default config.\n",
      "INFO:tensorflow:Using config: {'_model_dir': 'model/DNN', '_tf_random_seed': None, '_save_summary_steps': 100, '_save_checkpoints_steps': None, '_save_checkpoints_secs': 600, '_session_config': None, '_keep_checkpoint_max': 5, '_keep_checkpoint_every_n_hours': 10000, '_log_step_count_steps': 100, '_train_distribute': None, '_service': None, '_cluster_spec': <tensorflow.python.training.server_lib.ClusterSpec object at 0x0000022621116BE0>, '_task_type': 'worker', '_task_id': 0, '_global_id_in_cluster': 0, '_master': '', '_evaluation_master': '', '_is_chief': True, '_num_ps_replicas': 0, '_num_worker_replicas': 1}\n"
     ]
    }
   ],
   "source": [
    "# Build 2 hidden layer DNN with 10, 10 units respectively.\n",
    "classifier = tf.estimator.DNNClassifier(\n",
    "    feature_columns=my_feature_columns,\n",
    "    # Two hidden layers of 10 nodes each.\n",
    "    hidden_units=[64,32],\n",
    "    # The model must choose between 3 classes.\n",
    "    n_classes=2,\n",
    "    dropout=0.2,\n",
    "    model_dir=\"model/DNN\"\n",
    "    )"
   ]
  },
  {
   "cell_type": "code",
   "execution_count": 20,
   "metadata": {},
   "outputs": [],
   "source": [
    "# Define the training inputs 從 mnist 抄過來改的\n",
    "train_input_fn = tf.estimator.inputs.numpy_input_fn(\n",
    "    x={\"x\": np.array(x_train)[:,:751]},\n",
    "    y=np.array(y_train),\n",
    "    num_epochs=None,\n",
    "    batch_size=64,\n",
    "    shuffle=True\n",
    "    )"
   ]
  },
  {
   "cell_type": "code",
   "execution_count": 21,
   "metadata": {},
   "outputs": [
    {
     "name": "stdout",
     "output_type": "stream",
     "text": [
      "Automatic pdb calling has been turned OFF\n",
      "INFO:tensorflow:Calling model_fn.\n",
      "INFO:tensorflow:Done calling model_fn.\n",
      "INFO:tensorflow:Create CheckpointSaverHook.\n",
      "INFO:tensorflow:Graph was finalized.\n",
      "INFO:tensorflow:Running local_init_op.\n",
      "INFO:tensorflow:Done running local_init_op.\n",
      "INFO:tensorflow:Saving checkpoints for 1 into model/DNN\\model.ckpt.\n",
      "INFO:tensorflow:loss = 2.50763e+08, step = 1\n",
      "INFO:tensorflow:global_step/sec: 334.799\n",
      "INFO:tensorflow:loss = 141593.0, step = 101 (0.299 sec)\n",
      "INFO:tensorflow:global_step/sec: 418.432\n",
      "INFO:tensorflow:loss = 20543.8, step = 201 (0.243 sec)\n",
      "INFO:tensorflow:global_step/sec: 474.202\n",
      "INFO:tensorflow:loss = 2006.95, step = 301 (0.210 sec)\n",
      "INFO:tensorflow:global_step/sec: 474.208\n",
      "INFO:tensorflow:loss = 1642.81, step = 401 (0.216 sec)\n",
      "INFO:tensorflow:global_step/sec: 454.806\n",
      "INFO:tensorflow:loss = 2754.9, step = 501 (0.216 sec)\n",
      "INFO:tensorflow:global_step/sec: 448.688\n",
      "INFO:tensorflow:loss = 2314.37, step = 601 (0.222 sec)\n",
      "INFO:tensorflow:global_step/sec: 473.454\n",
      "INFO:tensorflow:loss = 2330.16, step = 701 (0.218 sec)\n",
      "INFO:tensorflow:global_step/sec: 460.524\n",
      "INFO:tensorflow:loss = 325.639, step = 801 (0.210 sec)\n",
      "INFO:tensorflow:global_step/sec: 465.383\n",
      "INFO:tensorflow:loss = 240.234, step = 901 (0.215 sec)\n",
      "INFO:tensorflow:global_step/sec: 463.228\n",
      "INFO:tensorflow:loss = 44.0807, step = 1001 (0.217 sec)\n",
      "INFO:tensorflow:global_step/sec: 435.032\n",
      "INFO:tensorflow:loss = 3194.79, step = 1101 (0.229 sec)\n",
      "INFO:tensorflow:global_step/sec: 485.713\n",
      "INFO:tensorflow:loss = 42.1868, step = 1201 (0.206 sec)\n",
      "INFO:tensorflow:global_step/sec: 452.748\n",
      "INFO:tensorflow:loss = 885652.0, step = 1301 (0.221 sec)\n",
      "INFO:tensorflow:global_step/sec: 471.506\n",
      "INFO:tensorflow:loss = 72.5568, step = 1401 (0.215 sec)\n",
      "INFO:tensorflow:global_step/sec: 474.067\n",
      "INFO:tensorflow:loss = 361.274, step = 1501 (0.209 sec)\n",
      "INFO:tensorflow:global_step/sec: 478.743\n",
      "INFO:tensorflow:loss = 519.785, step = 1601 (0.208 sec)\n",
      "INFO:tensorflow:global_step/sec: 483.368\n",
      "INFO:tensorflow:loss = 119.452, step = 1701 (0.208 sec)\n",
      "INFO:tensorflow:global_step/sec: 463.228\n",
      "INFO:tensorflow:loss = 95.096, step = 1801 (0.218 sec)\n",
      "INFO:tensorflow:global_step/sec: 435.03\n",
      "INFO:tensorflow:loss = 124.142, step = 1901 (0.227 sec)\n",
      "INFO:tensorflow:global_step/sec: 446.688\n",
      "INFO:tensorflow:loss = 42.9175, step = 2001 (0.225 sec)\n",
      "INFO:tensorflow:global_step/sec: 488.626\n",
      "INFO:tensorflow:loss = 45.4257, step = 2101 (0.212 sec)\n",
      "INFO:tensorflow:global_step/sec: 457.681\n",
      "INFO:tensorflow:loss = 43.9184, step = 2201 (0.210 sec)\n",
      "INFO:tensorflow:global_step/sec: 481.045\n",
      "INFO:tensorflow:loss = 42.778, step = 2301 (0.210 sec)\n",
      "INFO:tensorflow:global_step/sec: 458.978\n",
      "INFO:tensorflow:loss = 43.7933, step = 2401 (0.217 sec)\n",
      "INFO:tensorflow:global_step/sec: 458.973\n",
      "INFO:tensorflow:loss = 44.8983, step = 2501 (0.217 sec)\n",
      "INFO:tensorflow:global_step/sec: 478.748\n",
      "INFO:tensorflow:loss = 42.6931, step = 2601 (0.209 sec)\n",
      "INFO:tensorflow:global_step/sec: 483.368\n",
      "INFO:tensorflow:loss = 1088.86, step = 2701 (0.208 sec)\n",
      "INFO:tensorflow:global_step/sec: 463.227\n",
      "INFO:tensorflow:loss = 2.40953e+06, step = 2801 (0.215 sec)\n",
      "INFO:tensorflow:global_step/sec: 487.244\n",
      "INFO:tensorflow:loss = 44.991, step = 2901 (0.210 sec)\n",
      "INFO:tensorflow:global_step/sec: 418.494\n",
      "INFO:tensorflow:loss = 43.7466, step = 3001 (0.235 sec)\n",
      "INFO:tensorflow:global_step/sec: 471.967\n",
      "INFO:tensorflow:loss = 44.5212, step = 3101 (0.212 sec)\n",
      "INFO:tensorflow:global_step/sec: 481.046\n",
      "INFO:tensorflow:loss = 44.4304, step = 3201 (0.209 sec)\n",
      "INFO:tensorflow:global_step/sec: 465.382\n",
      "INFO:tensorflow:loss = 1404.59, step = 3301 (0.213 sec)\n",
      "INFO:tensorflow:global_step/sec: 476.464\n",
      "INFO:tensorflow:loss = 32182.8, step = 3401 (0.211 sec)\n",
      "INFO:tensorflow:global_step/sec: 475.833\n",
      "INFO:tensorflow:loss = 43.31, step = 3501 (0.210 sec)\n",
      "INFO:tensorflow:global_step/sec: 465.383\n",
      "INFO:tensorflow:loss = 14151.0, step = 3601 (0.216 sec)\n",
      "INFO:tensorflow:global_step/sec: 465.381\n",
      "INFO:tensorflow:loss = 10188.2, step = 3701 (0.213 sec)\n",
      "INFO:tensorflow:global_step/sec: 469.754\n",
      "INFO:tensorflow:loss = 42.2758, step = 3801 (0.215 sec)\n",
      "INFO:tensorflow:global_step/sec: 423.971\n",
      "INFO:tensorflow:loss = 42.6448, step = 3901 (0.235 sec)\n",
      "INFO:tensorflow:global_step/sec: 469.754\n",
      "INFO:tensorflow:loss = 309.643, step = 4001 (0.213 sec)\n",
      "INFO:tensorflow:global_step/sec: 481.041\n",
      "INFO:tensorflow:loss = 383.196, step = 4101 (0.209 sec)\n",
      "INFO:tensorflow:global_step/sec: 452.748\n",
      "INFO:tensorflow:loss = 43.7507, step = 4201 (0.219 sec)\n",
      "INFO:tensorflow:global_step/sec: 465.384\n",
      "INFO:tensorflow:loss = 44.5772, step = 4301 (0.215 sec)\n",
      "INFO:tensorflow:global_step/sec: 485.699\n",
      "INFO:tensorflow:loss = 42.7848, step = 4401 (0.207 sec)\n",
      "INFO:tensorflow:global_step/sec: 469.768\n",
      "INFO:tensorflow:loss = 43.5733, step = 4501 (0.212 sec)\n",
      "INFO:tensorflow:global_step/sec: 478.744\n",
      "INFO:tensorflow:loss = 144.317, step = 4601 (0.209 sec)\n",
      "INFO:tensorflow:global_step/sec: 448.684\n",
      "INFO:tensorflow:loss = 1102.47, step = 4701 (0.227 sec)\n",
      "INFO:tensorflow:global_step/sec: 423.973\n",
      "INFO:tensorflow:loss = 63.9478, step = 4801 (0.233 sec)\n",
      "INFO:tensorflow:global_step/sec: 478.744\n",
      "INFO:tensorflow:loss = 353.448, step = 4901 (0.210 sec)\n",
      "INFO:tensorflow:global_step/sec: 469.751\n",
      "INFO:tensorflow:loss = 44.7697, step = 5001 (0.212 sec)\n",
      "INFO:tensorflow:global_step/sec: 485.716\n",
      "INFO:tensorflow:loss = 43.3006, step = 5101 (0.205 sec)\n",
      "INFO:tensorflow:global_step/sec: 467.557\n",
      "INFO:tensorflow:loss = 44.0825, step = 5201 (0.215 sec)\n",
      "INFO:tensorflow:global_step/sec: 471.97\n",
      "INFO:tensorflow:loss = 43.9119, step = 5301 (0.211 sec)\n",
      "INFO:tensorflow:global_step/sec: 485.713\n",
      "INFO:tensorflow:loss = 43.5718, step = 5401 (0.207 sec)\n",
      "INFO:tensorflow:global_step/sec: 525.065\n",
      "INFO:tensorflow:loss = 43.414, step = 5501 (0.186 sec)\n",
      "INFO:tensorflow:global_step/sec: 456.197\n",
      "INFO:tensorflow:loss = 21484.4, step = 5601 (0.224 sec)\n",
      "INFO:tensorflow:global_step/sec: 547.713\n",
      "INFO:tensorflow:loss = 44.0298, step = 5701 (0.196 sec)\n",
      "INFO:tensorflow:global_step/sec: 415.755\n",
      "INFO:tensorflow:loss = 44.2503, step = 5801 (0.225 sec)\n",
      "INFO:tensorflow:global_step/sec: 483.366\n",
      "INFO:tensorflow:loss = 44.5792, step = 5901 (0.209 sec)\n",
      "INFO:tensorflow:global_step/sec: 478.423\n",
      "INFO:tensorflow:loss = 44.4212, step = 6001 (0.207 sec)\n",
      "INFO:tensorflow:global_step/sec: 509.985\n",
      "INFO:tensorflow:loss = 5116.4, step = 6101 (0.204 sec)\n",
      "INFO:tensorflow:global_step/sec: 459.011\n",
      "INFO:tensorflow:loss = 551.763, step = 6201 (0.211 sec)\n",
      "INFO:tensorflow:global_step/sec: 507.743\n",
      "INFO:tensorflow:loss = 44.4265, step = 6301 (0.193 sec)\n",
      "INFO:tensorflow:global_step/sec: 443.578\n",
      "INFO:tensorflow:loss = 44.255, step = 6401 (0.230 sec)\n",
      "INFO:tensorflow:global_step/sec: 446.686\n",
      "INFO:tensorflow:loss = 188.381, step = 6501 (0.220 sec)\n",
      "INFO:tensorflow:global_step/sec: 470.092\n",
      "INFO:tensorflow:loss = 1388.62, step = 6601 (0.216 sec)\n",
      "INFO:tensorflow:global_step/sec: 476.808\n",
      "INFO:tensorflow:loss = 44.9209, step = 6701 (0.206 sec)\n",
      "INFO:tensorflow:global_step/sec: 455.002\n",
      "INFO:tensorflow:loss = 43.7015, step = 6801 (0.223 sec)\n",
      "INFO:tensorflow:global_step/sec: 520.951\n",
      "INFO:tensorflow:loss = 43.2065, step = 6901 (0.189 sec)\n",
      "INFO:tensorflow:global_step/sec: 458.889\n",
      "INFO:tensorflow:loss = 42.8596, step = 7001 (0.223 sec)\n",
      "INFO:tensorflow:global_step/sec: 501.736\n",
      "INFO:tensorflow:loss = 44.5961, step = 7101 (0.211 sec)\n",
      "INFO:tensorflow:global_step/sec: 433.212\n",
      "INFO:tensorflow:loss = 137.359, step = 7201 (0.219 sec)\n",
      "INFO:tensorflow:global_step/sec: 386.323\n",
      "INFO:tensorflow:loss = 26692.8, step = 7301 (0.257 sec)\n",
      "INFO:tensorflow:global_step/sec: 433.149\n",
      "INFO:tensorflow:loss = 45.5432, step = 7401 (0.231 sec)\n",
      "INFO:tensorflow:global_step/sec: 429.428\n",
      "INFO:tensorflow:loss = 81.8462, step = 7501 (0.234 sec)\n",
      "INFO:tensorflow:global_step/sec: 416.904\n",
      "INFO:tensorflow:loss = 51.4617, step = 7601 (0.241 sec)\n",
      "INFO:tensorflow:global_step/sec: 436.933\n",
      "INFO:tensorflow:loss = 45.1394, step = 7701 (0.226 sec)\n",
      "INFO:tensorflow:global_step/sec: 465.382\n",
      "INFO:tensorflow:loss = 44.7845, step = 7801 (0.216 sec)\n",
      "INFO:tensorflow:global_step/sec: 429.432\n",
      "INFO:tensorflow:loss = 43.7314, step = 7901 (0.233 sec)\n",
      "INFO:tensorflow:global_step/sec: 458.977\n",
      "INFO:tensorflow:loss = 44.7701, step = 8001 (0.218 sec)\n",
      "INFO:tensorflow:global_step/sec: 433.149\n",
      "INFO:tensorflow:loss = 2973.15, step = 8101 (0.231 sec)\n"
     ]
    },
    {
     "name": "stdout",
     "output_type": "stream",
     "text": [
      "INFO:tensorflow:global_step/sec: 427.593\n",
      "INFO:tensorflow:loss = 99.6241, step = 8201 (0.235 sec)\n",
      "INFO:tensorflow:global_step/sec: 458.981\n",
      "INFO:tensorflow:loss = 43.2217, step = 8301 (0.217 sec)\n",
      "INFO:tensorflow:global_step/sec: 413.457\n",
      "INFO:tensorflow:loss = 43.9058, step = 8401 (0.244 sec)\n",
      "INFO:tensorflow:global_step/sec: 365.175\n",
      "INFO:tensorflow:loss = 56.7049, step = 8501 (0.274 sec)\n",
      "INFO:tensorflow:global_step/sec: 436.93\n",
      "INFO:tensorflow:loss = 43.6482, step = 8601 (0.228 sec)\n",
      "INFO:tensorflow:global_step/sec: 465.384\n",
      "INFO:tensorflow:loss = 44.0812, step = 8701 (0.216 sec)\n",
      "INFO:tensorflow:global_step/sec: 431.28\n",
      "INFO:tensorflow:loss = 43.9111, step = 8801 (0.229 sec)\n",
      "INFO:tensorflow:global_step/sec: 444.699\n",
      "INFO:tensorflow:loss = 42.6944, step = 8901 (0.226 sec)\n",
      "INFO:tensorflow:global_step/sec: 433.149\n",
      "INFO:tensorflow:loss = 43.5813, step = 9001 (0.232 sec)\n",
      "INFO:tensorflow:global_step/sec: 450.709\n",
      "INFO:tensorflow:loss = 131.365, step = 9101 (0.221 sec)\n",
      "INFO:tensorflow:global_step/sec: 401.836\n",
      "INFO:tensorflow:loss = 55.1343, step = 9201 (0.249 sec)\n",
      "INFO:tensorflow:global_step/sec: 423.971\n",
      "INFO:tensorflow:loss = 44.0827, step = 9301 (0.238 sec)\n",
      "INFO:tensorflow:global_step/sec: 384.836\n",
      "INFO:tensorflow:loss = 44.0816, step = 9401 (0.259 sec)\n",
      "INFO:tensorflow:global_step/sec: 369.214\n",
      "INFO:tensorflow:loss = 44.7685, step = 9501 (0.272 sec)\n",
      "INFO:tensorflow:global_step/sec: 299.573\n",
      "INFO:tensorflow:loss = 115.5, step = 9601 (0.334 sec)\n",
      "INFO:tensorflow:global_step/sec: 287.52\n",
      "INFO:tensorflow:loss = 44.2522, step = 9701 (0.349 sec)\n",
      "INFO:tensorflow:global_step/sec: 305.987\n",
      "INFO:tensorflow:loss = 221.413, step = 9801 (0.325 sec)\n",
      "INFO:tensorflow:global_step/sec: 367.656\n",
      "INFO:tensorflow:loss = 2955.47, step = 9901 (0.276 sec)\n",
      "INFO:tensorflow:global_step/sec: 387.711\n",
      "INFO:tensorflow:loss = 44.774, step = 10001 (0.250 sec)\n",
      "INFO:tensorflow:global_step/sec: 420.154\n",
      "INFO:tensorflow:loss = 819.158, step = 10101 (0.241 sec)\n",
      "INFO:tensorflow:global_step/sec: 438.848\n",
      "INFO:tensorflow:loss = 44.4295, step = 10201 (0.229 sec)\n",
      "INFO:tensorflow:global_step/sec: 431.279\n",
      "INFO:tensorflow:loss = 44.6075, step = 10301 (0.232 sec)\n",
      "INFO:tensorflow:global_step/sec: 442.73\n",
      "INFO:tensorflow:loss = 46.226, step = 10401 (0.226 sec)\n",
      "INFO:tensorflow:global_step/sec: 446.688\n",
      "INFO:tensorflow:loss = 11956.7, step = 10501 (0.224 sec)\n",
      "INFO:tensorflow:global_step/sec: 425.774\n",
      "INFO:tensorflow:loss = 1080.64, step = 10601 (0.238 sec)\n",
      "INFO:tensorflow:global_step/sec: 490.575\n",
      "INFO:tensorflow:loss = 44.7662, step = 10701 (0.207 sec)\n",
      "INFO:tensorflow:global_step/sec: 420.106\n",
      "INFO:tensorflow:loss = 590.941, step = 10801 (0.231 sec)\n",
      "INFO:tensorflow:global_step/sec: 411.759\n",
      "INFO:tensorflow:loss = 398.69, step = 10901 (0.243 sec)\n",
      "INFO:tensorflow:global_step/sec: 466.831\n",
      "INFO:tensorflow:loss = 43.9157, step = 11001 (0.211 sec)\n",
      "INFO:tensorflow:global_step/sec: 420.969\n",
      "INFO:tensorflow:loss = 283.795, step = 11101 (0.241 sec)\n",
      "INFO:tensorflow:global_step/sec: 511.58\n",
      "INFO:tensorflow:loss = 44.0848, step = 11201 (0.208 sec)\n",
      "INFO:tensorflow:global_step/sec: 408.053\n",
      "INFO:tensorflow:loss = 45.0729, step = 11301 (0.234 sec)\n",
      "INFO:tensorflow:global_step/sec: 473.377\n",
      "INFO:tensorflow:loss = 181.496, step = 11401 (0.210 sec)\n",
      "INFO:tensorflow:global_step/sec: 436.932\n",
      "INFO:tensorflow:loss = 263.817, step = 11501 (0.229 sec)\n",
      "INFO:tensorflow:global_step/sec: 436.93\n",
      "INFO:tensorflow:loss = 43.5871, step = 11601 (0.228 sec)\n",
      "INFO:tensorflow:global_step/sec: 429.431\n",
      "INFO:tensorflow:loss = 43.4703, step = 11701 (0.233 sec)\n",
      "INFO:tensorflow:global_step/sec: 438.725\n",
      "INFO:tensorflow:loss = 1969.02, step = 11801 (0.225 sec)\n",
      "INFO:tensorflow:global_step/sec: 425.939\n",
      "INFO:tensorflow:loss = 43.2448, step = 11901 (0.238 sec)\n",
      "INFO:tensorflow:global_step/sec: 450.708\n",
      "INFO:tensorflow:loss = 568.586, step = 12001 (0.223 sec)\n",
      "INFO:tensorflow:global_step/sec: 425.775\n",
      "INFO:tensorflow:loss = 42.9626, step = 12101 (0.235 sec)\n",
      "INFO:tensorflow:global_step/sec: 486.923\n",
      "INFO:tensorflow:loss = 43.9112, step = 12201 (0.214 sec)\n",
      "INFO:tensorflow:global_step/sec: 421.14\n",
      "INFO:tensorflow:loss = 15780.2, step = 12301 (0.228 sec)\n",
      "INFO:tensorflow:global_step/sec: 436.932\n",
      "INFO:tensorflow:loss = 42.1093, step = 12401 (0.230 sec)\n",
      "INFO:tensorflow:global_step/sec: 460.171\n",
      "INFO:tensorflow:loss = 43.744, step = 12501 (0.217 sec)\n",
      "INFO:tensorflow:global_step/sec: 431.282\n",
      "INFO:tensorflow:loss = 43.8108, step = 12601 (0.233 sec)\n",
      "INFO:tensorflow:global_step/sec: 417.499\n",
      "INFO:tensorflow:loss = 49.5166, step = 12701 (0.239 sec)\n",
      "INFO:tensorflow:global_step/sec: 436.931\n",
      "INFO:tensorflow:loss = 1165.27, step = 12801 (0.229 sec)\n",
      "INFO:tensorflow:global_step/sec: 496.988\n",
      "INFO:tensorflow:loss = 44.0821, step = 12901 (0.213 sec)\n",
      "INFO:tensorflow:global_step/sec: 414.374\n",
      "INFO:tensorflow:loss = 44.9403, step = 13001 (0.231 sec)\n",
      "INFO:tensorflow:global_step/sec: 493.231\n",
      "INFO:tensorflow:loss = 44.5987, step = 13101 (0.211 sec)\n",
      "INFO:tensorflow:global_step/sec: 421.715\n",
      "INFO:tensorflow:loss = 43.399, step = 13201 (0.228 sec)\n",
      "INFO:tensorflow:global_step/sec: 455.444\n",
      "INFO:tensorflow:loss = 43.4725, step = 13301 (0.216 sec)\n",
      "INFO:tensorflow:global_step/sec: 431.944\n",
      "INFO:tensorflow:loss = 106.751, step = 13401 (0.238 sec)\n",
      "INFO:tensorflow:global_step/sec: 472.428\n",
      "INFO:tensorflow:loss = 225.252, step = 13501 (0.221 sec)\n",
      "INFO:tensorflow:global_step/sec: 399.316\n",
      "INFO:tensorflow:loss = 44.5903, step = 13601 (0.239 sec)\n",
      "INFO:tensorflow:global_step/sec: 475.037\n",
      "INFO:tensorflow:loss = 43.7487, step = 13701 (0.211 sec)\n",
      "INFO:tensorflow:global_step/sec: 425.774\n",
      "INFO:tensorflow:loss = 42.9657, step = 13801 (0.235 sec)\n",
      "INFO:tensorflow:global_step/sec: 474.161\n",
      "INFO:tensorflow:loss = 1094.39, step = 13901 (0.223 sec)\n",
      "INFO:tensorflow:global_step/sec: 421.671\n",
      "INFO:tensorflow:loss = 44.5929, step = 14001 (0.226 sec)\n",
      "INFO:tensorflow:global_step/sec: 510.41\n",
      "INFO:tensorflow:loss = 3965.15, step = 14101 (0.213 sec)\n",
      "INFO:tensorflow:global_step/sec: 410.672\n",
      "INFO:tensorflow:loss = 75.2107, step = 14201 (0.226 sec)\n",
      "INFO:tensorflow:global_step/sec: 445.875\n",
      "INFO:tensorflow:loss = 44.0825, step = 14301 (0.221 sec)\n",
      "INFO:tensorflow:global_step/sec: 391.453\n",
      "INFO:tensorflow:loss = 45.6141, step = 14401 (0.259 sec)\n",
      "INFO:tensorflow:global_step/sec: 438.732\n",
      "INFO:tensorflow:loss = 43.9141, step = 14501 (0.224 sec)\n",
      "INFO:tensorflow:global_step/sec: 449.569\n",
      "INFO:tensorflow:loss = 43.4236, step = 14601 (0.226 sec)\n",
      "INFO:tensorflow:global_step/sec: 446.684\n",
      "INFO:tensorflow:loss = 861.352, step = 14701 (0.224 sec)\n",
      "INFO:tensorflow:global_step/sec: 435.031\n",
      "INFO:tensorflow:loss = 43.4116, step = 14801 (0.230 sec)\n",
      "INFO:tensorflow:global_step/sec: 458.444\n",
      "INFO:tensorflow:loss = 44.4217, step = 14901 (0.228 sec)\n",
      "INFO:tensorflow:global_step/sec: 427.478\n",
      "INFO:tensorflow:loss = 44.2507, step = 15001 (0.224 sec)\n",
      "INFO:tensorflow:global_step/sec: 450.708\n",
      "INFO:tensorflow:loss = 117.937, step = 15101 (0.218 sec)\n",
      "INFO:tensorflow:global_step/sec: 416.256\n",
      "INFO:tensorflow:loss = 44.7794, step = 15201 (0.243 sec)\n",
      "INFO:tensorflow:global_step/sec: 418.653\n",
      "INFO:tensorflow:loss = 1057.56, step = 15301 (0.240 sec)\n",
      "INFO:tensorflow:global_step/sec: 444.611\n",
      "INFO:tensorflow:loss = 43.3849, step = 15401 (0.226 sec)\n",
      "INFO:tensorflow:global_step/sec: 470.85\n",
      "INFO:tensorflow:loss = 44.0816, step = 15501 (0.224 sec)\n",
      "INFO:tensorflow:global_step/sec: 402.834\n",
      "INFO:tensorflow:loss = 44.5984, step = 15601 (0.237 sec)\n",
      "INFO:tensorflow:global_step/sec: 458.512\n",
      "INFO:tensorflow:loss = 43.298, step = 15701 (0.213 sec)\n",
      "INFO:tensorflow:global_step/sec: 439.633\n",
      "INFO:tensorflow:loss = 45.6344, step = 15801 (0.230 sec)\n",
      "INFO:tensorflow:global_step/sec: 448.2\n",
      "INFO:tensorflow:loss = 55.8401, step = 15901 (0.220 sec)\n",
      "INFO:tensorflow:global_step/sec: 473.745\n",
      "INFO:tensorflow:loss = 43.7402, step = 16001 (0.224 sec)\n",
      "INFO:tensorflow:global_step/sec: 414.615\n",
      "INFO:tensorflow:loss = 44.0816, step = 16101 (0.231 sec)\n",
      "INFO:tensorflow:global_step/sec: 413.46\n",
      "INFO:tensorflow:loss = 42.4344, step = 16201 (0.243 sec)\n",
      "INFO:tensorflow:global_step/sec: 446.685\n",
      "INFO:tensorflow:loss = 44.1593, step = 16301 (0.224 sec)\n",
      "INFO:tensorflow:global_step/sec: 448.686\n",
      "INFO:tensorflow:loss = 43.6452, step = 16401 (0.222 sec)\n",
      "INFO:tensorflow:global_step/sec: 478.611\n",
      "INFO:tensorflow:loss = 44.2548, step = 16501 (0.225 sec)\n"
     ]
    },
    {
     "name": "stdout",
     "output_type": "stream",
     "text": [
      "INFO:tensorflow:global_step/sec: 406.65\n",
      "INFO:tensorflow:loss = 13588.2, step = 16601 (0.232 sec)\n",
      "INFO:tensorflow:global_step/sec: 491.23\n",
      "INFO:tensorflow:loss = 43.2174, step = 16701 (0.210 sec)\n",
      "INFO:tensorflow:global_step/sec: 434.042\n",
      "INFO:tensorflow:loss = 6599.68, step = 16801 (0.222 sec)\n",
      "INFO:tensorflow:global_step/sec: 491.785\n",
      "INFO:tensorflow:loss = 294.223, step = 16901 (0.220 sec)\n",
      "INFO:tensorflow:global_step/sec: 431.183\n",
      "INFO:tensorflow:loss = 43.7396, step = 17001 (0.212 sec)\n",
      "INFO:tensorflow:global_step/sec: 378.262\n",
      "INFO:tensorflow:loss = 43.4706, step = 17101 (0.268 sec)\n",
      "INFO:tensorflow:global_step/sec: 450.711\n",
      "INFO:tensorflow:loss = 43.9169, step = 17201 (0.221 sec)\n",
      "INFO:tensorflow:global_step/sec: 452.749\n",
      "INFO:tensorflow:loss = 43.0679, step = 17301 (0.221 sec)\n",
      "INFO:tensorflow:global_step/sec: 408.891\n",
      "INFO:tensorflow:loss = 43.0593, step = 17401 (0.245 sec)\n",
      "INFO:tensorflow:global_step/sec: 460.499\n",
      "INFO:tensorflow:loss = 43.9119, step = 17501 (0.213 sec)\n",
      "INFO:tensorflow:global_step/sec: 460.721\n",
      "INFO:tensorflow:loss = 42.9036, step = 17601 (0.217 sec)\n",
      "INFO:tensorflow:global_step/sec: 416.529\n",
      "INFO:tensorflow:loss = 45.4336, step = 17701 (0.243 sec)\n",
      "INFO:tensorflow:global_step/sec: 436.932\n",
      "INFO:tensorflow:loss = 43.6428, step = 17801 (0.230 sec)\n",
      "INFO:tensorflow:global_step/sec: 436.239\n",
      "INFO:tensorflow:loss = 43.9118, step = 17901 (0.237 sec)\n",
      "INFO:tensorflow:global_step/sec: 394.696\n",
      "INFO:tensorflow:loss = 44.5987, step = 18001 (0.245 sec)\n",
      "INFO:tensorflow:global_step/sec: 514.213\n",
      "INFO:tensorflow:loss = 43.9106, step = 18101 (0.201 sec)\n",
      "INFO:tensorflow:global_step/sec: 423.072\n",
      "INFO:tensorflow:loss = 44.2524, step = 18201 (0.226 sec)\n",
      "INFO:tensorflow:global_step/sec: 429.532\n",
      "INFO:tensorflow:loss = 44.0819, step = 18301 (0.233 sec)\n",
      "INFO:tensorflow:global_step/sec: 444.88\n",
      "INFO:tensorflow:loss = 855.82, step = 18401 (0.228 sec)\n",
      "INFO:tensorflow:global_step/sec: 441.312\n",
      "INFO:tensorflow:loss = 91.0514, step = 18501 (0.228 sec)\n",
      "INFO:tensorflow:global_step/sec: 462.033\n",
      "INFO:tensorflow:loss = 43.3834, step = 18601 (0.212 sec)\n",
      "INFO:tensorflow:global_step/sec: 408.143\n",
      "INFO:tensorflow:loss = 43.5615, step = 18701 (0.249 sec)\n",
      "INFO:tensorflow:global_step/sec: 446.282\n",
      "INFO:tensorflow:loss = 43.3921, step = 18801 (0.220 sec)\n",
      "INFO:tensorflow:global_step/sec: 425.771\n",
      "INFO:tensorflow:loss = 44.9553, step = 18901 (0.238 sec)\n",
      "INFO:tensorflow:global_step/sec: 450.709\n",
      "INFO:tensorflow:loss = 43.3845, step = 19001 (0.222 sec)\n",
      "INFO:tensorflow:global_step/sec: 440.781\n",
      "INFO:tensorflow:loss = 44.0813, step = 19101 (0.230 sec)\n",
      "INFO:tensorflow:global_step/sec: 478.877\n",
      "INFO:tensorflow:loss = 43.5676, step = 19201 (0.203 sec)\n",
      "INFO:tensorflow:global_step/sec: 428.362\n",
      "INFO:tensorflow:loss = 43.5684, step = 19301 (0.238 sec)\n",
      "INFO:tensorflow:global_step/sec: 442.93\n",
      "INFO:tensorflow:loss = 43.7415, step = 19401 (0.227 sec)\n",
      "INFO:tensorflow:global_step/sec: 513.613\n",
      "INFO:tensorflow:loss = 43.9241, step = 19501 (0.205 sec)\n",
      "INFO:tensorflow:global_step/sec: 410.394\n",
      "INFO:tensorflow:loss = 43.5677, step = 19601 (0.233 sec)\n",
      "INFO:tensorflow:global_step/sec: 403.458\n",
      "INFO:tensorflow:loss = 44.0821, step = 19701 (0.248 sec)\n",
      "INFO:tensorflow:global_step/sec: 477.347\n",
      "INFO:tensorflow:loss = 43.3955, step = 19801 (0.220 sec)\n",
      "INFO:tensorflow:global_step/sec: 415.495\n",
      "INFO:tensorflow:loss = 43.0568, step = 19901 (0.228 sec)\n",
      "INFO:tensorflow:global_step/sec: 429.429\n",
      "INFO:tensorflow:loss = 44.2541, step = 20001 (0.234 sec)\n",
      "INFO:tensorflow:global_step/sec: 475.388\n",
      "INFO:tensorflow:loss = 43.91, step = 20101 (0.206 sec)\n",
      "INFO:tensorflow:global_step/sec: 434.99\n",
      "INFO:tensorflow:loss = 42.8737, step = 20201 (0.236 sec)\n",
      "INFO:tensorflow:global_step/sec: 425.774\n",
      "INFO:tensorflow:loss = 1492.5, step = 20301 (0.233 sec)\n",
      "INFO:tensorflow:global_step/sec: 436.932\n",
      "INFO:tensorflow:loss = 43.2294, step = 20401 (0.230 sec)\n",
      "INFO:tensorflow:global_step/sec: 425.777\n",
      "INFO:tensorflow:loss = 44.9432, step = 20501 (0.235 sec)\n",
      "INFO:tensorflow:global_step/sec: 400.228\n",
      "INFO:tensorflow:loss = 43.74, step = 20601 (0.249 sec)\n",
      "INFO:tensorflow:global_step/sec: 486.062\n",
      "INFO:tensorflow:loss = 19233.6, step = 20701 (0.202 sec)\n",
      "INFO:tensorflow:global_step/sec: 435.208\n",
      "INFO:tensorflow:loss = 43.5685, step = 20801 (0.234 sec)\n",
      "INFO:tensorflow:global_step/sec: 464.837\n",
      "INFO:tensorflow:loss = 44.5879, step = 20901 (0.211 sec)\n",
      "INFO:tensorflow:global_step/sec: 419.976\n",
      "INFO:tensorflow:loss = 43.7365, step = 21001 (0.241 sec)\n",
      "INFO:tensorflow:global_step/sec: 494.771\n",
      "INFO:tensorflow:loss = 43.565, step = 21101 (0.208 sec)\n",
      "INFO:tensorflow:global_step/sec: 428.819\n",
      "INFO:tensorflow:loss = 43.8141, step = 21201 (0.227 sec)\n",
      "INFO:tensorflow:global_step/sec: 504.397\n",
      "INFO:tensorflow:loss = 44.2543, step = 21301 (0.195 sec)\n",
      "INFO:tensorflow:global_step/sec: 409.909\n",
      "INFO:tensorflow:loss = 16295.5, step = 21401 (0.249 sec)\n",
      "INFO:tensorflow:global_step/sec: 420.313\n",
      "INFO:tensorflow:loss = 45.6211, step = 21501 (0.233 sec)\n",
      "INFO:tensorflow:global_step/sec: 430.37\n",
      "INFO:tensorflow:loss = 120.42, step = 21601 (0.237 sec)\n",
      "INFO:tensorflow:global_step/sec: 497.181\n",
      "INFO:tensorflow:loss = 44.2523, step = 21701 (0.213 sec)\n",
      "INFO:tensorflow:global_step/sec: 417.873\n",
      "INFO:tensorflow:loss = 43.5718, step = 21801 (0.226 sec)\n",
      "INFO:tensorflow:global_step/sec: 441.76\n",
      "INFO:tensorflow:loss = 44.4271, step = 21901 (0.223 sec)\n",
      "INFO:tensorflow:global_step/sec: 429.324\n",
      "INFO:tensorflow:loss = 45.4584, step = 22001 (0.237 sec)\n",
      "INFO:tensorflow:global_step/sec: 460.623\n",
      "INFO:tensorflow:loss = 1130.46, step = 22101 (0.213 sec)\n",
      "INFO:tensorflow:global_step/sec: 441.05\n",
      "INFO:tensorflow:loss = 43.9115, step = 22201 (0.230 sec)\n",
      "INFO:tensorflow:global_step/sec: 480.891\n",
      "INFO:tensorflow:loss = 55.0863, step = 22301 (0.222 sec)\n",
      "INFO:tensorflow:global_step/sec: 384.061\n",
      "INFO:tensorflow:loss = 44.082, step = 22401 (0.247 sec)\n",
      "INFO:tensorflow:global_step/sec: 488.241\n",
      "INFO:tensorflow:loss = 43.0558, step = 22501 (0.216 sec)\n",
      "INFO:tensorflow:global_step/sec: 414.47\n",
      "INFO:tensorflow:loss = 44.6609, step = 22601 (0.231 sec)\n",
      "INFO:tensorflow:global_step/sec: 438.667\n",
      "INFO:tensorflow:loss = 43.91, step = 22701 (0.223 sec)\n",
      "INFO:tensorflow:global_step/sec: 436.012\n",
      "INFO:tensorflow:loss = 748.365, step = 22801 (0.232 sec)\n",
      "INFO:tensorflow:global_step/sec: 497.772\n",
      "INFO:tensorflow:loss = 44.0819, step = 22901 (0.214 sec)\n",
      "INFO:tensorflow:global_step/sec: 418.276\n",
      "INFO:tensorflow:loss = 44.9434, step = 23001 (0.228 sec)\n",
      "INFO:tensorflow:global_step/sec: 444.699\n",
      "INFO:tensorflow:loss = 42.8878, step = 23101 (0.225 sec)\n",
      "INFO:tensorflow:global_step/sec: 414.819\n",
      "INFO:tensorflow:loss = 45.2787, step = 23201 (0.240 sec)\n",
      "INFO:tensorflow:global_step/sec: 435.832\n",
      "INFO:tensorflow:loss = 43.4707, step = 23301 (0.234 sec)\n",
      "INFO:tensorflow:global_step/sec: 437.379\n",
      "INFO:tensorflow:loss = 42.5364, step = 23401 (0.223 sec)\n",
      "INFO:tensorflow:global_step/sec: 463.008\n",
      "INFO:tensorflow:loss = 43.5658, step = 23501 (0.219 sec)\n",
      "INFO:tensorflow:global_step/sec: 420.404\n",
      "INFO:tensorflow:loss = 43.3916, step = 23601 (0.237 sec)\n",
      "INFO:tensorflow:global_step/sec: 462.185\n",
      "INFO:tensorflow:loss = 44.2545, step = 23701 (0.211 sec)\n",
      "INFO:tensorflow:global_step/sec: 428.406\n",
      "INFO:tensorflow:loss = 44.6024, step = 23801 (0.236 sec)\n",
      "INFO:tensorflow:global_step/sec: 457.594\n",
      "INFO:tensorflow:loss = 849.993, step = 23901 (0.216 sec)\n",
      "INFO:tensorflow:global_step/sec: 436.854\n",
      "INFO:tensorflow:loss = 43.556, step = 24001 (0.233 sec)\n",
      "INFO:tensorflow:global_step/sec: 411.758\n",
      "INFO:tensorflow:loss = 43.5556, step = 24101 (0.244 sec)\n",
      "INFO:tensorflow:global_step/sec: 469.159\n",
      "INFO:tensorflow:loss = 44.4281, step = 24201 (0.208 sec)\n",
      "INFO:tensorflow:global_step/sec: 421.272\n",
      "INFO:tensorflow:loss = 43.563, step = 24301 (0.240 sec)\n",
      "INFO:tensorflow:global_step/sec: 488.448\n",
      "INFO:tensorflow:loss = 44.427, step = 24401 (0.217 sec)\n",
      "INFO:tensorflow:global_step/sec: 414.82\n",
      "INFO:tensorflow:loss = 43.1263, step = 24501 (0.229 sec)\n",
      "INFO:tensorflow:global_step/sec: 460.919\n",
      "INFO:tensorflow:loss = 43.052, step = 24601 (0.217 sec)\n",
      "INFO:tensorflow:global_step/sec: 415.913\n",
      "INFO:tensorflow:loss = 45.2702, step = 24701 (0.245 sec)\n",
      "INFO:tensorflow:global_step/sec: 431.281\n",
      "INFO:tensorflow:loss = 43.8114, step = 24801 (0.227 sec)\n",
      "INFO:tensorflow:global_step/sec: 435.031\n",
      "INFO:tensorflow:loss = 198.834, step = 24901 (0.231 sec)\n"
     ]
    },
    {
     "name": "stdout",
     "output_type": "stream",
     "text": [
      "INFO:tensorflow:global_step/sec: 401.838\n",
      "INFO:tensorflow:loss = 44.0829, step = 25001 (0.248 sec)\n",
      "INFO:tensorflow:global_step/sec: 469.604\n",
      "INFO:tensorflow:loss = 43.0611, step = 25101 (0.210 sec)\n",
      "INFO:tensorflow:global_step/sec: 424.114\n",
      "INFO:tensorflow:loss = 43.5748, step = 25201 (0.236 sec)\n",
      "INFO:tensorflow:global_step/sec: 403.07\n",
      "INFO:tensorflow:loss = 44.4865, step = 25301 (0.257 sec)\n",
      "INFO:tensorflow:global_step/sec: 462.217\n",
      "INFO:tensorflow:loss = 44.5886, step = 25401 (0.207 sec)\n",
      "INFO:tensorflow:global_step/sec: 423.463\n",
      "INFO:tensorflow:loss = 72.6502, step = 25501 (0.252 sec)\n",
      "INFO:tensorflow:global_step/sec: 432.073\n",
      "INFO:tensorflow:loss = 43.912, step = 25601 (0.216 sec)\n",
      "INFO:tensorflow:global_step/sec: 411.762\n",
      "INFO:tensorflow:loss = 44.0823, step = 25701 (0.248 sec)\n",
      "INFO:tensorflow:global_step/sec: 442.496\n",
      "INFO:tensorflow:loss = 43.5707, step = 25801 (0.221 sec)\n",
      "INFO:tensorflow:global_step/sec: 411.192\n",
      "INFO:tensorflow:loss = 264.303, step = 25901 (0.246 sec)\n",
      "INFO:tensorflow:global_step/sec: 490.5\n",
      "INFO:tensorflow:loss = 43.2167, step = 26001 (0.209 sec)\n",
      "INFO:tensorflow:global_step/sec: 462.524\n",
      "INFO:tensorflow:loss = 43.2217, step = 26101 (0.208 sec)\n",
      "INFO:tensorflow:global_step/sec: 420.021\n",
      "INFO:tensorflow:loss = 44.2529, step = 26201 (0.242 sec)\n",
      "INFO:tensorflow:global_step/sec: 439.338\n",
      "INFO:tensorflow:loss = 42.9623, step = 26301 (0.228 sec)\n",
      "INFO:tensorflow:global_step/sec: 457.821\n",
      "INFO:tensorflow:loss = 43.742, step = 26401 (0.214 sec)\n",
      "INFO:tensorflow:global_step/sec: 431.95\n",
      "INFO:tensorflow:loss = 44.0819, step = 26501 (0.232 sec)\n",
      "INFO:tensorflow:global_step/sec: 411.016\n",
      "INFO:tensorflow:loss = 44.4214, step = 26601 (0.246 sec)\n",
      "INFO:tensorflow:global_step/sec: 418.002\n",
      "INFO:tensorflow:loss = 44.0825, step = 26701 (0.236 sec)\n",
      "INFO:tensorflow:global_step/sec: 424.725\n",
      "INFO:tensorflow:loss = 43.9801, step = 26801 (0.235 sec)\n",
      "INFO:tensorflow:global_step/sec: 461.007\n",
      "INFO:tensorflow:loss = 43.0652, step = 26901 (0.233 sec)\n",
      "INFO:tensorflow:global_step/sec: 414.204\n",
      "INFO:tensorflow:loss = 44.4203, step = 27001 (0.229 sec)\n",
      "INFO:tensorflow:global_step/sec: 450.708\n",
      "INFO:tensorflow:loss = 236.854, step = 27101 (0.221 sec)\n",
      "INFO:tensorflow:global_step/sec: 446.683\n",
      "INFO:tensorflow:loss = 209.031, step = 27201 (0.224 sec)\n",
      "INFO:tensorflow:global_step/sec: 495.571\n",
      "INFO:tensorflow:loss = 43.8108, step = 27301 (0.207 sec)\n",
      "INFO:tensorflow:global_step/sec: 420.665\n",
      "INFO:tensorflow:loss = 125.059, step = 27401 (0.233 sec)\n",
      "INFO:tensorflow:global_step/sec: 425.774\n",
      "INFO:tensorflow:loss = 43.975, step = 27501 (0.235 sec)\n",
      "INFO:tensorflow:global_step/sec: 401.838\n",
      "INFO:tensorflow:loss = 43.2387, step = 27601 (0.252 sec)\n",
      "INFO:tensorflow:global_step/sec: 442.731\n",
      "INFO:tensorflow:loss = 43.9121, step = 27701 (0.224 sec)\n",
      "INFO:tensorflow:global_step/sec: 512.238\n",
      "INFO:tensorflow:loss = 42.6227, step = 27801 (0.207 sec)\n",
      "INFO:tensorflow:global_step/sec: 397.079\n",
      "INFO:tensorflow:loss = 43.5678, step = 27901 (0.241 sec)\n",
      "INFO:tensorflow:global_step/sec: 485.368\n",
      "INFO:tensorflow:loss = 44.082, step = 28001 (0.201 sec)\n",
      "INFO:tensorflow:global_step/sec: 422.45\n",
      "INFO:tensorflow:loss = 44.5972, step = 28101 (0.240 sec)\n",
      "INFO:tensorflow:global_step/sec: 438.845\n",
      "INFO:tensorflow:loss = 43.9076, step = 28201 (0.230 sec)\n",
      "INFO:tensorflow:global_step/sec: 514.81\n",
      "INFO:tensorflow:loss = 44.7663, step = 28301 (0.205 sec)\n",
      "INFO:tensorflow:global_step/sec: 406.87\n",
      "INFO:tensorflow:loss = 45.1125, step = 28401 (0.234 sec)\n",
      "INFO:tensorflow:global_step/sec: 398.635\n",
      "INFO:tensorflow:loss = 2249.25, step = 28501 (0.251 sec)\n",
      "INFO:tensorflow:global_step/sec: 455.13\n",
      "INFO:tensorflow:loss = 42.8903, step = 28601 (0.216 sec)\n",
      "INFO:tensorflow:global_step/sec: 440.308\n",
      "INFO:tensorflow:loss = 43.5726, step = 28701 (0.232 sec)\n",
      "INFO:tensorflow:global_step/sec: 433.148\n",
      "INFO:tensorflow:loss = 43.9771, step = 28801 (0.232 sec)\n",
      "INFO:tensorflow:global_step/sec: 503.823\n",
      "INFO:tensorflow:loss = 44.0826, step = 28901 (0.192 sec)\n",
      "INFO:tensorflow:global_step/sec: 407.76\n",
      "INFO:tensorflow:loss = 68.9423, step = 29001 (0.249 sec)\n",
      "INFO:tensorflow:global_step/sec: 504.495\n",
      "INFO:tensorflow:loss = 43.0601, step = 29101 (0.211 sec)\n",
      "INFO:tensorflow:global_step/sec: 413.241\n",
      "INFO:tensorflow:loss = 44.4238, step = 29201 (0.230 sec)\n",
      "INFO:tensorflow:global_step/sec: 438.847\n",
      "INFO:tensorflow:loss = 695.753, step = 29301 (0.226 sec)\n",
      "INFO:tensorflow:global_step/sec: 429.286\n",
      "INFO:tensorflow:loss = 44.9391, step = 29401 (0.230 sec)\n",
      "INFO:tensorflow:global_step/sec: 422.34\n",
      "INFO:tensorflow:loss = 44.4287, step = 29501 (0.241 sec)\n",
      "INFO:tensorflow:global_step/sec: 496.028\n",
      "INFO:tensorflow:loss = 44.941, step = 29601 (0.215 sec)\n",
      "INFO:tensorflow:global_step/sec: 405.651\n",
      "INFO:tensorflow:loss = 43.5674, step = 29701 (0.232 sec)\n",
      "INFO:tensorflow:global_step/sec: 510.718\n",
      "INFO:tensorflow:loss = 44.4232, step = 29801 (0.208 sec)\n",
      "INFO:tensorflow:global_step/sec: 414.157\n",
      "INFO:tensorflow:loss = 43.5678, step = 29901 (0.229 sec)\n",
      "INFO:tensorflow:Saving checkpoints for 30000 into model/DNN\\model.ckpt.\n",
      "INFO:tensorflow:Loss for final step: 44.4239.\n"
     ]
    }
   ],
   "source": [
    "%pdb off\n",
    "classifier.train(input_fn=train_input_fn, steps=30000);"
   ]
  },
  {
   "cell_type": "code",
   "execution_count": 22,
   "metadata": {},
   "outputs": [],
   "source": [
    "# Define the test inputs  從 mnist 抄過來改的\n",
    "test_input_fn = tf.estimator.inputs.numpy_input_fn(\n",
    "    x={\"x\": np.array(x_test)[:,:751]},\n",
    "    y=np.array(y_test),\n",
    "    num_epochs=1,\n",
    "    shuffle=False\n",
    "    )"
   ]
  },
  {
   "cell_type": "code",
   "execution_count": 23,
   "metadata": {
    "scrolled": true
   },
   "outputs": [
    {
     "name": "stdout",
     "output_type": "stream",
     "text": [
      "INFO:tensorflow:Calling model_fn.\n",
      "WARNING:tensorflow:Trapezoidal rule is known to produce incorrect PR-AUCs; please switch to \"careful_interpolation\" instead.\n",
      "WARNING:tensorflow:Trapezoidal rule is known to produce incorrect PR-AUCs; please switch to \"careful_interpolation\" instead.\n",
      "INFO:tensorflow:Done calling model_fn.\n",
      "INFO:tensorflow:Starting evaluation at 2018-06-06-09:52:13\n",
      "INFO:tensorflow:Graph was finalized.\n",
      "INFO:tensorflow:Restoring parameters from model/DNN\\model.ckpt-30000\n",
      "INFO:tensorflow:Running local_init_op.\n",
      "INFO:tensorflow:Done running local_init_op.\n",
      "INFO:tensorflow:Finished evaluation at 2018-06-06-09:52:14\n",
      "INFO:tensorflow:Saving dict for global step 30000: accuracy = 0.6, accuracy_baseline = 0.6, auc = 0.5, auc_precision_recall = 0.7, average_loss = 0.67971, global_step = 30000, label/mean = 0.4, loss = 47.5797, precision = 0.0, prediction/mean = 0.457405, recall = 0.0\n",
      "\n",
      "Test Accuracy: 60.000002%\n",
      "\n"
     ]
    }
   ],
   "source": [
    "# Evaluate accuracy\n",
    "evaluate = classifier.evaluate(input_fn=test_input_fn)\n",
    "accuracy_score = evaluate[\"accuracy\"]\n",
    "print(\"\\nTest Accuracy: {0:f}%\\n\".format(accuracy_score*100))"
   ]
  },
  {
   "cell_type": "code",
   "execution_count": 24,
   "metadata": {},
   "outputs": [
    {
     "data": {
      "text/plain": [
       "{'accuracy': 0.60000002,\n",
       " 'accuracy_baseline': 0.60000002,\n",
       " 'auc': 0.5,\n",
       " 'auc_precision_recall': 0.69999999,\n",
       " 'average_loss': 0.67970961,\n",
       " 'global_step': 30000,\n",
       " 'label/mean': 0.40000001,\n",
       " 'loss': 47.579674,\n",
       " 'precision': 0.0,\n",
       " 'prediction/mean': 0.45740461,\n",
       " 'recall': 0.0}"
      ]
     },
     "execution_count": 24,
     "metadata": {},
     "output_type": "execute_result"
    }
   ],
   "source": [
    "evaluate"
   ]
  },
  {
   "cell_type": "markdown",
   "metadata": {},
   "source": [
    "## How about a 'recall' ?"
   ]
  },
  {
   "cell_type": "code",
   "execution_count": 25,
   "metadata": {},
   "outputs": [],
   "source": [
    "# Define the test inputs  從 mnist 抄過來改的\n",
    "test_input_fn = tf.estimator.inputs.numpy_input_fn(\n",
    "    x={\"x\": np.array(x_train)[:,:751]},\n",
    "    y=np.array(y_train),\n",
    "    num_epochs=1,\n",
    "    shuffle=False\n",
    "    )"
   ]
  },
  {
   "cell_type": "code",
   "execution_count": 26,
   "metadata": {},
   "outputs": [
    {
     "name": "stdout",
     "output_type": "stream",
     "text": [
      "INFO:tensorflow:Calling model_fn.\n",
      "WARNING:tensorflow:Trapezoidal rule is known to produce incorrect PR-AUCs; please switch to \"careful_interpolation\" instead.\n",
      "WARNING:tensorflow:Trapezoidal rule is known to produce incorrect PR-AUCs; please switch to \"careful_interpolation\" instead.\n",
      "INFO:tensorflow:Done calling model_fn.\n",
      "INFO:tensorflow:Starting evaluation at 2018-06-06-09:52:17\n",
      "INFO:tensorflow:Graph was finalized.\n",
      "INFO:tensorflow:Restoring parameters from model/DNN\\model.ckpt-30000\n",
      "INFO:tensorflow:Running local_init_op.\n",
      "INFO:tensorflow:Done running local_init_op.\n",
      "INFO:tensorflow:Finished evaluation at 2018-06-06-09:52:18\n",
      "INFO:tensorflow:Saving dict for global step 30000: accuracy = 0.542857, accuracy_baseline = 0.542857, auc = 0.5, auc_precision_recall = 0.728571, average_loss = 0.689469, global_step = 30000, label/mean = 0.457143, loss = 64.3505, precision = 0.0, prediction/mean = 0.457405, recall = 0.0\n",
      "\n",
      "Test Accuracy: 54.285717%\n",
      "\n"
     ]
    }
   ],
   "source": [
    "# Evaluate accuracy\n",
    "accuracy_score = classifier.evaluate(input_fn=test_input_fn)[\"accuracy\"]\n",
    "print(\"\\nTest Accuracy: {0:f}%\\n\".format(accuracy_score*100))"
   ]
  },
  {
   "cell_type": "code",
   "execution_count": null,
   "metadata": {},
   "outputs": [],
   "source": []
  },
  {
   "cell_type": "markdown",
   "metadata": {},
   "source": [
    "### 用全部資料來比對"
   ]
  },
  {
   "cell_type": "code",
   "execution_count": 27,
   "metadata": {},
   "outputs": [],
   "source": [
    "# Make input function for prediction:\n",
    "#   shuffle=False -> do not randomize input data\n",
    "pred_input_fn = tf.estimator.inputs.numpy_input_fn(\n",
    "    x={\"x\": np.array(x)[:,:751]},\n",
    "    y=np.array(y),\n",
    "    num_epochs=1,  # Just one epoch\n",
    "    shuffle=False, # Don't shuffle so we can compare to true labels later\n",
    "    )  # 參考 GitHub/tensorflow-workshop/examples/07_structured_data.ipynb\n"
   ]
  },
  {
   "cell_type": "code",
   "execution_count": 28,
   "metadata": {},
   "outputs": [],
   "source": [
    "# 從 wh300/DNNClassifier_Predicting.ipynb 抄來的例子\n",
    "# Predict 整批 test input \n",
    "preds = classifier.predict(pred_input_fn)"
   ]
  },
  {
   "cell_type": "code",
   "execution_count": 29,
   "metadata": {},
   "outputs": [
    {
     "name": "stdout",
     "output_type": "stream",
     "text": [
      "INFO:tensorflow:Calling model_fn.\n",
      "INFO:tensorflow:Done calling model_fn.\n",
      "INFO:tensorflow:Graph was finalized.\n",
      "INFO:tensorflow:Restoring parameters from model/DNN\\model.ckpt-30000\n",
      "INFO:tensorflow:Running local_init_op.\n",
      "INFO:tensorflow:Done running local_init_op.\n"
     ]
    }
   ],
   "source": [
    "# preds 好像是 interator 要反覆研究必須這樣取出來\n",
    "predict = [i for i in preds];"
   ]
  },
  {
   "cell_type": "code",
   "execution_count": 30,
   "metadata": {},
   "outputs": [
    {
     "name": "stdout",
     "output_type": "stream",
     "text": [
      "( DNN 猜測的結果 ) predictions tib. \\ ==> [0, 0, 0, 0, 0, 0, 0, 0, 0, 0, 0, 0, 0, 0, 0, 0, 0, 0, 0, 0, 0, 0, 0, 0, 0, 0, 0, 0, 0, 0, 0, 0, 0, 0, 0, 0, 0, 0, 0, 0, 0, 0, 0, 0, 0, 0, 0, 0, 0, 0, 0, 0, 0, 0, 0, 0, 0, 0, 0, 0, 0, 0, 0, 0, 0, 0, 0, 0, 0, 0, 0, 0, 0, 0, 0, 0, 0, 0, 0, 0, 0, 0, 0, 0, 0, 0, 0, 0, 0, 0, 0, 0, 0, 0, 0, 0, 0, 0, 0, 0, 0, 0, 0, 0, 0, 0, 0, 0, 0, 0, 0, 0, 0, 0, 0, 0, 0, 0, 0, 0, 0, 0, 0, 0, 0, 0, 0, 0, 0, 0, 0, 0, 0, 0, 0, 0, 0, 0, 0, 0, 0, 0, 0, 0, 0, 0, 0, 0, 0, 0, 0, 0, 0, 0, 0, 0, 0, 0, 0, 0, 0, 0, 0, 0, 0, 0, 0, 0, 0, 0, 0, 0, 0, 0, 0, 0, 0, 0, 0, 0, 0, 0, 0, 0, 0, 0, 0, 0, 0, 0, 0, 0, 0, 0, 0, 0, 0, 0, 0, 0, 0, 0, 0, 0, 0, 0, 0, 0, 0, 0, 0, 0, 0, 0, 0, 0, 0, 0, 0, 0, 0, 0, 0, 0, 0, 0, 0, 0, 0, 0, 0, 0, 0, 0, 0, 0, 0, 0, 0, 0, 0, 0, 0, 0, 0, 0, 0, 0, 0, 0, 0, 0, 0, 0, 0, 0, 0, 0, 0, 0, 0, 0, 0, 0, 0, 0, 0, 0, 0, 0, 0, 0, 0, 0, 0, 0, 0, 0, 0, 0, 0, 0, 0, 0, 0, 0, 0, 0, 0, 0, 0, 0, 0, 0, 0, 0, 0, 0, 0, 0, 0, 0, 0, 0, 0, 0, 0, 0, 0, 0, 0, 0, 0, 0, 0, 0, 0, 0, 0, 0, 0, 0, 0, 0, 0, 0, 0, 0, 0, 0, 0, 0, 0, 0, 0, 0, 0, 0, 0, 0, 0, 0, 0, 0, 0, 0, 0, 0, 0, 0] (<class 'list'>)\n",
      "( 跟實際的比較 ) y tib. \\ ==> [1, 0, 0, 0, 0, 0, 1, 0, 1, 1, 1, 0, 1, 1, 1, 1, 0, 0, 0, 0, 0, 0, 0, 1, 1, 1, 0, 1, 0, 0, 0, 0, 0, 1, 1, 0, 1, 0, 1, 1, 0, 1, 1, 0, 0, 1, 1, 0, 0, 0, 0, 1, 1, 1, 0, 0, 0, 1, 0, 0, 0, 1, 0, 1, 0, 1, 0, 0, 0, 0, 0, 1, 0, 0, 0, 1, 0, 1, 0, 1, 0, 0, 1, 1, 1, 1, 1, 1, 1, 0, 0, 1, 0, 0, 1, 1, 1, 1, 0, 1, 1, 0, 0, 1, 1, 0, 0, 0, 0, 1, 1, 1, 0, 1, 1, 0, 0, 0, 1, 0, 0, 1, 0, 1, 0, 0, 0, 0, 1, 0, 1, 0, 0, 1, 0, 0, 1, 0, 1, 0, 0, 1, 0, 0, 0, 0, 0, 1, 0, 1, 1, 1, 1, 0, 0, 1, 1, 1, 1, 1, 0, 0, 0, 1, 1, 1, 1, 1, 0, 0, 0, 0, 0, 0, 0, 1, 1, 1, 0, 0, 0, 0, 0, 0, 0, 0, 1, 1, 0, 0, 0, 0, 1, 0, 1, 1, 0, 0, 1, 0, 1, 1, 1, 0, 0, 0, 0, 0, 0, 1, 1, 0, 0, 1, 0, 0, 0, 0, 1, 1, 0, 1, 0, 0, 0, 0, 0, 1, 0, 1, 0, 0, 0, 1, 1, 0, 0, 0, 1, 1, 1, 1, 1, 1, 1, 1, 1, 1, 1, 0, 0, 0, 1, 1, 0, 0, 0, 0, 0, 1, 1, 0, 1, 1, 0, 1, 0, 0, 1, 1, 0, 1, 0, 0, 0, 1, 0, 1, 0, 0, 1, 0, 0, 0, 1, 1, 0, 0, 1, 0, 0, 0, 1, 0, 0, 0, 0, 0, 1, 1, 1, 0, 1, 0, 0, 1, 1, 1, 0, 0, 1, 1, 1, 1, 0, 0, 0, 0, 1, 1, 1, 1, 1, 1, 1, 0, 1, 0, 0, 1, 0, 0, 0, 0, 1, 1, 1, 0, 0, 1, 0, 0, 0, 0, 1, 0, 1, 1, 1, 0] (<class 'list'>)\n",
      "predictions py> sum(pop()) tib. \\ ==> 0 (<class 'numpy.int64'>)\n",
      "y py> sum(pop()) tib. \\ ==> 156 (<class 'numpy.int32'>)\n",
      "predictions np :> array(pop()).shape tib. \\ ==> (350,) (<class 'tuple'>)\n",
      "y np :> array(pop()).shape tib. \\ ==> (350,) (<class 'tuple'>)\n"
     ]
    }
   ],
   "source": [
    "# np.argmax() 就是用來從 probabilities array 讀出結論的方法\n",
    "# https://docs.scipy.org/doc/numpy/reference/generated/numpy.argmax.html\n",
    "\n",
    "predictions = [np.argmax(predict[i]['probabilities'],axis=-1) for i in range(len(x))]; \n",
    "%f ( DNN 猜測的結果 ) predictions tib.\n",
    "%f ( 跟實際的比較 ) y tib.\n",
    "%f predictions py> sum(pop()) tib.\n",
    "%f y py> sum(pop()) tib.\n",
    "%f predictions np :> array(pop()).shape tib.\n",
    "%f y np :> array(pop()).shape tib.\n"
   ]
  },
  {
   "cell_type": "code",
   "execution_count": 31,
   "metadata": {},
   "outputs": [
    {
     "name": "stdout",
     "output_type": "stream",
     "text": [
      "categories ( 沒事的，漏掉的，多的，一致的 ) tib. \\ ==> [194, 156, 0, 0] (<class 'list'>)\n"
     ]
    }
   ],
   "source": [
    "# 查看 AI 預測的結果，與人工 tag 比較。\n",
    "categories = [0,0,0,0]\n",
    "for i in range(len(y)): \n",
    "    if int(predictions[i])==int(y[i]) and int(y[i])==0: categories[0]+=1; continue\n",
    "    if int(predictions[i])!=int(y[i]) and int(y[i])==1: categories[1]+=1; continue\n",
    "    if int(predictions[i])!=int(y[i]) and int(y[i])==0: categories[2]+=1; continue\n",
    "    if int(predictions[i])==int(y[i]) and int(y[i])==1: categories[3]+=1; continue\n",
    "%f categories ( 沒事的，漏掉的，多的，一致的 ) tib."
   ]
  },
  {
   "cell_type": "code",
   "execution_count": null,
   "metadata": {},
   "outputs": [],
   "source": []
  },
  {
   "cell_type": "markdown",
   "metadata": {},
   "source": [
    "### 用 test 資料來比對"
   ]
  },
  {
   "cell_type": "code",
   "execution_count": 32,
   "metadata": {},
   "outputs": [],
   "source": [
    "# Make input function for prediction:\n",
    "#   shuffle=False -> do not randomize input data\n",
    "pred_input_fn = tf.estimator.inputs.numpy_input_fn(\n",
    "    x={\"x\": np.array(x_test)[:,:751]},\n",
    "    y=np.array(y_test),\n",
    "    num_epochs=1,  # Just one epoch\n",
    "    shuffle=False, # Don't shuffle so we can compare to true labels later\n",
    "    )  # 參考 GitHub/tensorflow-workshop/examples/07_structured_data.ipynb\n"
   ]
  },
  {
   "cell_type": "code",
   "execution_count": 33,
   "metadata": {},
   "outputs": [],
   "source": [
    "# 從 wh300/DNNClassifier_Predicting.ipynb 抄來的例子\n",
    "# Predict 整批 test input \n",
    "preds = classifier.predict(pred_input_fn)"
   ]
  },
  {
   "cell_type": "code",
   "execution_count": 34,
   "metadata": {},
   "outputs": [
    {
     "name": "stdout",
     "output_type": "stream",
     "text": [
      "INFO:tensorflow:Calling model_fn.\n",
      "INFO:tensorflow:Done calling model_fn.\n",
      "INFO:tensorflow:Graph was finalized.\n",
      "INFO:tensorflow:Restoring parameters from model/DNN\\model.ckpt-30000\n",
      "INFO:tensorflow:Running local_init_op.\n",
      "INFO:tensorflow:Done running local_init_op.\n"
     ]
    }
   ],
   "source": [
    "# preds 好像是 interator 要反覆研究必須這樣取出來\n",
    "predict = [i for i in preds];"
   ]
  },
  {
   "cell_type": "code",
   "execution_count": 35,
   "metadata": {},
   "outputs": [
    {
     "name": "stdout",
     "output_type": "stream",
     "text": [
      "( DNN 猜測的結果 ) predictions tib. \\ ==> [0, 0, 0, 0, 0, 0, 0, 0, 0, 0, 0, 0, 0, 0, 0, 0, 0, 0, 0, 0, 0, 0, 0, 0, 0, 0, 0, 0, 0, 0, 0, 0, 0, 0, 0, 0, 0, 0, 0, 0, 0, 0, 0, 0, 0, 0, 0, 0, 0, 0, 0, 0, 0, 0, 0, 0, 0, 0, 0, 0, 0, 0, 0, 0, 0, 0, 0, 0, 0, 0] (<class 'list'>)\n",
      "( 跟實際的比較 ) y_test tib. \\ ==> [1, 0, 1, 1, 1, 1, 1, 0, 0, 1, 1, 0, 0, 1, 0, 0, 0, 1, 0, 1, 1, 0, 0, 1, 0, 0, 1, 0, 0, 1, 0, 0, 1, 1, 0, 0, 1, 0, 0, 0, 0, 0, 0, 0, 0, 0, 0, 1, 0, 0, 0, 0, 0, 1, 1, 1, 0, 0, 0, 0, 1, 0, 0, 1, 1, 1, 0, 1, 0, 1] (<class 'list'>)\n",
      "predictions py> sum(pop()) tib. \\ ==> 0 (<class 'numpy.int64'>)\n",
      "y_test py> sum(pop()) tib. \\ ==> 28 (<class 'numpy.int32'>)\n",
      "predictions np :> array(pop()).shape tib. \\ ==> (70,) (<class 'tuple'>)\n",
      "y_test np :> array(pop()).shape tib. \\ ==> (70,) (<class 'tuple'>)\n"
     ]
    }
   ],
   "source": [
    "# np.argmax() 就是用來從 probabilities array 讀出結論的方法\n",
    "# https://docs.scipy.org/doc/numpy/reference/generated/numpy.argmax.html\n",
    "\n",
    "predictions = [np.argmax(predict[i]['probabilities'],axis=-1) for i in range(len(x_test))]; \n",
    "%f ( DNN 猜測的結果 ) predictions tib.\n",
    "%f ( 跟實際的比較 ) y_test tib.\n",
    "%f predictions py> sum(pop()) tib.\n",
    "%f y_test py> sum(pop()) tib.\n",
    "%f predictions np :> array(pop()).shape tib.\n",
    "%f y_test np :> array(pop()).shape tib.\n"
   ]
  },
  {
   "cell_type": "code",
   "execution_count": 36,
   "metadata": {},
   "outputs": [
    {
     "name": "stdout",
     "output_type": "stream",
     "text": [
      "categories ( 沒事的，漏掉的，多的，一致的 ) tib. \\ ==> [42, 28, 0, 0] (<class 'list'>)\n"
     ]
    }
   ],
   "source": [
    "# 查看 AI 預測的結果，與人工 tag 比較。\n",
    "categories = [0,0,0,0]\n",
    "for i in range(len(y_test)): \n",
    "    if int(predictions[i])==int(y_test[i]) and int(y_test[i])==0: categories[0]+=1; continue\n",
    "    if int(predictions[i])!=int(y_test[i]) and int(y_test[i])==1: categories[1]+=1; continue\n",
    "    if int(predictions[i])!=int(y_test[i]) and int(y_test[i])==0: categories[2]+=1; continue\n",
    "    if int(predictions[i])==int(y_test[i]) and int(y_test[i])==1: categories[3]+=1; continue\n",
    "%f categories ( 沒事的，漏掉的，多的，一致的 ) tib."
   ]
  },
  {
   "cell_type": "code",
   "execution_count": null,
   "metadata": {},
   "outputs": [],
   "source": []
  },
  {
   "cell_type": "markdown",
   "metadata": {},
   "source": [
    "### 用全部資料來比對"
   ]
  },
  {
   "cell_type": "code",
   "execution_count": null,
   "metadata": {},
   "outputs": [],
   "source": [
    "# Make input function for prediction:\n",
    "#   shuffle=False -> do not randomize input data\n",
    "pred_input_fn = tf.estimator.inputs.numpy_input_fn(\n",
    "    x={\"x\": np.array(x)[:,:751]},\n",
    "    y=np.array(y),\n",
    "    num_epochs=1,  # Just one epoch\n",
    "    shuffle=False, # Don't shuffle so we can compare to true labels later\n",
    "    )  # 參考 GitHub/tensorflow-workshop/examples/07_structured_data.ipynb\n"
   ]
  },
  {
   "cell_type": "code",
   "execution_count": null,
   "metadata": {},
   "outputs": [],
   "source": [
    "# 從 wh300/DNNClassifier_Predicting.ipynb 抄來的例子\n",
    "# Predict 整批 test input \n",
    "preds = classifier.predict(pred_input_fn)"
   ]
  },
  {
   "cell_type": "code",
   "execution_count": null,
   "metadata": {},
   "outputs": [],
   "source": [
    "# preds 好像是 interator 要反覆研究必須這樣取出來\n",
    "predict = [i for i in preds];"
   ]
  },
  {
   "cell_type": "code",
   "execution_count": null,
   "metadata": {},
   "outputs": [],
   "source": [
    "# np.argmax() 就是用來從 probabilities array 讀出結論的方法\n",
    "# https://docs.scipy.org/doc/numpy/reference/generated/numpy.argmax.html\n",
    "\n",
    "predictions = [np.argmax(predict[i]['probabilities'],axis=-1) for i in range(len(x))]; \n",
    "%f ( DNN 猜測的結果 ) predictions tib.\n",
    "%f ( 跟實際的比較 ) y tib.\n",
    "%f predictions py> sum(pop()) tib.\n",
    "%f y py> sum(pop()) tib.\n",
    "%f predictions np :> array(pop()).shape tib.\n",
    "%f y np :> array(pop()).shape tib.\n"
   ]
  },
  {
   "cell_type": "code",
   "execution_count": null,
   "metadata": {},
   "outputs": [],
   "source": [
    "# 查看 AI 預測的結果，與人工 tag 比較。\n",
    "categories = [0,0,0,0]\n",
    "for i in range(len(y)): \n",
    "    if int(predictions[i])==int(y[i]) and int(y[i])==0: categories[0]+=1; continue\n",
    "    if int(predictions[i])!=int(y[i]) and int(y[i])==1: categories[1]+=1; continue\n",
    "    if int(predictions[i])!=int(y[i]) and int(y[i])==0: categories[2]+=1; continue\n",
    "    if int(predictions[i])==int(y[i]) and int(y[i])==1: categories[3]+=1; continue\n",
    "%f categories ( 沒事的，漏掉的，多的，一致的 ) tib."
   ]
  },
  {
   "cell_type": "code",
   "execution_count": null,
   "metadata": {},
   "outputs": [],
   "source": []
  },
  {
   "cell_type": "code",
   "execution_count": 39,
   "metadata": {},
   "outputs": [
    {
     "data": {
      "text/plain": [
       "array([  1.47432960e+18,   1.16959680e+18,   9.30873600e+17,\n",
       "         1.43337600e+18,   1.41168960e+18,   9.29491200e+17,\n",
       "         1.30515840e+18,   1.25383680e+18,   1.02522240e+18,\n",
       "         1.17987840e+18])"
      ]
     },
     "execution_count": 39,
     "metadata": {},
     "output_type": "execute_result"
    }
   ],
   "source": [
    "np.array(x_test)[:10,751]"
   ]
  },
  {
   "cell_type": "code",
   "execution_count": 41,
   "metadata": {},
   "outputs": [
    {
     "data": {
      "text/plain": [
       "DatetimeIndex(['2016-09-20', '2007-01-24', '1999-07-02', '2015-06-04',\n",
       "               '2014-09-26', '1999-06-16', '2011-05-12', '2009-09-25',\n",
       "               '2002-06-28', '2007-05-23'],\n",
       "              dtype='datetime64[ns]', freq=None)"
      ]
     },
     "execution_count": 41,
     "metadata": {},
     "output_type": "execute_result"
    }
   ],
   "source": [
    "pd.to_datetime(np.array(x_test)[:10,751])\n"
   ]
  },
  {
   "cell_type": "code",
   "execution_count": null,
   "metadata": {},
   "outputs": [],
   "source": []
  },
  {
   "cell_type": "code",
   "execution_count": null,
   "metadata": {},
   "outputs": [],
   "source": []
  },
  {
   "cell_type": "code",
   "execution_count": null,
   "metadata": {},
   "outputs": [],
   "source": []
  },
  {
   "cell_type": "code",
   "execution_count": null,
   "metadata": {},
   "outputs": [],
   "source": [
    "!start tensorboard --logdir=\"model/DNN\""
   ]
  },
  {
   "cell_type": "markdown",
   "metadata": {},
   "source": [
    "#  [待續] 改良餵進資料的方式，直接用 shape(150,5) 跳過 150天打包的過程。\n",
    "\n",
    "- 要回溯的天數先指定，最前面這麼多天扣掉。\n",
    "- 要往後參考的天數先指定，最後面這麼多天扣掉。排除這兩條件，剩下來的就是可用的天數。\n",
    "- cross_validation 的工作很簡單，看取多少趴數當 test 從尾巴切走就對了。所以 ％ 數對應一個切分日期。\n",
    "- 改寫 input_fn 讓它從 train or test set 裡面挑一個出來"
   ]
  },
  {
   "cell_type": "code",
   "execution_count": null,
   "metadata": {},
   "outputs": [],
   "source": []
  },
  {
   "cell_type": "code",
   "execution_count": null,
   "metadata": {},
   "outputs": [],
   "source": []
  },
  {
   "cell_type": "code",
   "execution_count": null,
   "metadata": {},
   "outputs": [],
   "source": []
  },
  {
   "cell_type": "code",
   "execution_count": null,
   "metadata": {},
   "outputs": [],
   "source": []
  },
  {
   "cell_type": "code",
   "execution_count": null,
   "metadata": {},
   "outputs": [],
   "source": []
  },
  {
   "cell_type": "markdown",
   "metadata": {},
   "source": [
    "# 預測「未來 dayforesee 天會不會漲 20%？」\n",
    "\n",
    "實際 4638天當中有 1677天 符合條件\n",
    "用全部資料來比對： ( 沒事的，漏掉的，多的，一致的 ) tib. \\ ==> [2418, 1243, 383, 434] \n",
    "用 Test 比對 ： ( 沒事的，漏掉的，多的，一致的 ) tib. \\ ==> [433, 297, 110, 56]\n",
    "這樣看起來好像有點被記住了的問題，所以 dropout 用到了 0.4 （40％） 得到以上結果，只能這樣了。\n"
   ]
  },
  {
   "cell_type": "code",
   "execution_count": null,
   "metadata": {},
   "outputs": [],
   "source": [
    "%%js\n",
    "alert(\"要不要把 model/DNN directory 先殺掉？\")\n"
   ]
  },
  {
   "cell_type": "code",
   "execution_count": null,
   "metadata": {},
   "outputs": [],
   "source": [
    "import tensorflow as tf\n",
    "import numpy as np\n",
    "import pandas as pd\n",
    "import peforth as f\n",
    "from sklearn import cross_validation"
   ]
  },
  {
   "cell_type": "code",
   "execution_count": null,
   "metadata": {},
   "outputs": [],
   "source": [
    "%%f\n",
    "\\ Now we redefine the 'unknown' command that does nothing at default  \n",
    ": unknown ( token -- thing Y|N) // Try to find the unknown token in __main__\n",
    "  py> getattr(sys.modules['__main__'],pop(),\"Ûnknôwn\") \n",
    "  py> str(tos())==\"Ûnknôwn\" if drop false else true then ;\n",
    "  /// here after, when FORTH come accross an unknown token, instead of alerting \n",
    "  /// it try to find the token in python __main__ module name space.\n",
    ": path-to-find-modules ( <path> -- ) // Add path to sys.path so \"import module-name\" can find the module\n",
    "    CR word trim ( \"path\" ) py: sys.path.append(pop()) ;\n",
    "code \\ print(nexttoken('\\n')) end-code // Redefine \\ command to print the comment line \n"
   ]
  },
  {
   "cell_type": "code",
   "execution_count": null,
   "metadata": {},
   "outputs": [],
   "source": [
    "data = pd.read_csv('000777.csv',encoding='gbk',parse_dates=[0],index_col=0)\n",
    "\n",
    "# data frame 中帶有 None 的 rows 都剔除掉。 本來有 4752 rows 現在只剩 4639 \n",
    "# 用法: df.dropna(axis=0, how='any', thresh=None, subset=None, inplace=False)\n",
    "data = data.replace(to_replace='None', value=np.nan).dropna()  \n",
    "\n",
    "# pdb.set_trace() # data 本來是新的在上面\n",
    "data.sort_index(0,ascending=True,inplace=True) # 排序 sort 過後變成最舊的在上面\n",
    "\n",
    "# 上市第一天的資料不要，因為【漲跌幅】無效。\n",
    "data = data.query('index > \"1997-07-10\"')"
   ]
  },
  {
   "cell_type": "code",
   "execution_count": null,
   "metadata": {},
   "outputs": [],
   "source": [
    "# raw data has 20 years long, but here only analysis the last 150 days of a chosen day\n",
    "dayfeature=150\n",
    "dayforesee=10  # 問未來幾天如何如何，最後就要扣掉幾天，避免 out of bounds. 0 代表當天。\n",
    "featurenum=5*dayfeature  # 取五個有關係的欄位，特徵值。\n",
    "x=np.zeros((data.shape[0]-dayfeature-dayforesee,featurenum+1))\n",
    "y=np.zeros((data.shape[0]-dayfeature-dayforesee));"
   ]
  },
  {
   "cell_type": "code",
   "execution_count": null,
   "metadata": {},
   "outputs": [],
   "source": [
    "# 重疊 shift 150 天的五個「行情數目」加上下一天的開盤 共 751 個「數目」當作 feature X \n",
    "\n",
    "for i in range(0,data.shape[0]-dayfeature-dayforesee):\n",
    "    x[i,0:featurenum]=np.array(data[i:i+dayfeature] \\\n",
    "          [[u'收盘价',u'最高价',u'最低价',u'开盘价',u'成交量']]).reshape((1,featurenum))\n",
    "    # x[i,featurenum]=data.ix[i+dayfeature][u'开盘价']  # ix deprecated\n",
    "    x[i,featurenum]=data.iloc[i+dayfeature][u'开盘价']"
   ]
  },
  {
   "cell_type": "code",
   "execution_count": null,
   "metadata": {},
   "outputs": [],
   "source": [
    "# 預測未來 dayforesee 天是否會「漲20%」?\n",
    "\n",
    "for i in range(0,data.shape[0]-dayfeature-dayforesee):\n",
    "    y[i]=0              \n",
    "    pi = float(data.iloc[i][u'收盘价'])\n",
    "    for j in range(dayforesee):\n",
    "        pi5 = float(data.iloc[j+i+dayfeature][u'最高价'])\n",
    "        if (pi5-pi)/pi >= 0.20 :\n",
    "            y[i]=1\n",
    "y = np.int32(y)"
   ]
  },
  {
   "cell_type": "code",
   "execution_count": null,
   "metadata": {},
   "outputs": [],
   "source": [
    "x_train, x_test, y_train, y_test = cross_validation.train_test_split(x, y, test_size = 0.2)"
   ]
  },
  {
   "cell_type": "code",
   "execution_count": null,
   "metadata": {},
   "outputs": [],
   "source": [
    "%f ( 有這麼多天符合條件 ) y py> sum(pop()) tib.\n",
    "%f x_train :> shape tib.\n",
    "%f x_test :> shape tib.\n",
    "%f y_train :> shape tib.\n",
    "%f y_test :> shape tib.\n",
    "%f x_train :> shape[0] tib.\n",
    "    "
   ]
  },
  {
   "cell_type": "code",
   "execution_count": null,
   "metadata": {},
   "outputs": [],
   "source": [
    "y_train"
   ]
  },
  {
   "cell_type": "code",
   "execution_count": null,
   "metadata": {},
   "outputs": [],
   "source": [
    "# 應該只有一個 feature 是個 shape = (751,) 的 array. 這怎麼表達?\n",
    "my_feature_columns = [tf.feature_column.numeric_column(\"x\", shape=[751,])]  \n",
    "my_feature_columns"
   ]
  },
  {
   "cell_type": "code",
   "execution_count": null,
   "metadata": {
    "scrolled": false
   },
   "outputs": [],
   "source": [
    "# Build 2 hidden layer DNN with 10, 10 units respectively.\n",
    "classifier = tf.estimator.DNNClassifier(\n",
    "    feature_columns=my_feature_columns,\n",
    "    # Two hidden layers of 10 nodes each.\n",
    "    hidden_units=[256,128],\n",
    "    # The model must choose between 3 classes.\n",
    "    n_classes=2,\n",
    "    dropout=0.4,\n",
    "    model_dir=\"model/DNN\"\n",
    "    )"
   ]
  },
  {
   "cell_type": "code",
   "execution_count": null,
   "metadata": {},
   "outputs": [],
   "source": [
    "# Define the training inputs 從 mnist 抄過來改的\n",
    "train_input_fn = tf.estimator.inputs.numpy_input_fn(\n",
    "    x={\"x\": x_train},\n",
    "    y=y_train,\n",
    "    num_epochs=None,\n",
    "    batch_size=1000,\n",
    "    shuffle=True\n",
    "    )"
   ]
  },
  {
   "cell_type": "code",
   "execution_count": null,
   "metadata": {},
   "outputs": [],
   "source": [
    "classifier.train(input_fn=train_input_fn, steps=3000);"
   ]
  },
  {
   "cell_type": "code",
   "execution_count": null,
   "metadata": {},
   "outputs": [],
   "source": [
    "# Define the test inputs  從 mnist 抄過來改的\n",
    "test_input_fn = tf.estimator.inputs.numpy_input_fn(\n",
    "    x={\"x\": x_test},\n",
    "    y=y_test,\n",
    "    num_epochs=1,\n",
    "    shuffle=False\n",
    "    )"
   ]
  },
  {
   "cell_type": "code",
   "execution_count": null,
   "metadata": {},
   "outputs": [],
   "source": [
    "# Evaluate accuracy\n",
    "accuracy_score = classifier.evaluate(input_fn=test_input_fn)[\"accuracy\"]\n",
    "print(\"\\nTest Accuracy: {0:f}%\\n\".format(accuracy_score*100))\n",
    "\n",
    "# End of \"mnist_estimator.py\"\n"
   ]
  },
  {
   "cell_type": "markdown",
   "metadata": {},
   "source": [
    "### 用全部資料來比對"
   ]
  },
  {
   "cell_type": "code",
   "execution_count": null,
   "metadata": {},
   "outputs": [],
   "source": [
    "# Make input function for prediction:\n",
    "#   shuffle=False -> do not randomize input data\n",
    "pred_input_fn = tf.estimator.inputs.numpy_input_fn(\n",
    "    x={\"x\": x},\n",
    "    y=y,\n",
    "    num_epochs=1,  # Just one epoch\n",
    "    shuffle=False, # Don't shuffle so we can compare to true labels later\n",
    "    )  # 參考 GitHub/tensorflow-workshop/examples/07_structured_data.ipynb\n"
   ]
  },
  {
   "cell_type": "code",
   "execution_count": null,
   "metadata": {},
   "outputs": [],
   "source": [
    "# 從 wh300/DNNClassifier_Predicting.ipynb 抄來的例子\n",
    "# Predict 整批 test input \n",
    "preds = classifier.predict(pred_input_fn)"
   ]
  },
  {
   "cell_type": "code",
   "execution_count": null,
   "metadata": {},
   "outputs": [],
   "source": [
    "predict = [i for i in preds];"
   ]
  },
  {
   "cell_type": "code",
   "execution_count": null,
   "metadata": {},
   "outputs": [],
   "source": [
    "predictions = [int(i['probabilities'][1] > i['probabilities'][0]) for i in predict];"
   ]
  },
  {
   "cell_type": "code",
   "execution_count": null,
   "metadata": {
    "scrolled": false
   },
   "outputs": [],
   "source": [
    "%f predictions py> sum(pop()) tib.\n",
    "%f y py> sum(pop()) tib.\n",
    "%f y :> [:50] . cr\n"
   ]
  },
  {
   "cell_type": "code",
   "execution_count": null,
   "metadata": {},
   "outputs": [],
   "source": [
    "# 查看 AI 預測的結果，與人工 tag 比較。\n",
    "categories = [0,0,0,0]\n",
    "for i in range(y.shape[0]): \n",
    "    if int(predictions[i])==int(y[i]) and int(y[i])==0: categories[0]+=1; continue\n",
    "    if int(predictions[i])!=int(y[i]) and int(y[i])==1: categories[1]+=1; continue\n",
    "    if int(predictions[i])!=int(y[i]) and int(y[i])==0: categories[2]+=1; continue\n",
    "    if int(predictions[i])==int(y[i]) and int(y[i])==1: categories[3]+=1; continue\n",
    "%f categories ( 沒事的，漏掉的，多的，一致的 ) tib."
   ]
  },
  {
   "cell_type": "markdown",
   "metadata": {},
   "source": [
    "### 只用 Test dataset 來比對"
   ]
  },
  {
   "cell_type": "code",
   "execution_count": null,
   "metadata": {},
   "outputs": [],
   "source": [
    "# Make input function for prediction:\n",
    "#   shuffle=False -> do not randomize input data\n",
    "pred_input_fn = tf.estimator.inputs.numpy_input_fn(\n",
    "    x={\"x\": x_test},\n",
    "    y=y_test,\n",
    "    num_epochs=1,  # Just one epoch\n",
    "    shuffle=False, # Don't shuffle so we can compare to true labels later\n",
    "    )  # 參考 GitHub/tensorflow-workshop/examples/07_structured_data.ipynb\n"
   ]
  },
  {
   "cell_type": "code",
   "execution_count": null,
   "metadata": {},
   "outputs": [],
   "source": [
    "# 從 wh300/DNNClassifier_Predicting.ipynb 抄來的例子\n",
    "# Predict 整批 test input \n",
    "preds = classifier.predict(pred_input_fn)"
   ]
  },
  {
   "cell_type": "code",
   "execution_count": null,
   "metadata": {},
   "outputs": [],
   "source": [
    "predict = [i for i in preds];"
   ]
  },
  {
   "cell_type": "code",
   "execution_count": null,
   "metadata": {},
   "outputs": [],
   "source": [
    "predictions = [int(i['probabilities'][1] > i['probabilities'][0]) for i in predict];"
   ]
  },
  {
   "cell_type": "code",
   "execution_count": null,
   "metadata": {
    "scrolled": true
   },
   "outputs": [],
   "source": [
    "%f predictions py> sum(pop()) tib.\n",
    "%f y py> sum(pop()) tib.\n",
    "%f y :> [:50] . cr\n"
   ]
  },
  {
   "cell_type": "code",
   "execution_count": null,
   "metadata": {},
   "outputs": [],
   "source": [
    "# 查看 AI 預測的結果，與人工 tag 比較。\n",
    "categories = [0,0,0,0]\n",
    "for i in range(y_test.shape[0]): \n",
    "    if int(predictions[i])==int(y[i]) and int(y[i])==0: categories[0]+=1; continue\n",
    "    if int(predictions[i])!=int(y[i]) and int(y[i])==1: categories[1]+=1; continue\n",
    "    if int(predictions[i])!=int(y[i]) and int(y[i])==0: categories[2]+=1; continue\n",
    "    if int(predictions[i])==int(y[i]) and int(y[i])==1: categories[3]+=1; continue\n",
    "%f categories ( 沒事的，漏掉的，多的，一致的 ) tib."
   ]
  },
  {
   "cell_type": "code",
   "execution_count": null,
   "metadata": {},
   "outputs": [],
   "source": [
    "!start tensorboard --logdir=\"model/DNN\""
   ]
  },
  {
   "cell_type": "code",
   "execution_count": null,
   "metadata": {},
   "outputs": [],
   "source": []
  },
  {
   "cell_type": "code",
   "execution_count": null,
   "metadata": {},
   "outputs": [],
   "source": []
  },
  {
   "cell_type": "code",
   "execution_count": null,
   "metadata": {},
   "outputs": [],
   "source": []
  },
  {
   "cell_type": "code",
   "execution_count": null,
   "metadata": {},
   "outputs": [],
   "source": []
  },
  {
   "cell_type": "markdown",
   "metadata": {},
   "source": [
    "# 都搞懂了，接下來打包 000777.csv 試試看吧!\n",
    "\n",
    "這把預測「明天會不會漲停？」結果因為實際 4638天當中只有88天漲停，全部猜「不」就有 98.10％ 的 accuracy. 可能正是因為怎麼猜別的都沒有這個好。 DNN 全部猜「不會」。\n"
   ]
  },
  {
   "cell_type": "code",
   "execution_count": null,
   "metadata": {},
   "outputs": [],
   "source": [
    "%%js\n",
    "alert(\"要不要把 DNN_model directory 先殺掉？\")\n"
   ]
  },
  {
   "cell_type": "code",
   "execution_count": null,
   "metadata": {},
   "outputs": [],
   "source": [
    "import tensorflow as tf\n",
    "import numpy as np\n",
    "import pandas as pd\n",
    "import peforth as f\n",
    "from sklearn import cross_validation"
   ]
  },
  {
   "cell_type": "code",
   "execution_count": null,
   "metadata": {},
   "outputs": [],
   "source": [
    "%%f\n",
    "\\ Now we redefine the 'unknown' command that does nothing at default  \n",
    ": unknown ( token -- thing Y|N) // Try to find the unknown token in __main__\n",
    "  py> getattr(sys.modules['__main__'],pop(),\"Ûnknôwn\") \n",
    "  py> str(tos())==\"Ûnknôwn\" if drop false else true then ;\n",
    "  /// here after, when FORTH come accross an unknown token, instead of alerting \n",
    "  /// it try to find the token in python __main__ module name space.\n",
    ": path-to-find-modules ( <path> -- ) // Add path to sys.path so \"import module-name\" can find the module\n",
    "    CR word trim ( \"path\" ) py: sys.path.append(pop()) ;\n",
    "code \\ print(nexttoken('\\n')) end-code // Redefine \\ command to print the comment line \n"
   ]
  },
  {
   "cell_type": "code",
   "execution_count": null,
   "metadata": {},
   "outputs": [],
   "source": [
    "data = pd.read_csv('000777.csv',encoding='gbk',parse_dates=[0],index_col=0)\n",
    "\n",
    "# data frame 中帶有 None 的 rows 都剔除掉。 本來有 4752 rows 現在只剩 4639 \n",
    "# 用法: df.dropna(axis=0, how='any', thresh=None, subset=None, inplace=False)\n",
    "data = data.replace(to_replace='None', value=np.nan).dropna()  \n",
    "\n",
    "# pdb.set_trace() # data 本來是新的在上面\n",
    "data.sort_index(0,ascending=True,inplace=True) # 排序 sort 過後變成最舊的在上面\n",
    "\n",
    "# 上市第一天的資料不要，因為【漲跌幅】無效。\n",
    "data = data.query('index > \"1997-07-10\"')"
   ]
  },
  {
   "cell_type": "code",
   "execution_count": null,
   "metadata": {},
   "outputs": [],
   "source": [
    "# raw data has 20 years long, but here only analysis the last 150 days of a chosen day\n",
    "dayfeature=150\n",
    "dayforesee=5  # 問未來幾天如何如何，最後就要扣掉幾天，避免 out of bounds. 0 代表當天。\n",
    "featurenum=5*dayfeature  # 取五個有關係的欄位，特徵值。\n",
    "x=np.zeros((data.shape[0]-dayfeature-dayforesee,featurenum+1))\n",
    "y=np.zeros((data.shape[0]-dayfeature-dayforesee));"
   ]
  },
  {
   "cell_type": "code",
   "execution_count": null,
   "metadata": {},
   "outputs": [],
   "source": [
    "data.shape"
   ]
  },
  {
   "cell_type": "code",
   "execution_count": null,
   "metadata": {},
   "outputs": [],
   "source": [
    "# 重疊 shift 150 天的五個「行情數目」加上下一天的開盤 共 751 個「數目」當作 feature X \n",
    "\n",
    "for i in range(0,data.shape[0]-dayfeature-dayforesee):\n",
    "    x[i,0:featurenum]=np.array(data[i:i+dayfeature] \\\n",
    "          [[u'收盘价',u'最高价',u'最低价',u'开盘价',u'成交量']]).reshape((1,featurenum))\n",
    "    # x[i,featurenum]=data.ix[i+dayfeature][u'开盘价']  # ix deprecated\n",
    "    x[i,featurenum]=data.iloc[i+dayfeature][u'开盘价']"
   ]
  },
  {
   "cell_type": "code",
   "execution_count": null,
   "metadata": {},
   "outputs": [],
   "source": [
    "# 預測當天是否會「漲停」?\n",
    "\n",
    "# data.shape[0]-dayfeature 是 4489 同上 x, 所以這是在製作相對所有 x 的 y. x 是 (4488, 751)\n",
    "# dayfeature 是 150 \n",
    "# 直接看【涨跌幅】> 9.8 就算漲停板\n",
    "\n",
    "for i in range(0,data.shape[0]-dayfeature-dayforesee):\n",
    "    if float(data.iloc[i+dayfeature][u'涨跌幅'])>=9.8:\n",
    "        y[i]=1.0\n",
    "    else:\n",
    "        y[i]=0.0          "
   ]
  },
  {
   "cell_type": "code",
   "execution_count": null,
   "metadata": {},
   "outputs": [],
   "source": [
    "x_train, x_test, y_train, y_test = cross_validation.train_test_split(x, y, test_size = 0.2)"
   ]
  },
  {
   "cell_type": "code",
   "execution_count": null,
   "metadata": {},
   "outputs": [],
   "source": [
    "%f x_train :> shape tib.\n",
    "%f x_test :> shape tib.\n",
    "%f y_train :> shape tib.\n",
    "%f y_test :> shape tib.\n",
    "%f x_train :> shape[0] tib.\n",
    "    "
   ]
  },
  {
   "cell_type": "markdown",
   "metadata": {},
   "source": [
    "用 cross_validation 切分好 train-test feature & label 之後, 可望弄成 input_fn 要的形式"
   ]
  },
  {
   "cell_type": "code",
   "execution_count": null,
   "metadata": {},
   "outputs": [],
   "source": [
    "# 應該只有一個 feature 是個 shape = (751,) 的 array. 這怎麼表達?\n",
    "my_feature_columns = [tf.feature_column.numeric_column(\"x\", shape=[751,])]  \n",
    "my_feature_columns"
   ]
  },
  {
   "cell_type": "code",
   "execution_count": null,
   "metadata": {
    "scrolled": true
   },
   "outputs": [],
   "source": [
    "# Build 2 hidden layer DNN with 10, 10 units respectively.\n",
    "classifier = tf.estimator.DNNClassifier(\n",
    "    feature_columns=my_feature_columns,\n",
    "    # Two hidden layers of 10 nodes each.\n",
    "    hidden_units=[256, 128],\n",
    "    # The model must choose between 3 classes.\n",
    "    n_classes=2,\n",
    "    dropout=0.2,\n",
    "    model_dir=\"DNN_model\"\n",
    "    )"
   ]
  },
  {
   "cell_type": "markdown",
   "metadata": {},
   "source": [
    "以上 classifier 弄出來了，還是要面對 input_function 怎麼弄的問題。Lambda 太難懂了，從 wh300 或哪裡去抄吧。\n",
    "看到的都是 tf.estimator.inputs.pandas_input_fn 我曾查出有 'numpy_input_fn' \n",
    "\n",
    "    c:\\Users\\hcche\\Documents\\GitHub\\twstock\\mnist_estimator.ipynb \n",
    "    # Specify feature\n",
    "    feature_columns = [tf.feature_column.numeric_column(\"x\", shape=[28, 28])]\n",
    "    幹！ 回想起來了，用這個例子可以簡化 150天 的資料製作方式\n",
    "\n",
    "Estimator 的 DNNClassifier 怎麼用? 上面這個 mnist 也有似乎更進一步的發揮\n",
    "\n",
    "    # Build 2 layer DNN classifier\n",
    "    classifier = tf.estimator.DNNClassifier(\n",
    "        feature_columns=feature_columns,\n",
    "        hidden_units=[256, 32],\n",
    "        optimizer=tf.train.AdamOptimizer(1e-4),\n",
    "        n_classes=10,\n",
    "        dropout=0.1,\n",
    "        model_dir=\"./tmp/mnist_model\"\n",
    "        )\n",
    "    "
   ]
  },
  {
   "cell_type": "code",
   "execution_count": null,
   "metadata": {},
   "outputs": [],
   "source": [
    "# Define the training inputs 從 mnist 抄過來改的\n",
    "train_input_fn = tf.estimator.inputs.numpy_input_fn(\n",
    "    x={\"x\": x_train},\n",
    "    y=y_train,\n",
    "    num_epochs=None,\n",
    "    batch_size=x_train.shape[0],  # 漲停很少，故 batch 要用全部天數，否則它全部猜「不會」\n",
    "    shuffle=True\n",
    "    )"
   ]
  },
  {
   "cell_type": "code",
   "execution_count": null,
   "metadata": {},
   "outputs": [],
   "source": [
    "classifier.train(input_fn=train_input_fn, steps=1000);"
   ]
  },
  {
   "cell_type": "code",
   "execution_count": null,
   "metadata": {},
   "outputs": [],
   "source": [
    "# Define the test inputs  從 mnist 抄過來改的\n",
    "test_input_fn = tf.estimator.inputs.numpy_input_fn(\n",
    "    x={\"x\": x_test},\n",
    "    y=y_test,\n",
    "    num_epochs=1,\n",
    "    shuffle=False\n",
    "    )"
   ]
  },
  {
   "cell_type": "code",
   "execution_count": null,
   "metadata": {},
   "outputs": [],
   "source": [
    "# Evaluate accuracy\n",
    "accuracy_score = classifier.evaluate(input_fn=test_input_fn)[\"accuracy\"]\n",
    "print(\"\\nTest Accuracy: {0:f}%\\n\".format(accuracy_score*100))\n",
    "\n",
    "# End of \"mnist_estimator.py\"\n"
   ]
  },
  {
   "cell_type": "markdown",
   "metadata": {},
   "source": [
    "讚！ 接下來怎麼看 predict 的結果 . . . 參考 wh300 吧\n"
   ]
  },
  {
   "cell_type": "code",
   "execution_count": null,
   "metadata": {},
   "outputs": [],
   "source": [
    "# Make input function for prediction:\n",
    "#   shuffle=False -> do not randomize input data\n",
    "pred_input_fn = tf.estimator.inputs.numpy_input_fn(\n",
    "    x={\"x\": x},\n",
    "    y=y,\n",
    "    num_epochs=1,  # Just one epoch\n",
    "    shuffle=False, # Don't shuffle so we can compare to true labels later\n",
    "    )  # 參考 GitHub/tensorflow-workshop/examples/07_structured_data.ipynb\n"
   ]
  },
  {
   "cell_type": "code",
   "execution_count": null,
   "metadata": {},
   "outputs": [],
   "source": [
    "# 從 wh300/DNNClassifier_Predicting.ipynb 抄來的例子\n",
    "# Predict 整批 test input \n",
    "preds = classifier.predict(pred_input_fn)"
   ]
  },
  {
   "cell_type": "code",
   "execution_count": null,
   "metadata": {},
   "outputs": [],
   "source": [
    "predictions = [int(i['probabilities'][1] > i['probabilities'][0]) for i in preds];"
   ]
  },
  {
   "cell_type": "code",
   "execution_count": null,
   "metadata": {},
   "outputs": [],
   "source": [
    "%f predictions py> sum(pop()) tib.\n",
    "%f y py> sum(pop()) tib.\n"
   ]
  },
  {
   "cell_type": "code",
   "execution_count": null,
   "metadata": {},
   "outputs": [],
   "source": []
  },
  {
   "cell_type": "code",
   "execution_count": null,
   "metadata": {},
   "outputs": [],
   "source": []
  },
  {
   "cell_type": "code",
   "execution_count": null,
   "metadata": {},
   "outputs": [],
   "source": []
  },
  {
   "cell_type": "code",
   "execution_count": null,
   "metadata": {},
   "outputs": [],
   "source": []
  },
  {
   "cell_type": "code",
   "execution_count": null,
   "metadata": {},
   "outputs": [],
   "source": []
  },
  {
   "cell_type": "code",
   "execution_count": null,
   "metadata": {},
   "outputs": [],
   "source": []
  },
  {
   "cell_type": "markdown",
   "metadata": {},
   "source": [
    "# 我在 Tensorflow 官網的教學網頁上找到了用 Iris 當例題的 estimator tutorial \n",
    "\n",
    "https://www.tensorflow.org/versions/master/get_started/premade_estimators (also on my Ynote \"Get Started with Estimators _TensorFlow_\") 有正式、詳細的介紹。\n",
    "這篇文章鼓勵人用 Estimator API 跟 Dataset API。本文研讀、實驗這篇文章。\n",
    "文章引用的 GitHub resource 我已經 clone 下來了在 T550 `c:\\Users\\hcche\\Documents\\GitHub\\models`  \n",
    "\n",
    "重點是，直接用 pandas data-frame 來當作 feature - label 餵給 input function 這樣更自然，免去搞 150 天行情資料的麻煩。\n"
   ]
  },
  {
   "cell_type": "code",
   "execution_count": null,
   "metadata": {},
   "outputs": [],
   "source": [
    "import tensorflow as tf"
   ]
  },
  {
   "cell_type": "code",
   "execution_count": null,
   "metadata": {},
   "outputs": [],
   "source": [
    "tf.__version__"
   ]
  },
  {
   "cell_type": "code",
   "execution_count": null,
   "metadata": {},
   "outputs": [],
   "source": [
    "from sklearn import datasets\n",
    "import numpy as np\n",
    "import pandas as pd"
   ]
  },
  {
   "cell_type": "code",
   "execution_count": null,
   "metadata": {},
   "outputs": [],
   "source": [
    "import peforth"
   ]
  },
  {
   "cell_type": "code",
   "execution_count": null,
   "metadata": {},
   "outputs": [],
   "source": [
    "%%f\n",
    "\\ Now we redefine the 'unknown' command that does nothing at default  \n",
    ": unknown ( token -- thing Y|N) // Try to find the unknown token in __main__\n",
    "  py> getattr(sys.modules['__main__'],pop(),\"Ûnknôwn\") \n",
    "  py> str(tos())==\"Ûnknôwn\" if drop false else true then ;\n",
    "  /// here after, when FORTH come accross an unknown token, instead of alerting \n",
    "  /// it try to find the token in python __main__ module name space.\n",
    "\n",
    ": path-to-find-modules ( <path> -- ) // Add path to sys.path so \"import module-name\" can find the module\n",
    "    CR word trim ( \"path\" ) py: sys.path.append(pop()) ;\n",
    "\n",
    "\\ set path for 'import iris_data'\n",
    "path-to-find-modules c:\\Users\\hcche\\Documents\\GitHub\\models\\samples\\core\\get_started\n",
    "\n",
    "code \\ print(nexttoken('\\n')) end-code // Redefine \\ command to print the comment line \n"
   ]
  },
  {
   "cell_type": "code",
   "execution_count": null,
   "metadata": {},
   "outputs": [],
   "source": [
    "iris = datasets.load_iris()"
   ]
  },
  {
   "cell_type": "code",
   "execution_count": null,
   "metadata": {},
   "outputs": [],
   "source": [
    "iris.feature_names"
   ]
  },
  {
   "cell_type": "code",
   "execution_count": null,
   "metadata": {},
   "outputs": [],
   "source": [
    "iris.data[:4]"
   ]
  },
  {
   "cell_type": "code",
   "execution_count": null,
   "metadata": {},
   "outputs": [],
   "source": [
    "iris.data.shape"
   ]
  },
  {
   "cell_type": "code",
   "execution_count": null,
   "metadata": {},
   "outputs": [],
   "source": [
    "# df = pd.DataFrame(np.array(irisX).reshape(-1,4), columns = iris.feature_names)    \n",
    "x = pd.DataFrame(iris.data, columns = iris.feature_names)    \n",
    "x[:4]"
   ]
  },
  {
   "cell_type": "code",
   "execution_count": null,
   "metadata": {},
   "outputs": [],
   "source": [
    "y = pd.DataFrame(iris.target, columns = [\"target\"])    \n",
    "y[48:52]"
   ]
  },
  {
   "cell_type": "code",
   "execution_count": null,
   "metadata": {},
   "outputs": [],
   "source": [
    "# https://www.tensorflow.org/api_docs/python/tf/estimator/inputs/pandas_input_fn\n",
    "\n",
    "tf.estimator.inputs.pandas_input_fn(\n",
    "    x,\n",
    "    y,\n",
    "    batch_size=64,\n",
    "    num_epochs=5,\n",
    "    shuffle=False,\n",
    "    queue_capacity=None,\n",
    "    num_threads=1,\n",
    "    target_column='target'\n",
    ")"
   ]
  },
  {
   "cell_type": "markdown",
   "metadata": {},
   "source": [
    "# 照 Tutorial 執行 -- 一把就成功！\n",
    "\n",
    "直接把本 notebook 建個 hard link 到 c:\\Users\\hcche\\Documents\\GitHub\\models\\samples\\core\\get_started 去執行...\n"
   ]
  },
  {
   "cell_type": "code",
   "execution_count": null,
   "metadata": {},
   "outputs": [],
   "source": [
    "%run premade_estimator.py"
   ]
  },
  {
   "cell_type": "markdown",
   "metadata": {},
   "source": [
    "## 開始照教材研讀\n",
    "    \n",
    "premade_estimator.py iris_data.py 都抓過來，他本來都放在 main() 內執行，不利 study 今予拆開，分段執行亦可，如下："
   ]
  },
  {
   "cell_type": "code",
   "execution_count": null,
   "metadata": {},
   "outputs": [],
   "source": [
    "#  Copyright 2016 The TensorFlow Authors. All Rights Reserved.\n",
    "#\n",
    "#  Licensed under the Apache License, Version 2.0 (the \"License\");\n",
    "#  you may not use this file except in compliance with the License.\n",
    "#  You may obtain a copy of the License at\n",
    "#\n",
    "#   http://www.apache.org/licenses/LICENSE-2.0\n",
    "#\n",
    "#  Unless required by applicable law or agreed to in writing, software\n",
    "#  distributed under the License is distributed on an \"AS IS\" BASIS,\n",
    "#  WITHOUT WARRANTIES OR CONDITIONS OF ANY KIND, either express or implied.\n",
    "#  See the License for the specific language governing permissions and\n",
    "#  limitations under the License.\n",
    "\"\"\"An Example of a DNNClassifier for the Iris dataset.\"\"\"\n",
    "from __future__ import absolute_import\n",
    "from __future__ import division\n",
    "from __future__ import print_function\n",
    "\n",
    "import argparse\n",
    "import tensorflow as tf\n",
    "\n",
    "import iris_data  # iris_data.py 在本目錄下 GitHub\\models\\samples\\core\\get_started\\iris_data.py "
   ]
  },
  {
   "cell_type": "markdown",
   "metadata": {},
   "source": [
    "這 argparse module 很常見 DeepSpeech 就有，這裡用不著吧！"
   ]
  },
  {
   "cell_type": "code",
   "execution_count": null,
   "metadata": {},
   "outputs": [],
   "source": [
    "parser = argparse.ArgumentParser()\n",
    "parser.add_argument('--batch_size', default=100, type=int, help='batch size')\n",
    "parser.add_argument('--train_steps', default=1000, type=int,\n",
    "                    help='number of training steps')"
   ]
  },
  {
   "cell_type": "code",
   "execution_count": null,
   "metadata": {
    "scrolled": true
   },
   "outputs": [],
   "source": [
    "# 不能在 jupyter notebook 下直接跑，因為 argv 不如預期。\n",
    "from IPython.display import display,Image;display(Image('error1.jpg', width=700))"
   ]
  },
  {
   "cell_type": "raw",
   "metadata": {},
   "source": [
    "研究一下 parser (argparse module) 怎麼回事兒 <== 只能在 python 用，ipython & jupyter notebook 都不行\n",
    "http://localhost:8888/notebooks/Documents/GitHub/models/samples/core/get_started/My%20estimator%20to%20predict%20iris.ipynb\n",
    "\n",
    "[x] 這是在 Jupyter Notebook 下記錄到的\n",
    "    OK Argv . cr\n",
    "    ['c:\\\\users\\\\hcche\\\\appdata\\\\local\\\\programs\\\\python\\\\python36\\\\lib\\\\site-packages\\\\ipykernel_launcher.py', '-f', 'C:\\\\Users\\\\hcche\\\\AppData\\\\Roaming\\\\jupyter\\\\runtime\\\\kernel-d21c0b87-4db1-432d-82ca-cd398f2dd5ad.json']\n",
    "    OK \n",
    "    看起來有三個 args -- .py script 本身, -f , 還有一個 .json, 後兩個是 jupyter notebook 加的，難怪\n",
    "    要出問題。\n",
    "\n",
    "[x] 改用 ipython 直接跑 premade_estimator.py 看看 .... 成功。 \n",
    "    --> 那他看到的 Argv 是怎樣? -->['c:\\\\Users\\\\hcche\\\\Documents\\\\GitHub\\\\models\\\\samples\\\\core\\\\get_started\\\\premade_estimator.py']\n",
    "        等於是只有 argv[0] 的 .py script 本身一個 args 那就沒問題了。\n",
    "\n",
    "[x] 我猜測了一下，矇對了，這樣執行：\n",
    "    ipython premade_estimator.py --batch_size=1234 --train_steps=5678\n",
    "    搗出了一些 warning 警告說 args 可能有問題，但總之得到的 args 是：\n",
    "    argv 是這樣 \n",
    "    ['c:\\\\Users\\\\hcche\\\\Documents\\\\GitHub\\\\models\\\\samples\\\\core\\\\get_started\\\\premade_estimator.py']\n",
    "    args 是這樣\n",
    "    Namespace(batch_size=100, train_steps=1000)\n",
    "[x] 確定不能用 ipython, 用 python 以下皆可：\n",
    "    python premade_estimator.py --batch_size=64 --train_steps=1000\n",
    "    python premade_estimator.py --batch_size 64 --train_steps 1000\n",
    "\n",
    "反正我現在知道怎麼讓 jupyter notebook 能跑了! 改這樣即可： \n",
    "    args = parser.parse_args(\"\")  # 用 default 值\n",
    "    args = parser.parse_args([\"--batch_size=100\", \"--train_steps=1000\"])  # 代替 command line "
   ]
  },
  {
   "cell_type": "markdown",
   "metadata": {},
   "source": [
    "#### Command Line Arguments 要用模擬的\n",
    "Module argparse 只能在 python command line 跑"
   ]
  },
  {
   "cell_type": "code",
   "execution_count": null,
   "metadata": {},
   "outputs": [],
   "source": [
    "%f \\ [x] 沒有指定時，自動取 default 值，真不知道這哪來的？看到了，從 parser 那邊 code 裡給的。\n",
    "args = parser.parse_args([\"--batch_size=100\", \"--train_steps=1000\"])\n",
    "args"
   ]
  },
  {
   "cell_type": "markdown",
   "metadata": {},
   "source": [
    "#### 研究  (train_x, train_y), (test_x, test_y) = iris_data.load_data()\n",
    "\n",
    "看出來了 iris_data.py 是把 150 筆資料切成 120 : 30 for training and testing respectively.\n",
    "這是個壞消息，他沒有像 sklearn 的自動切的那啥 function. "
   ]
  },
  {
   "cell_type": "code",
   "execution_count": null,
   "metadata": {},
   "outputs": [],
   "source": [
    " (train_x, train_y), (test_x, test_y) = iris_data.load_data()"
   ]
  },
  {
   "cell_type": "code",
   "execution_count": null,
   "metadata": {},
   "outputs": [],
   "source": [
    "%f train_x type . cr\n",
    "train_x"
   ]
  },
  {
   "cell_type": "code",
   "execution_count": null,
   "metadata": {},
   "outputs": [],
   "source": [
    "%f train_y type . cr\n",
    "train_y"
   ]
  },
  {
   "cell_type": "code",
   "execution_count": null,
   "metadata": {},
   "outputs": [],
   "source": [
    "%f test_x type . cr\n",
    "test_x"
   ]
  },
  {
   "cell_type": "code",
   "execution_count": null,
   "metadata": {},
   "outputs": [],
   "source": [
    "%f test_y type . cr\n",
    "test_y"
   ]
  },
  {
   "cell_type": "code",
   "execution_count": null,
   "metadata": {},
   "outputs": [],
   "source": [
    "%f \\ [ ] 這是 feature columns, 我晚點可以嘗試把它弄成光一個 shape 為 (4,) 的單一 feature \n",
    "for key in train_x.keys():\n",
    "    print(key)"
   ]
  },
  {
   "cell_type": "code",
   "execution_count": null,
   "metadata": {},
   "outputs": [],
   "source": [
    "%f \\ [ ] 這是 feature columns, 我晚點可以嘗試把它弄成光一個 shape 為 (4,) 的單一 feature \n",
    "my_feature_columns = []\n",
    "for key in train_x.keys():\n",
    "    my_feature_columns.append(tf.feature_column.numeric_column(key=key))\n",
    "my_feature_columns    "
   ]
  },
  {
   "cell_type": "code",
   "execution_count": null,
   "metadata": {
    "scrolled": true
   },
   "outputs": [],
   "source": [
    "%f \\ 從 main 裡拆分出來，方便 tracing. 可看出若無指定 model directory 自動放在\n",
    "%f \\     AppData\\Local\\Temp\\tmpijrg8mkm <-- 每次都不一樣，這樣好嗎？\n",
    "%f \\ 以及本 classifier 的種種細節\n",
    "%f \\ \n",
    "\n",
    "# Build 2 hidden layer DNN with 10, 10 units respectively.\n",
    "classifier = tf.estimator.DNNClassifier(\n",
    "    feature_columns=my_feature_columns,\n",
    "    # Two hidden layers of 10 nodes each.\n",
    "    hidden_units=[10, 10],\n",
    "    # The model must choose between 3 classes.\n",
    "    n_classes=3)"
   ]
  },
  {
   "cell_type": "code",
   "execution_count": null,
   "metadata": {},
   "outputs": [],
   "source": [
    "%f \\ 複習一下 lambda --> \n",
    "%f \\ lambda 是個 function, 產生 key(i) 取 x 的第 i 個 element。用於 sorted() 時指定哪個當 key \n",
    "s = [('a', 3), ('b', 2), ('c', 1)]\n",
    "key = lambda x:x[1]\n",
    "print(sorted(s, key=key))\n",
    "%f \\ 單獨使用時，看起來不太一樣，其實做的是一樣的事情。\n",
    "%f key :> ([('a',3),('b',2),('c',1),('d',4)]) tib.\n",
    "%f key tib.\n",
    "%f key .source\n",
    "%f \\ 當沒有給 lambda argument 時，是怎樣？\n",
    "x = lambda:s\n",
    "%f x tib. \\ 直接傳回 : 之後的東西(執行後)的傳回值\n",
    "%f x type tib.\n",
    "%f \\ 查看 x 的 source code \n",
    "%f x .source\n",
    "%f x :> () tib.\n",
    "\n",
    "%f \\ 所以，input_fn = lambda:iris_data.train_input_fn(train_x, train_y,args.batch_size)\n",
    "%f \\ 當中的 iris_data.train_input_fn() 是傳回一個 function 但是該 function 的 argument 是活的，\n",
    "%f \\ 要延後到最後一秒鐘才確定，因此要用 lambda 或單純的 function 包一層用來指定 arguments。\n",
    "    "
   ]
  },
  {
   "cell_type": "code",
   "execution_count": null,
   "metadata": {
    "scrolled": false
   },
   "outputs": [],
   "source": [
    "%f \\ 這就開始訓練了 . . .  \n",
    "%f \\ \n",
    "\n",
    "# Train the Model.\n",
    "classifier.train(\n",
    "    input_fn=lambda:iris_data.train_input_fn(train_x, train_y,\n",
    "                                             args.batch_size),\n",
    "    steps=args.train_steps)"
   ]
  },
  {
   "cell_type": "markdown",
   "metadata": {},
   "source": [
    "這時候的 classifier 已經受過訓練了! 可以接受考核了"
   ]
  },
  {
   "cell_type": "code",
   "execution_count": null,
   "metadata": {},
   "outputs": [],
   "source": [
    "# Evaluate the model.\n",
    "eval_result = classifier.evaluate(\n",
    "    input_fn=lambda:iris_data.eval_input_fn(test_x, test_y,\n",
    "                                            args.batch_size))"
   ]
  },
  {
   "cell_type": "code",
   "execution_count": null,
   "metadata": {},
   "outputs": [],
   "source": [
    "print('\\nTest set accuracy: {accuracy:0.3f}\\n'.format(**eval_result))"
   ]
  },
  {
   "cell_type": "code",
   "execution_count": null,
   "metadata": {},
   "outputs": [],
   "source": [
    "%f \\ 複習一下 **eval_result 啥意思？\n",
    "%f eval_result . cr\n",
    "%f eval_result :> ['accuracy'] . cr\n",
    "{**eval_result}"
   ]
  },
  {
   "cell_type": "code",
   "execution_count": null,
   "metadata": {},
   "outputs": [],
   "source": [
    "rslt = {'accuracy': 0.96666664, 'average_loss': 0.056607112, 'loss': 1.6982133, 'global_step': 1000}\n",
    "print('Test set accuracy: {loss:0.3f}'.format(**rslt))\n",
    "print('Test set accuracy: {:0.3f}'.format(r['accuracy']))\n",
    "print('Test set accuracy: {a:0.3f}'.format(**{'a': 11,'b': 22}))\n",
    "print('Test set accuracy: {b:0.3f}'.format(**{'a': 33,'b': 44}))\n",
    "%f \\ 最後一式拆解不成功，拆開來的寫法也沒意義，要嘛直接寫就好了。\n",
    "%f \\ print('Test set accuracy: {b:0.3f}'.format(({'a': 55},{'b': 66})))"
   ]
  },
  {
   "cell_type": "code",
   "execution_count": null,
   "metadata": {},
   "outputs": [],
   "source": [
    "# 這一段的意思是, 準備了 3 或 4 組資料 predict_x 分別的正確答案如 expected 所列\n",
    "# Generate predictions from the model\n",
    "expected = ['Setosa', 'Versicolor', 'Virginica','Versicolor']\n",
    "predict_x = {\n",
    "    'SepalLength': [5.1, 5.9, 6.9,6.2],\n",
    "    'SepalWidth': [3.3, 3.0, 3.1,2.9],\n",
    "    'PetalLength': [1.7, 4.2, 5.4,4.3],\n",
    "    'PetalWidth': [0.5, 1.5, 2.1,1.3],\n",
    "}\n",
    "\n",
    "[(i,j) for i,j in zip(predict_x,expected)]\n",
    "[i for i in zip(predict_x,expected)]\n"
   ]
  },
  {
   "cell_type": "code",
   "execution_count": null,
   "metadata": {},
   "outputs": [],
   "source": [
    "predictions = classifier.predict(\n",
    "    input_fn=lambda:iris_data.eval_input_fn(predict_x,\n",
    "                                            labels=None,\n",
    "                                            batch_size=args.batch_size))"
   ]
  },
  {
   "cell_type": "code",
   "execution_count": null,
   "metadata": {},
   "outputs": [],
   "source": [
    "# 這樣寫也可以\n",
    "predictions = classifier.predict(\n",
    "    lambda:iris_data.eval_input_fn(predict_x,\n",
    "                                            labels=None,\n",
    "                                            batch_size=args.batch_size))"
   ]
  },
  {
   "cell_type": "code",
   "execution_count": null,
   "metadata": {},
   "outputs": [],
   "source": [
    "%f predictions dir . cr"
   ]
  },
  {
   "cell_type": "code",
   "execution_count": null,
   "metadata": {},
   "outputs": [],
   "source": [
    "%f \\ 以上 predictions 瞬間就取得了\n",
    "%f predictions tib.\n",
    "%f \\ 這 'generator' 用過就沒了，要再看一遍就得重新跑一次 classifier.predict()\n",
    "pred = [i for i in predictions]\n",
    "pred"
   ]
  },
  {
   "cell_type": "code",
   "execution_count": null,
   "metadata": {},
   "outputs": [],
   "source": [
    "template = ('\\nPrediction is \"{}\" ({:.1f}%), expected \"{}\"')"
   ]
  },
  {
   "cell_type": "code",
   "execution_count": null,
   "metadata": {},
   "outputs": [],
   "source": [
    "for pred_dict, expec in zip(predictions, expected):\n",
    "    class_id = pred_dict['class_ids'][0]\n",
    "    probability = pred_dict['probabilities'][class_id]\n",
    "\n",
    "    print(template.format(iris_data.SPECIES[class_id],\n",
    "                          100 * probability, expec))"
   ]
  },
  {
   "cell_type": "code",
   "execution_count": null,
   "metadata": {},
   "outputs": [],
   "source": [
    "zip?\n",
    "%f \\ zip() 傳回 iterator 像拉拉鍊一樣，所有第一個一組、所有第二個一組、如此以往到哪個先結束為止\n",
    "z = zip((1,2,3,4),(11,22,33),{'aa':1,'bb':2})\n",
    "%f z type tib.\n",
    "z1 = [i for i in z]\n",
    "z2 = [i for i in z]\n",
    "%f z1 tib.\n",
    "%f z2 tib."
   ]
  },
  {
   "cell_type": "code",
   "execution_count": null,
   "metadata": {
    "scrolled": true
   },
   "outputs": [],
   "source": [
    "[(pred_dict, expec) for pred_dict, expec in zip(pred, expected)]"
   ]
  },
  {
   "cell_type": "markdown",
   "metadata": {},
   "source": [
    "所以賣弄這個方法時 pred （測試資料）的個數與 expected （標準結果）就要吻合才有意思。以下簡單就是 prediction 與標準答案的比對列出來看。"
   ]
  },
  {
   "cell_type": "code",
   "execution_count": null,
   "metadata": {
    "scrolled": true
   },
   "outputs": [],
   "source": [
    "for pred_dict, expec in zip(pred, expected):\n",
    "    class_id = pred_dict['class_ids'][0]\n",
    "    probability = pred_dict['probabilities'][class_id]\n",
    "\n",
    "    print(template.format(iris_data.SPECIES[class_id],\n",
    "                          100 * probability, expec))"
   ]
  },
  {
   "cell_type": "markdown",
   "metadata": {},
   "source": [
    "# 以下是原本的教學程式\n",
    "\n",
    "### premade_estimator.py\n",
    "c:\\Users\\hcche\\Documents\\GitHub\\models\\samples\\core\\get_started\\premade_estimator.py "
   ]
  },
  {
   "cell_type": "code",
   "execution_count": null,
   "metadata": {},
   "outputs": [],
   "source": [
    "def main(argv):\n",
    "    args = parser.parse_args(\"\")  # default is ([\"--batch_size=100\", \"--train_steps=1000\"])\n",
    "    # Fetch the data\n",
    "    (train_x, train_y), (test_x, test_y) = iris_data.load_data()\n",
    "\n",
    "    # Feature columns describe how to use the input.\n",
    "    my_feature_columns = []\n",
    "    for key in train_x.keys():\n",
    "        my_feature_columns.append(tf.feature_column.numeric_column(key=key))\n",
    "\n",
    "    # Build 2 hidden layer DNN with 10, 10 units respectively.\n",
    "    classifier = tf.estimator.DNNClassifier(\n",
    "        feature_columns=my_feature_columns,\n",
    "        # Two hidden layers of 10 nodes each.\n",
    "        hidden_units=[10, 10],\n",
    "        # The model must choose between 3 classes.\n",
    "        n_classes=3)\n",
    "\n",
    "    # Train the Model.\n",
    "    classifier.train(\n",
    "        input_fn=lambda:iris_data.train_input_fn(train_x, train_y,\n",
    "                                                 args.batch_size),\n",
    "        steps=args.train_steps)\n",
    "\n",
    "    # Evaluate the model.\n",
    "    eval_result = classifier.evaluate(\n",
    "        input_fn=lambda:iris_data.eval_input_fn(test_x, test_y,\n",
    "                                                args.batch_size))\n",
    "\n",
    "    print('\\nTest set accuracy: {accuracy:0.3f}\\n'.format(**eval_result))\n",
    "\n",
    "    # Generate predictions from the model\n",
    "    expected = ['Setosa', 'Versicolor', 'Virginica']\n",
    "    predict_x = {\n",
    "        'SepalLength': [5.1, 5.9, 6.9],\n",
    "        'SepalWidth': [3.3, 3.0, 3.1],\n",
    "        'PetalLength': [1.7, 4.2, 5.4],\n",
    "        'PetalWidth': [0.5, 1.5, 2.1],\n",
    "    }\n",
    "\n",
    "    predictions = classifier.predict(\n",
    "        input_fn=lambda:iris_data.eval_input_fn(predict_x,\n",
    "                                                labels=None,\n",
    "                                                batch_size=args.batch_size))\n",
    "\n",
    "    template = ('\\nPrediction is \"{}\" ({:.1f}%), expected \"{}\"')\n",
    "\n",
    "    for pred_dict, expec in zip(predictions, expected):\n",
    "        class_id = pred_dict['class_ids'][0]\n",
    "        probability = pred_dict['probabilities'][class_id]\n",
    "\n",
    "        print(template.format(iris_data.SPECIES[class_id],\n",
    "                              100 * probability, expec))\n",
    "\n",
    "\n",
    "if __name__ == '__main__':\n",
    "    tf.logging.set_verbosity(tf.logging.INFO)\n",
    "    tf.app.run(main)"
   ]
  },
  {
   "cell_type": "markdown",
   "metadata": {},
   "source": [
    "### iris_data.py\n",
    "c:\\Users\\hcche\\Documents\\GitHub\\models\\samples\\core\\get_started\\iris_data.py"
   ]
  },
  {
   "cell_type": "code",
   "execution_count": null,
   "metadata": {},
   "outputs": [],
   "source": [
    "import pandas as pd\n",
    "import tensorflow as tf\n",
    "\n",
    "TRAIN_URL = \"http://download.tensorflow.org/data/iris_training.csv\"\n",
    "TEST_URL = \"http://download.tensorflow.org/data/iris_test.csv\"\n",
    "\n",
    "CSV_COLUMN_NAMES = ['SepalLength', 'SepalWidth',\n",
    "                    'PetalLength', 'PetalWidth', 'Species']\n",
    "SPECIES = ['Setosa', 'Versicolor', 'Virginica']\n",
    "\n",
    "def maybe_download():\n",
    "    train_path = tf.keras.utils.get_file(TRAIN_URL.split('/')[-1], TRAIN_URL)\n",
    "    test_path = tf.keras.utils.get_file(TEST_URL.split('/')[-1], TEST_URL)\n",
    "\n",
    "    return train_path, test_path\n",
    "\n",
    "# 這個有用到\n",
    "def load_data(y_name='Species'):\n",
    "    \"\"\"Returns the iris dataset as (train_x, train_y), (test_x, test_y).\"\"\"\n",
    "    train_path, test_path = maybe_download()\n",
    "\n",
    "    train = pd.read_csv(train_path, names=CSV_COLUMN_NAMES, header=0)\n",
    "    train_x, train_y = train, train.pop(y_name)\n",
    "\n",
    "    test = pd.read_csv(test_path, names=CSV_COLUMN_NAMES, header=0)\n",
    "    test_x, test_y = test, test.pop(y_name)\n",
    "\n",
    "    return (train_x, train_y), (test_x, test_y)\n",
    "\n",
    "# 這個有用到\n",
    "def train_input_fn(features, labels, batch_size):\n",
    "    \"\"\"An input function for training\"\"\"\n",
    "    # Convert the inputs to a Dataset.\n",
    "    dataset = tf.data.Dataset.from_tensor_slices((dict(features), labels))\n",
    "\n",
    "    # Shuffle, repeat, and batch the examples.\n",
    "    dataset = dataset.shuffle(1000).repeat().batch(batch_size)\n",
    "\n",
    "    # Return the dataset.\n",
    "    return dataset\n",
    "\n",
    "\n",
    "# 這個有用到\n",
    "def eval_input_fn(features, labels, batch_size):\n",
    "    \"\"\"An input function for evaluation or prediction\"\"\"\n",
    "    features=dict(features)\n",
    "    if labels is None:\n",
    "        # No labels, use only features.\n",
    "        inputs = features\n",
    "    else:\n",
    "        inputs = (features, labels)\n",
    "\n",
    "    # Convert the inputs to a Dataset.\n",
    "    dataset = tf.data.Dataset.from_tensor_slices(inputs)\n",
    "\n",
    "    # Batch the examples\n",
    "    assert batch_size is not None, \"batch_size must not be None\"\n",
    "    dataset = dataset.batch(batch_size)\n",
    "\n",
    "    # Return the dataset.\n",
    "    return dataset\n",
    "\n",
    "\n",
    "# The remainder of this file contains a simple example of a csv parser,\n",
    "#     implemented using the `Dataset` class.\n",
    "\n",
    "# `tf.parse_csv` sets the types of the outputs to match the examples given in\n",
    "#     the `record_defaults` argument.\n",
    "CSV_TYPES = [[0.0], [0.0], [0.0], [0.0], [0]]\n",
    "\n",
    "def _parse_line(line):\n",
    "    # Decode the line into its fields\n",
    "    fields = tf.decode_csv(line, record_defaults=CSV_TYPES)\n",
    "\n",
    "    # Pack the result into a dictionary\n",
    "    features = dict(zip(CSV_COLUMN_NAMES, fields))\n",
    "\n",
    "    # Separate the label from the features\n",
    "    label = features.pop('Species')\n",
    "\n",
    "    return features, label\n",
    "\n",
    "\n",
    "def csv_input_fn(csv_path, batch_size):\n",
    "    # Create a dataset containing the text lines.\n",
    "    dataset = tf.data.TextLineDataset(csv_path).skip(1)\n",
    "\n",
    "    # Parse each line.\n",
    "    dataset = dataset.map(_parse_line)\n",
    "\n",
    "    # Shuffle, repeat, and batch the examples.\n",
    "    dataset = dataset.shuffle(1000).repeat().batch(batch_size)\n",
    "\n",
    "    # Return the dataset.\n",
    "    return dataset\n"
   ]
  },
  {
   "cell_type": "markdown",
   "metadata": {},
   "source": [
    "    ----- play ground -----"
   ]
  },
  {
   "cell_type": "code",
   "execution_count": null,
   "metadata": {},
   "outputs": [],
   "source": [
    "# This cell creates %%csv cell magic. See http://ipython-books.github.io/14-creating-an-ipython-extension-with-custom-magic-commands\n",
    "import pandas as pd\n",
    "from io import StringIO\n",
    "from IPython.core.magic import (register_cell_magic)\n",
    "@register_cell_magic\n",
    "def csv(line, cell):\n",
    "    return pd.read_csv(StringIO(cell), sep=line, engine='python')"
   ]
  },
  {
   "cell_type": "code",
   "execution_count": null,
   "metadata": {},
   "outputs": [],
   "source": [
    "%%csv \\s+\n",
    "a b c\n",
    "1 2 3\n",
    "4 5 6\n",
    "7 8 9"
   ]
  },
  {
   "cell_type": "code",
   "execution_count": null,
   "metadata": {},
   "outputs": [],
   "source": [
    "%f words module\n",
    "%f help modul"
   ]
  },
  {
   "cell_type": "code",
   "execution_count": null,
   "metadata": {},
   "outputs": [],
   "source": [
    "%f none value locals\n",
    "def smallworld():\n",
    "    x = 11\n",
    "    y = 22\n",
    "    peforth.push(locals()).dictate('to locals').ok"
   ]
  },
  {
   "cell_type": "code",
   "execution_count": null,
   "metadata": {
    "scrolled": true
   },
   "outputs": [],
   "source": [
    "peforth.ok()    "
   ]
  },
  {
   "cell_type": "code",
   "execution_count": null,
   "metadata": {},
   "outputs": [],
   "source": [
    "input_fn=lambda:iris_data.train_input_fn(train_x, train_y, args.batch_size)\n",
    "%f \\ lambda:iris_data.train_input_fn(_x, _y, _size)  # 定義時 identifiers 可以亂寫,那這好像是 macro 了?\n",
    "%f input_fn constant i/f\n",
    "%f i/f . cr\n",
    "%f i/f type . cr\n",
    "%f i/f dir . cr\n",
    "%f i/f :> () . cr"
   ]
  },
  {
   "cell_type": "code",
   "execution_count": null,
   "metadata": {},
   "outputs": [],
   "source": [
    "f = lambda:locals\n",
    "\n",
    "def outer():\n",
    "    x = '1'\n",
    "    y = '2'\n",
    "    \n",
    "    def given(locs):\n",
    "        return(locs)\n",
    "    \n",
    "    def getit(locs=locals()):\n",
    "        return(locs) \n",
    "    \n",
    "    def getit2(locs=locals):\n",
    "        return(locs()) \n",
    "    \n",
    "    def testgiven():\n",
    "        x = 33\n",
    "        y = 44\n",
    "        l = given(locals())\n",
    "        return(x,y,l)\n",
    "    \n",
    "    def testgetit():\n",
    "        x = 55\n",
    "        y = 66\n",
    "        l = getit()\n",
    "        return(x,y,l)\n",
    "    \n",
    "    def testgetit2():\n",
    "        x = 77\n",
    "        y = 88\n",
    "        l = getit2()\n",
    "        return(x,y,l)\n",
    "\n",
    "    return testgiven(), testgetit(), testgetit2()\n",
    "\n",
    "outer()"
   ]
  },
  {
   "cell_type": "code",
   "execution_count": null,
   "metadata": {},
   "outputs": [],
   "source": [
    "f = input_fn()"
   ]
  },
  {
   "cell_type": "code",
   "execution_count": null,
   "metadata": {},
   "outputs": [],
   "source": [
    "f"
   ]
  },
  {
   "cell_type": "code",
   "execution_count": null,
   "metadata": {},
   "outputs": [],
   "source": [
    "def myDebugger(loc):\n",
    "    print(loc)\n",
    "\n",
    "def debuggee():\n",
    "    x = 11\n",
    "    peforth.ok('11>', loc=dict(locals()))\n",
    "    x = 22\n",
    "    peforth.ok('22>', loc=dict(locals()))\n",
    "    x = 33\n",
    "    peforth.ok('33>', loc=dict(locals()))\n",
    "\n",
    "debuggee()    \n",
    "\n"
   ]
  }
 ],
 "metadata": {
  "kernelspec": {
   "display_name": "Python 3",
   "language": "python",
   "name": "python3"
  },
  "language_info": {
   "codemirror_mode": {
    "name": "ipython",
    "version": 3
   },
   "file_extension": ".py",
   "mimetype": "text/x-python",
   "name": "python",
   "nbconvert_exporter": "python",
   "pygments_lexer": "ipython3",
   "version": "3.6.0"
  }
 },
 "nbformat": 4,
 "nbformat_minor": 2
}
