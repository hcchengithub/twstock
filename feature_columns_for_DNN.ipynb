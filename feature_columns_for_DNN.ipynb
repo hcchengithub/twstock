{
 "cells": [
  {
   "cell_type": "markdown",
   "metadata": {},
   "source": [
    "# Define the feature_columns for DNNClassifier\n",
    "\n",
    "#### Input\n",
    "#### Output \n",
    "1. %store feature_columns\n"
   ]
  },
  {
   "cell_type": "code",
   "execution_count": 10,
   "metadata": {},
   "outputs": [],
   "source": [
    "import tensorflow as tf\n",
    "import peforth"
   ]
  },
  {
   "cell_type": "markdown",
   "metadata": {},
   "source": [
    "### Define classifier 所需要的 feature_columns\n"
   ]
  },
  {
   "cell_type": "code",
   "execution_count": 12,
   "metadata": {},
   "outputs": [],
   "source": [
    "%%f 讀進 Customer.txt 跟 BorrowerDEPT.txt 轉成 list \n",
    "char Customer.txt readTextFile trim :> split('\\n') value Customers // ( -- list ) ['Annie', 'Astro', 'BENZ', ... ]\n",
    "char BorrowerDEPT.txt readTextFile trim :> split('\\n') value BorrowerDEPT // ( -- list ) ['13P2K0', '13P3K0', '1CK0K0', ... ]"
   ]
  },
  {
   "cell_type": "code",
   "execution_count": 13,
   "metadata": {},
   "outputs": [],
   "source": [
    "Customer = tf.feature_column.categorical_column_with_vocabulary_list(\n",
    "           'Customer', peforth.execute('Customers').pop())\n",
    "BorrowerDEPT = tf.feature_column.categorical_column_with_vocabulary_list(\n",
    "           'BorrowerDEPT', peforth.execute('BorrowerDEPT').pop())\n",
    "\n",
    "# [ ] 2017-7 有 107 種 project name, 設定 200 個 bucket.\n",
    "ProjectName = tf.feature_column.categorical_column_with_hash_bucket(\n",
    "              'ProjectName', 200)\n",
    "\n",
    "# PartNo 比 project name 多很多， 2018-7 有 561 種, 設定 700 個 bucket.\n",
    "PartNo = tf.feature_column.categorical_column_with_hash_bucket('PartNo', 700)\n",
    "\n",
    "# 沒看到 datetime type 不知道 date 該如何設定。比較法，與其用 string 不如用 integer --> integer 用不成， Barcode 太長，只能用 str。\n",
    "Barcode = tf.feature_column.categorical_column_with_hash_bucket('Barcode', 2000) # 最老的 aging 有 1400 天，取 2000.\n",
    "\n",
    "# QTY = tf.feature_column.numeric_column('QTY',dtype=tf.int32)     多說多錯\n",
    "# Days = tf.feature_column.numeric_column('Days',dtype=tf.int32) ) 多說多錯\n",
    "QTY = tf.feature_column.numeric_column('QTY')\n",
    "Days = tf.feature_column.numeric_column('Days')\n"
   ]
  },
  {
   "cell_type": "code",
   "execution_count": 14,
   "metadata": {},
   "outputs": [],
   "source": [
    "# DNNClassifier\n",
    "# DNNClassifier 要求 \"Items of feature_columns must be a _DenseColumn.\"\n",
    "\n",
    "# 所謂 DenseColumn 就是把 categorical column 都包成 embedding_column or indicator_column. 所以前面的基礎上要再加工：\n",
    "\n",
    "# Use indicator columns for low dimensional vocabularies\n",
    "Customer2    = tf.feature_column.indicator_column(Customer)\n",
    "BorrowerDEPT2        = tf.feature_column.indicator_column(BorrowerDEPT)\n",
    "\n",
    "# Use embedding columns for high dimensional vocabularies\n",
    "ProjectName2 = tf.feature_column.embedding_column(ProjectName,10)\n",
    "PartNo2      = tf.feature_column.embedding_column(PartNo,10)\n",
    "Barcode2     = tf.feature_column.embedding_column(Barcode,10)\n",
    "\n",
    "# 打包順序不要緊\n",
    "feature_columns = [Customer2, BorrowerDEPT2, ProjectName2, PartNo2, Barcode2, QTY, Days]"
   ]
  },
  {
   "cell_type": "code",
   "execution_count": 15,
   "metadata": {},
   "outputs": [
    {
     "name": "stdout",
     "output_type": "stream",
     "text": [
      "Stored 'feature_columns' (list)\n"
     ]
    }
   ],
   "source": [
    "# 給將來 Training, Evaluating, Predicting 使用\n",
    "%store feature_columns"
   ]
  },
  {
   "cell_type": "raw",
   "metadata": {},
   "source": [
    "這個做不到\n",
    "%store classifier \n",
    "AttributeError: Can't pickle local object 'DNNClassifier.__init__.<locals>._model_fn'"
   ]
  },
  {
   "cell_type": "markdown",
   "metadata": {},
   "source": [
    "# 完成！"
   ]
  }
 ],
 "metadata": {
  "kernelspec": {
   "display_name": "Python 3",
   "language": "python",
   "name": "python3"
  },
  "language_info": {
   "codemirror_mode": {
    "name": "ipython",
    "version": 3
   },
   "file_extension": ".py",
   "mimetype": "text/x-python",
   "name": "python",
   "nbconvert_exporter": "python",
   "pygments_lexer": "ipython3",
   "version": "3.6.0"
  }
 },
 "nbformat": 4,
 "nbformat_minor": 2
}
