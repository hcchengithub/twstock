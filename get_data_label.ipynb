{
 "cells": [
  {
   "cell_type": "markdown",
   "metadata": {},
   "source": [
    "# Get data and label data-frame from excel file\n",
    "\n",
    "Save a tuble of 'x' and 'y' into jupyter space.\n",
    "\n",
    "#### Input\n",
    "1. NA\n",
    "\n",
    "#### Output \n",
    "1. %store data_label \n",
    "\n",
    "\n",
    "### Usage on the caller notebook\n",
    "    %store -r data_label\n",
    "    x = data_label[0]  # features ndarray[numpy.float64... X 751]\n",
    "    y = data_label[1]  # labels ndarray[numpy.float64]\n",
    "    \n",
    "### Examine the data\n",
    "\n",
    "    [x] 把 data frame 倒成 csv 的方法，用來檢查資料\n",
    "        df.to_csv(file_name, sep='\\t', encoding='utf-8')\n",
    "    [x] 應用 https://pair-code.github.io/facets/ 可看出很多問題。  \n",
    "\n",
    "    "
   ]
  },
  {
   "cell_type": "code",
   "execution_count": 1,
   "metadata": {},
   "outputs": [],
   "source": [
    "import pandas as pd\n",
    "import numpy as np\n",
    "import peforth"
   ]
  },
  {
   "cell_type": "code",
   "execution_count": 2,
   "metadata": {},
   "outputs": [],
   "source": [
    "df = pd.read_csv('000777.csv',encoding='gbk',parse_dates=[0],index_col=0)"
   ]
  },
  {
   "cell_type": "code",
   "execution_count": 3,
   "metadata": {},
   "outputs": [],
   "source": [
    "# pdb.set_trace() # data 本來是新的在上面， sort 過後變成最舊的在上面\n",
    "df.sort_index(0,ascending=True,inplace=True) "
   ]
  },
  {
   "cell_type": "code",
   "execution_count": 4,
   "metadata": {},
   "outputs": [],
   "source": [
    "# data frame 中帶有 None 的 rows 都剔除掉。 \n",
    "data = df.replace(to_replace='None', value=np.nan).dropna()  "
   ]
  },
  {
   "cell_type": "code",
   "execution_count": 5,
   "metadata": {},
   "outputs": [],
   "source": [
    "# 上市第一天的資料不要，因為【漲跌幅】無效。\n",
    "data = data.query('index > \"1997-07-10\"')"
   ]
  },
  {
   "cell_type": "code",
   "execution_count": 6,
   "metadata": {},
   "outputs": [],
   "source": [
    "# raw data has 20 years long, but here only analysis the last 150 days of a chosen day\n",
    "dayfeature=150\n",
    "dayforesee=5  # 問未來幾天如何如何，最後就要扣掉幾天，避免 out of bounds. 0 代表當天。\n",
    "featurenum=5*dayfeature  # 取五個有關係的欄位，特徵值。\n",
    "x=np.zeros((data.shape[0]-dayfeature-dayforesee,featurenum+1))\n",
    "y=np.zeros((data.shape[0]-dayfeature-dayforesee));"
   ]
  },
  {
   "cell_type": "raw",
   "metadata": {},
   "source": [
    "peforth.push(data).dictate('constant data');\n",
    "peforth.push(dayfeature).dictate('constant dayfeature');\n",
    "peforth.push(x).dictate('value x');\n",
    "peforth.push(y).dictate('value y');"
   ]
  },
  {
   "cell_type": "raw",
   "metadata": {},
   "source": [
    "%f data :> shape . cr\n",
    "%f data :> shape[0]-v('dayfeature') . cr\n",
    "peforth.ok();"
   ]
  },
  {
   "cell_type": "code",
   "execution_count": 7,
   "metadata": {},
   "outputs": [],
   "source": [
    "# 重疊 shift 150 天的五個「行情數目」加上下一天的開盤 共 751 個「數目」當作 feature X \n",
    "\n",
    "for i in range(0,data.shape[0]-dayfeature-dayforesee):\n",
    "    x[i,0:featurenum]=np.array(data[i:i+dayfeature] \\\n",
    "          [[u'收盘价',u'最高价',u'最低价',u'开盘价',u'成交量']]).reshape((1,featurenum))\n",
    "    # x[i,featurenum]=data.ix[i+dayfeature][u'开盘价']  # ix deprecated\n",
    "    x[i,featurenum]=data.iloc[i+dayfeature][u'开盘价']"
   ]
  },
  {
   "cell_type": "markdown",
   "metadata": {},
   "source": [
    "# 這裡設定要問 AI 的題目"
   ]
  },
  {
   "cell_type": "code",
   "execution_count": 8,
   "metadata": {},
   "outputs": [],
   "source": [
    "# 預測未來 5 天是否會「漲20%」?\n",
    "\n",
    "# data.shape[0]-dayfeature 是 4489 同上 x, 所以這是在製作相對所有 x 的 y. x 是 (4488, 751)\n",
    "# dayfeature 是 150 \n",
    "# \n",
    "\n",
    "for i in range(0,data.shape[0]-dayfeature-dayforesee):\n",
    "    y[i]=0              \n",
    "    pi = float(data.iloc[i][u'收盘价'])\n",
    "    for j in range(dayforesee):\n",
    "        pi5 = float(data.iloc[j+i+dayfeature][u'最高价'])\n",
    "        if (pi5-pi)/pi >= 0.20 :\n",
    "            y[i]=1\n"
   ]
  },
  {
   "cell_type": "code",
   "execution_count": 36,
   "metadata": {},
   "outputs": [
    {
     "name": "stdout",
     "output_type": "stream",
     "text": [
      "x shape (4483, 751)\n",
      "x type <class 'numpy.ndarray'>, x[0][0] type <class 'numpy.float64'>\n",
      "y shape (4483,)\n",
      "y type <class 'numpy.ndarray'>, y[0] type <class 'numpy.float64'>\n",
      "\n",
      "x: [[9.9700000e+00 9.9700000e+00 8.4800000e+00 ... 1.1990000e+01\n",
      "  1.9075000e+05 1.1650000e+01]\n",
      " [1.0970000e+01 1.0970000e+01 1.0330000e+01 ... 1.1650000e+01\n",
      "  4.1790000e+05 1.1000000e+01]\n",
      " [1.1530000e+01 1.1800000e+01 1.0810000e+01 ... 1.1000000e+01\n",
      "  2.4310400e+05 1.1150000e+01]\n",
      " ...\n",
      " [2.2380000e+01 2.2670000e+01 2.2200000e+01 ... 2.3400000e+01\n",
      "  1.0402149e+07 2.3220000e+01]\n",
      " [2.2630000e+01 2.2660000e+01 2.2310000e+01 ... 2.3220000e+01\n",
      "  1.5360483e+07 2.3410000e+01]\n",
      " [2.2970000e+01 2.3090000e+01 2.2410000e+01 ... 2.3410000e+01\n",
      "  1.0800996e+07 2.2710000e+01]]\n",
      "\n",
      "y: [0. 0. 0. ... 0. 0. 0.]\n",
      "sum of y : 1571.0\n"
     ]
    }
   ],
   "source": [
    "# 核對一下\n",
    "%f __main__ :> x.shape .\" x shape \" . cr\n",
    "%f __main__ :> x dup type .\" x type \" . :> [0][0] type .\" , x[0][0] type \" . cr    \n",
    "%f __main__ :> y.shape .\" y shape \" . cr\n",
    "%f __main__ :> y dup type .\" y type \" . :> [0]    type .\" , y[0] type \" . cr    \n",
    "%f __main__ :> x cr .\" x: \" . cr\n",
    "%f __main__ :> y cr .\" y: \" . cr    \n",
    "%f __main__ :> y py> sum(pop()) .\" sum of y : \" . cr    \n"
   ]
  },
  {
   "cell_type": "code",
   "execution_count": 35,
   "metadata": {},
   "outputs": [
    {
     "name": "stdout",
     "output_type": "stream",
     "text": [
      "Stored 'data_label' (tuple)\n"
     ]
    }
   ],
   "source": [
    "data_label = (x,y)\n",
    "%store data_label"
   ]
  },
  {
   "cell_type": "markdown",
   "metadata": {},
   "source": [
    "### 9. IPython Magic - %store: Pass variables between notebooks.\n",
    "\n",
    "The %store command lets you pass variables between two different notebooks.\n",
    "\n",
    "    data = 'this is the string I want to pass to different notebook'\n",
    "    %store data\n",
    "    del data # This has deleted the variable\n",
    "\n",
    "    Stored 'data' (str)\n",
    "\n",
    "Now, in a new notebook...\n",
    "\n",
    "    %store -r data\n",
    "    print(data)\n",
    "\n",
    "    this is the string I want to pass to different notebook"
   ]
  }
 ],
 "metadata": {
  "kernelspec": {
   "display_name": "Python 3",
   "language": "python",
   "name": "python3"
  },
  "language_info": {
   "codemirror_mode": {
    "name": "ipython",
    "version": 3
   },
   "file_extension": ".py",
   "mimetype": "text/x-python",
   "name": "python",
   "nbconvert_exporter": "python",
   "pygments_lexer": "ipython3",
   "version": "3.6.0"
  }
 },
 "nbformat": 4,
 "nbformat_minor": 2
}
