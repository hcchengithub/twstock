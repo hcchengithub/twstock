{
 "cells": [
  {
   "cell_type": "markdown",
   "metadata": {},
   "source": [
    "# Training\n",
    "\n",
    "#### Input\n",
    "X and y actually in %restore -r data_label\n",
    "\n",
    "#### Output \n",
    "1. Reusable trained model at model_dir which is 'model/linear' or 'model/dnn'.\n"
   ]
  },
  {
   "cell_type": "markdown",
   "metadata": {},
   "source": [
    "### Read data and label"
   ]
  },
  {
   "cell_type": "code",
   "execution_count": 1,
   "metadata": {},
   "outputs": [],
   "source": [
    "import tensorflow as tf\n",
    "import peforth"
   ]
  },
  {
   "cell_type": "code",
   "execution_count": 2,
   "metadata": {},
   "outputs": [],
   "source": [
    "%store -r data_label\n",
    "X = data_label[0]  # features pandas data-frame\n",
    "y = data_label[1]  # labels pandas series"
   ]
  },
  {
   "cell_type": "code",
   "execution_count": 3,
   "metadata": {},
   "outputs": [
    {
     "name": "stdout",
     "output_type": "stream",
     "text": [
      "(4483, 751)\n",
      "(4483,)\n"
     ]
    }
   ],
   "source": [
    "# 核對一下 shapes \n",
    "%f __main__ :> X.shape . cr\n",
    "%f __main__ :> y.shape . cr"
   ]
  },
  {
   "cell_type": "markdown",
   "metadata": {},
   "source": [
    "有甚麼 tf.estimator.inputs.??? 適合 751 個 numpy.float64?"
   ]
  },
  {
   "cell_type": "code",
   "execution_count": 6,
   "metadata": {},
   "outputs": [
    {
     "data": {
      "text/plain": [
       "'1.8.0'"
      ]
     },
     "execution_count": 6,
     "metadata": {},
     "output_type": "execute_result"
    }
   ],
   "source": [
    "tf.__version__"
   ]
  },
  {
   "cell_type": "code",
   "execution_count": 9,
   "metadata": {},
   "outputs": [
    {
     "name": "stdout",
     "output_type": "stream",
     "text": [
      "Help on function numpy_input_fn in module tensorflow.python.estimator.inputs.numpy_io:\n",
      "\n",
      "numpy_input_fn(x, y=None, batch_size=128, num_epochs=1, shuffle=None, queue_capacity=1000, num_threads=1)\n",
      "    Returns input function that would feed dict of numpy arrays into the model.\n",
      "    \n",
      "    This returns a function outputting `features` and `targets` based on the dict\n",
      "    of numpy arrays. The dict `features` has the same keys as the `x`. The dict\n",
      "    `targets` has the same keys as the `y` if `y` is a dict.\n",
      "    \n",
      "    Example:\n",
      "    \n",
      "    ```python\n",
      "    age = np.arange(4) * 1.0\n",
      "    height = np.arange(32, 36)\n",
      "    x = {'age': age, 'height': height}\n",
      "    y = np.arange(-32, -28)\n",
      "    \n",
      "    with tf.Session() as session:\n",
      "      input_fn = numpy_io.numpy_input_fn(\n",
      "          x, y, batch_size=2, shuffle=False, num_epochs=1)\n",
      "    ```\n",
      "    \n",
      "    Args:\n",
      "      x: numpy array object or dict of numpy array objects. If an array,\n",
      "        the array will be treated as a single feature.\n",
      "      y: numpy array object or dict of numpy array object. `None` if absent.\n",
      "      batch_size: Integer, size of batches to return.\n",
      "      num_epochs: Integer, number of epochs to iterate over data. If `None` will\n",
      "        run forever.\n",
      "      shuffle: Boolean, if True shuffles the queue. Avoid shuffle at prediction\n",
      "        time.\n",
      "      queue_capacity: Integer, size of queue to accumulate.\n",
      "      num_threads: Integer, number of threads used for reading and enqueueing. In\n",
      "        order to have predicted and repeatable order of reading and enqueueing,\n",
      "        such as in prediction and evaluation mode, `num_threads` should be 1.\n",
      "    \n",
      "    Returns:\n",
      "      Function, that has signature of ()->(dict of `features`, `targets`)\n",
      "    \n",
      "    Raises:\n",
      "      ValueError: if the shape of `y` mismatches the shape of values in `x` (i.e.,\n",
      "        values in `x` have same shape).\n",
      "      ValueError: if duplicate keys are in both `x` and `y` when `y` is a dict.\n",
      "      ValueError: if x or y is an empty dict.\n",
      "      TypeError: `x` is not a dict or array, or if `shuffle` is not bool.\n",
      "\n"
     ]
    }
   ],
   "source": [
    "help(tf.estimator.inputs.numpy_input_fn)"
   ]
  },
  {
   "cell_type": "markdown",
   "metadata": {},
   "source": [
    "### Prepare input function"
   ]
  },
  {
   "cell_type": "code",
   "execution_count": 10,
   "metadata": {},
   "outputs": [],
   "source": [
    "# Make input function for training: \n",
    "#   num_epochs=None -> will cycle through input data forever\n",
    "#   shuffle=True -> randomize order of input data\n",
    "# training_input_fn = tf.estimator.inputs.pandas_input_fn(\n",
    "training_input_fn = tf.estimator.inputs.numpy_input_fn(\n",
    "    x=X, \n",
    "    y=y, \n",
    "    batch_size=128,  # 拿掉 batch size accuracy 可由 0.93 提高到 0.96! 執行該 function 可看到 default 就是 128 \n",
    "    shuffle=True, \n",
    "    num_epochs=None,  # Repeat forever\n",
    "    )"
   ]
  },
  {
   "cell_type": "markdown",
   "metadata": {},
   "source": [
    "### Define classifier 所需要的 feature_columns\n"
   ]
  },
  {
   "cell_type": "code",
   "execution_count": 5,
   "metadata": {},
   "outputs": [
    {
     "data": {
      "application/javascript": [
       "alert(\"feature_columns_for_DNN.ipynb: Customer.txt (客戶) 跟 BorrowerDEPT.txt (部門代碼) 列表可能有變化，使用前要考慮更新。\")"
      ],
      "text/plain": [
       "<IPython.core.display.Javascript object>"
      ]
     },
     "metadata": {},
     "output_type": "display_data"
    },
    {
     "name": "stdout",
     "output_type": "stream",
     "text": [
      "Stored 'feature_columns' (list)\n"
     ]
    }
   ],
   "source": [
    "%run feature_columns_for_DNN.ipynb"
   ]
  },
  {
   "cell_type": "markdown",
   "metadata": {},
   "source": [
    "### 祭出 DNNClassifier \n",
    "\n",
    "Classifier 無法跨 notebook save-restore 只能當地定義，所以恐怕會有多處定義不一致的狀況發生。\n",
    "可以引用同一 source code string 的方式解決。"
   ]
  },
  {
   "cell_type": "code",
   "execution_count": null,
   "metadata": {},
   "outputs": [],
   "source": [
    "%%js\n",
    "alert(\"DNNClassifier_Training.ipynb: 清掉整個 model 的動作，若有需要手動做。\")\n",
    "// 若想清除現有的神經網路，從頭重新訓練（而非疊加上去），將 project 根目錄下的 model 子目錄整個刪掉，重新訓練。"
   ]
  },
  {
   "cell_type": "code",
   "execution_count": 11,
   "metadata": {},
   "outputs": [
    {
     "ename": "TypeError",
     "evalue": "__init__() missing 1 required positional argument: 'feature_columns'",
     "output_type": "error",
     "traceback": [
      "\u001b[1;31m---------------------------------------------------------------------------\u001b[0m",
      "\u001b[1;31mTypeError\u001b[0m                                 Traceback (most recent call last)",
      "\u001b[1;32m<ipython-input-11-f73a69146f3e>\u001b[0m in \u001b[0;36m<module>\u001b[1;34m()\u001b[0m\n\u001b[0;32m      4\u001b[0m     \u001b[1;31m# feature_columns=feature_columns,\u001b[0m\u001b[1;33m\u001b[0m\u001b[1;33m\u001b[0m\u001b[0m\n\u001b[0;32m      5\u001b[0m     \u001b[0mn_classes\u001b[0m\u001b[1;33m=\u001b[0m\u001b[1;36m2\u001b[0m\u001b[1;33m,\u001b[0m\u001b[1;33m\u001b[0m\u001b[0m\n\u001b[1;32m----> 6\u001b[1;33m     model_dir='model/dnn')\n\u001b[0m",
      "\u001b[1;31mTypeError\u001b[0m: __init__() missing 1 required positional argument: 'feature_columns'"
     ]
    }
   ],
   "source": [
    "\n",
    "classifier = tf.estimator.DNNClassifier(\n",
    "    hidden_units=[24, 24, 24],  # 只隨便用了小小三層神經網路兒，對付 WH300 已經很好了 \n",
    "    # feature_columns=feature_columns, \n",
    "    n_classes=2, \n",
    "    model_dir='model/dnn')"
   ]
  },
  {
   "cell_type": "markdown",
   "metadata": {},
   "source": [
    "### 開始訓練"
   ]
  },
  {
   "cell_type": "code",
   "execution_count": 7,
   "metadata": {},
   "outputs": [
    {
     "name": "stdout",
     "output_type": "stream",
     "text": [
      "INFO:tensorflow:Create CheckpointSaverHook.\n",
      "INFO:tensorflow:Restoring parameters from model/dnn\\model.ckpt-2000\n",
      "INFO:tensorflow:Saving checkpoints for 2001 into model/dnn\\model.ckpt.\n",
      "INFO:tensorflow:loss = 0.0029042198, step = 2001\n",
      "INFO:tensorflow:global_step/sec: 298.118\n",
      "INFO:tensorflow:loss = 0.010137888, step = 2101 (0.338 sec)\n",
      "INFO:tensorflow:global_step/sec: 381.495\n",
      "INFO:tensorflow:loss = 0.0063057547, step = 2201 (0.261 sec)\n",
      "INFO:tensorflow:global_step/sec: 385.67\n",
      "INFO:tensorflow:loss = 0.0040197806, step = 2301 (0.259 sec)\n",
      "INFO:tensorflow:global_step/sec: 391.073\n",
      "INFO:tensorflow:loss = 0.0076776473, step = 2401 (0.256 sec)\n",
      "INFO:tensorflow:global_step/sec: 372.118\n",
      "INFO:tensorflow:loss = 0.0035029277, step = 2501 (0.270 sec)\n",
      "INFO:tensorflow:global_step/sec: 437.401\n",
      "INFO:tensorflow:loss = 0.013013186, step = 2601 (0.230 sec)\n",
      "INFO:tensorflow:global_step/sec: 439.334\n",
      "INFO:tensorflow:loss = 0.003639584, step = 2701 (0.227 sec)\n",
      "INFO:tensorflow:global_step/sec: 452.048\n",
      "INFO:tensorflow:loss = 0.0029749598, step = 2801 (0.222 sec)\n",
      "INFO:tensorflow:global_step/sec: 428.879\n",
      "INFO:tensorflow:loss = 0.0050716987, step = 2901 (0.231 sec)\n",
      "INFO:tensorflow:global_step/sec: 386.549\n",
      "INFO:tensorflow:loss = 0.005172439, step = 3001 (0.260 sec)\n",
      "INFO:tensorflow:global_step/sec: 294.588\n",
      "INFO:tensorflow:loss = 0.004492596, step = 3101 (0.338 sec)\n",
      "INFO:tensorflow:global_step/sec: 346.88\n",
      "INFO:tensorflow:loss = 0.0024584408, step = 3201 (0.290 sec)\n",
      "INFO:tensorflow:global_step/sec: 313.613\n",
      "INFO:tensorflow:loss = 0.0027546408, step = 3301 (0.322 sec)\n",
      "INFO:tensorflow:global_step/sec: 297.695\n",
      "INFO:tensorflow:loss = 0.0023793948, step = 3401 (0.332 sec)\n",
      "INFO:tensorflow:global_step/sec: 306.856\n",
      "INFO:tensorflow:loss = 0.0038283423, step = 3501 (0.328 sec)\n",
      "INFO:tensorflow:global_step/sec: 433.586\n",
      "INFO:tensorflow:loss = 0.004982424, step = 3601 (0.228 sec)\n",
      "INFO:tensorflow:global_step/sec: 377.758\n",
      "INFO:tensorflow:loss = 0.0030668983, step = 3701 (0.267 sec)\n",
      "INFO:tensorflow:global_step/sec: 341.039\n",
      "INFO:tensorflow:loss = 0.0025886022, step = 3801 (0.293 sec)\n",
      "INFO:tensorflow:global_step/sec: 407.838\n",
      "INFO:tensorflow:loss = 0.00745455, step = 3901 (0.245 sec)\n",
      "INFO:tensorflow:Saving checkpoints for 4000 into model/dnn\\model.ckpt.\n",
      "INFO:tensorflow:Loss for final step: 0.0029338105.\n"
     ]
    },
    {
     "data": {
      "text/plain": [
       "<tensorflow.python.estimator.canned.dnn.DNNClassifier at 0x1e9647afc50>"
      ]
     },
     "execution_count": 7,
     "metadata": {},
     "output_type": "execute_result"
    }
   ],
   "source": [
    "classifier.train(input_fn=training_input_fn, steps=2000)"
   ]
  },
  {
   "cell_type": "markdown",
   "metadata": {},
   "source": [
    "# 完成！\n",
    "\n",
    "此後 model_dir (即 model/dnn) 裡訓練好的 DNNClassifier 可以隨時調用了。"
   ]
  },
  {
   "cell_type": "markdown",
   "metadata": {},
   "source": [
    "### 用 TensorBoard 查看訓練記錄圖表"
   ]
  },
  {
   "cell_type": "raw",
   "metadata": {},
   "source": [
    "!start tensorboard --logdir=model/linear"
   ]
  }
 ],
 "metadata": {
  "kernelspec": {
   "display_name": "Python 3",
   "language": "python",
   "name": "python3"
  },
  "language_info": {
   "codemirror_mode": {
    "name": "ipython",
    "version": 3
   },
   "file_extension": ".py",
   "mimetype": "text/x-python",
   "name": "python",
   "nbconvert_exporter": "python",
   "pygments_lexer": "ipython3",
   "version": "3.6.0"
  }
 },
 "nbformat": 4,
 "nbformat_minor": 2
}
